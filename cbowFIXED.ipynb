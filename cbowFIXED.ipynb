{
  "cells": [
    {
      "cell_type": "markdown",
      "metadata": {
        "id": "view-in-github",
        "colab_type": "text"
      },
      "source": [
        "<a href=\"https://colab.research.google.com/github/edzimmermann/NLP/blob/main/cbowFIXED.ipynb\" target=\"_parent\"><img src=\"https://colab.research.google.com/assets/colab-badge.svg\" alt=\"Open In Colab\"/></a>"
      ]
    },
    {
      "cell_type": "markdown",
      "metadata": {
        "toc": true,
        "id": "XluvMUq92PwB"
      },
      "source": [
        "<h1>Table of Contents<span class=\"tocSkip\"></span></h1>\n",
        "<div class=\"toc\" style=\"margin-top: 1em;\"><ul class=\"toc-item\"><li><span><a href=\"#Text-Classification\" data-toc-modified-id=\"Text-Classification-1\"><span class=\"toc-item-num\">1&nbsp;&nbsp;</span>Text Classification</a></span><ul class=\"toc-item\"><li><span><a href=\"#Subjectivity-Dataset\" data-toc-modified-id=\"Subjectivity-Dataset-1.1\"><span class=\"toc-item-num\">1.1&nbsp;&nbsp;</span>Subjectivity Dataset</a></span></li><li><span><a href=\"#Tokenization\" data-toc-modified-id=\"Tokenization-1.2\"><span class=\"toc-item-num\">1.2&nbsp;&nbsp;</span>Tokenization</a></span><ul class=\"toc-item\"><li><span><a href=\"#Simple-Tokenization\" data-toc-modified-id=\"Simple-Tokenization-1.2.1\"><span class=\"toc-item-num\">1.2.1&nbsp;&nbsp;</span>Simple Tokenization</a></span></li><li><span><a href=\"#Much-better-tokenization-with-Spacy\" data-toc-modified-id=\"Much-better-tokenization-with-Spacy-1.2.2\"><span class=\"toc-item-num\">1.2.2&nbsp;&nbsp;</span>Much better tokenization with Spacy</a></span></li></ul></li><li><span><a href=\"#Split-dataset-in-train-and-validation\" data-toc-modified-id=\"Split-dataset-in-train-and-validation-1.3\"><span class=\"toc-item-num\">1.3&nbsp;&nbsp;</span>Split dataset in train and validation</a></span></li><li><span><a href=\"#Word-to-index-mapping\" data-toc-modified-id=\"Word-to-index-mapping-1.4\"><span class=\"toc-item-num\">1.4&nbsp;&nbsp;</span>Word to index mapping</a></span></li><li><span><a href=\"#Sentence-encoding\" data-toc-modified-id=\"Sentence-encoding-1.5\"><span class=\"toc-item-num\">1.5&nbsp;&nbsp;</span>Sentence encoding</a></span></li><li><span><a href=\"#Embedding-layer\" data-toc-modified-id=\"Embedding-layer-1.6\"><span class=\"toc-item-num\">1.6&nbsp;&nbsp;</span>Embedding layer</a></span></li><li><span><a href=\"#Continuous-Bag-of-Words-Model\" data-toc-modified-id=\"Continuous-Bag-of-Words-Model-1.7\"><span class=\"toc-item-num\">1.7&nbsp;&nbsp;</span>Continuous Bag of Words Model</a></span></li></ul></li><li><span><a href=\"#Training-the-CBOW-model\" data-toc-modified-id=\"Training-the-CBOW-model-2\"><span class=\"toc-item-num\">2&nbsp;&nbsp;</span>Training the CBOW model</a></span></li><li><span><a href=\"#Data-loaders-for-SGD\" data-toc-modified-id=\"Data-loaders-for-SGD-3\"><span class=\"toc-item-num\">3&nbsp;&nbsp;</span>Data loaders for SGD</a></span></li></ul></div>"
      ]
    },
    {
      "cell_type": "code",
      "execution_count": null,
      "metadata": {
        "id": "egNI_oMY2PwD"
      },
      "outputs": [],
      "source": [
        "# import pytorch libraries\n",
        "%matplotlib inline\n",
        "import torch\n",
        "import torch.autograd as autograd\n",
        "import torch.nn as nn\n",
        "import torch.nn.functional as F\n",
        "import torch.optim as optim\n",
        "import numpy as np"
      ]
    },
    {
      "cell_type": "markdown",
      "metadata": {
        "id": "s22RwFRk2PwE"
      },
      "source": [
        "# Text Classification\n",
        "In this part of the tutorial we develop a continuous bag of words (CBOW) model for a text classification task described [here]( https://people.cs.umass.edu/~miyyer/pubs/2015_acl_dan.pdf). The CBOW model was first described [here](https://arxiv.org/pdf/1301.3781.pdf)"
      ]
    },
    {
      "cell_type": "markdown",
      "metadata": {
        "id": "fInjziKA2PwE"
      },
      "source": [
        "## Subjectivity Dataset\n",
        "The subjectivity dataset has 5000 subjective and 5000 objective processed sentences. To get the data:\n",
        "```\n",
        "wget http://www.cs.cornell.edu/people/pabo/movie-review-data/rotten_imdb.tar.gz\n",
        "```"
      ]
    },
    {
      "cell_type": "code",
      "execution_count": 15,
      "metadata": {
        "id": "xXwVqJ532PwE"
      },
      "outputs": [],
      "source": [
        "def unpack_dataset():\n",
        "    ! wget http://www.cs.cornell.edu/people/pabo/movie-review-data/rotten_imdb.tar.gz\n",
        "    ! mkdir data\n",
        "    ! tar -xvf rotten_imdb.tar.gz -C data"
      ]
    },
    {
      "cell_type": "code",
      "execution_count": 16,
      "metadata": {
        "id": "azbY-M4b2PwF",
        "outputId": "65e4b46d-660c-4378-be00-6fc45c551be8",
        "colab": {
          "base_uri": "https://localhost:8080/"
        }
      },
      "outputs": [
        {
          "output_type": "stream",
          "name": "stdout",
          "text": [
            "URL transformed to HTTPS due to an HSTS policy\n",
            "--2024-09-18 16:04:35--  https://www.cs.cornell.edu/people/pabo/movie-review-data/rotten_imdb.tar.gz\n",
            "Resolving www.cs.cornell.edu (www.cs.cornell.edu)... 132.236.207.53\n",
            "Connecting to www.cs.cornell.edu (www.cs.cornell.edu)|132.236.207.53|:443... connected.\n",
            "HTTP request sent, awaiting response... 200 OK\n",
            "Length: 519599 (507K) [application/x-gzip]\n",
            "Saving to: ‘rotten_imdb.tar.gz.1’\n",
            "\n",
            "\rrotten_imdb.tar.gz.   0%[                    ]       0  --.-KB/s               \rrotten_imdb.tar.gz. 100%[===================>] 507.42K  --.-KB/s    in 0.08s   \n",
            "\n",
            "2024-09-18 16:04:36 (5.88 MB/s) - ‘rotten_imdb.tar.gz.1’ saved [519599/519599]\n",
            "\n",
            "mkdir: cannot create directory ‘data’: File exists\n",
            "quote.tok.gt9.5000\n",
            "plot.tok.gt9.5000\n",
            "subjdata.README.1.0\n"
          ]
        }
      ],
      "source": [
        "unpack_dataset()"
      ]
    },
    {
      "cell_type": "code",
      "execution_count": 17,
      "metadata": {
        "id": "bNZmKIrI2PwH",
        "outputId": "2685eab7-aa1f-4899-9658-7804435fbcba",
        "colab": {
          "base_uri": "https://localhost:8080/"
        }
      },
      "outputs": [
        {
          "output_type": "stream",
          "name": "stdout",
          "text": [
            "plot.tok.gt9.5000  quote.tok.gt9.5000  subjdata.README.1.0\n"
          ]
        }
      ],
      "source": [
        "!ls data"
      ]
    },
    {
      "cell_type": "code",
      "execution_count": 18,
      "metadata": {
        "id": "16yOv7xT2PwH",
        "outputId": "906fe55e-fbd6-4b6b-8558-e725e6c1d9c8",
        "colab": {
          "base_uri": "https://localhost:8080/"
        }
      },
      "outputs": [
        {
          "output_type": "stream",
          "name": "stdout",
          "text": [
            "the movie begins in the past where a young boy named sam attempts to save celebi from a hunter . \n",
            "emerging from the human psyche and showing characteristics of abstract expressionism , minimalism and russian constructivism , graffiti removal has secured its place in the history of modern art while being created by artists who are unconscious of their artistic achievements . \n"
          ]
        }
      ],
      "source": [
        "! head -2 data/plot.tok.gt9.5000"
      ]
    },
    {
      "cell_type": "code",
      "execution_count": 19,
      "metadata": {
        "id": "luDU1y0I2PwI",
        "outputId": "90bf7e34-fffe-48e1-85fc-204b1b294e34",
        "colab": {
          "base_uri": "https://localhost:8080/"
        }
      },
      "outputs": [
        {
          "output_type": "execute_result",
          "data": {
            "text/plain": [
              "[PosixPath('data/plot.tok.gt9.5000'),\n",
              " PosixPath('data/quote.tok.gt9.5000'),\n",
              " PosixPath('data/subjdata.README.1.0')]"
            ]
          },
          "metadata": {},
          "execution_count": 19
        }
      ],
      "source": [
        "from pathlib import Path\n",
        "PATH = Path(\"data\")\n",
        "list(PATH.iterdir())"
      ]
    },
    {
      "cell_type": "markdown",
      "metadata": {
        "id": "2ahktx6N2PwI"
      },
      "source": [
        "## Tokenization\n",
        "Tokenization is the task of chopping up text into pieces, called tokens.\n",
        "\n",
        "spaCy is an open-source software library for advanced Natural Language Processing. Here we will use it for tokenization.  "
      ]
    },
    {
      "cell_type": "markdown",
      "metadata": {
        "id": "XwfaXkzb2PwI"
      },
      "source": [
        "### Simple Tokenization"
      ]
    },
    {
      "cell_type": "code",
      "execution_count": 21,
      "metadata": {
        "id": "qmIZSygA2PwJ"
      },
      "outputs": [],
      "source": [
        "# We need each line in the file\n",
        "def read_file(path):\n",
        "    \"\"\" Read file returns a list of lines.\n",
        "    \"\"\"\n",
        "    with open(path, encoding = \"ISO-8859-1\") as f:\n",
        "        content = f.readlines()\n",
        "    return content"
      ]
    },
    {
      "cell_type": "code",
      "execution_count": 22,
      "metadata": {
        "id": "WqEuMEm32PwJ"
      },
      "outputs": [],
      "source": [
        "obj_lines = read_file(PATH/\"plot.tok.gt9.5000\")"
      ]
    },
    {
      "cell_type": "code",
      "execution_count": 23,
      "metadata": {
        "id": "LOPM6KUS2PwJ",
        "outputId": "0ddabc6e-a20d-4df0-f290-401cf8251d42",
        "colab": {
          "base_uri": "https://localhost:8080/",
          "height": 53
        }
      },
      "outputs": [
        {
          "output_type": "execute_result",
          "data": {
            "text/plain": [
              "'the movie begins in the past where a young boy named sam attempts to save celebi from a hunter . \\n'"
            ],
            "application/vnd.google.colaboratory.intrinsic+json": {
              "type": "string"
            }
          },
          "metadata": {},
          "execution_count": 23
        }
      ],
      "source": [
        "obj_lines[0]"
      ]
    },
    {
      "cell_type": "code",
      "execution_count": null,
      "metadata": {
        "id": "oE3KTF032PwJ",
        "outputId": "c58b4c7f-bf34-4f9f-b978-f172251f3d02",
        "colab": {
          "base_uri": "https://localhost:8080/"
        }
      },
      "outputs": [
        {
          "output_type": "execute_result",
          "data": {
            "text/plain": [
              "array(['the', 'movie', 'begins', 'in', 'the', 'past', 'where', 'a',\n",
              "       'young', 'boy', 'named', 'sam', 'attempts', 'to', 'save', 'celebi',\n",
              "       'from', 'a', 'hunter', '.'], dtype='<U8')"
            ]
          },
          "metadata": {},
          "execution_count": 10
        }
      ],
      "source": [
        "np.array(obj_lines[0].strip().lower().split(\" \"))"
      ]
    },
    {
      "cell_type": "markdown",
      "metadata": {
        "id": "_5Ob6uno2PwK"
      },
      "source": [
        "### Much better tokenization with Spacy"
      ]
    },
    {
      "cell_type": "code",
      "execution_count": 24,
      "metadata": {
        "id": "IrtROy2n2PwK",
        "colab": {
          "base_uri": "https://localhost:8080/"
        },
        "outputId": "3e3bdecf-956a-46d0-c24c-768b49252954"
      },
      "outputs": [
        {
          "output_type": "stream",
          "name": "stdout",
          "text": [
            "Requirement already satisfied: spacy in /usr/local/lib/python3.10/dist-packages (3.7.6)\n",
            "Requirement already satisfied: spacy-legacy<3.1.0,>=3.0.11 in /usr/local/lib/python3.10/dist-packages (from spacy) (3.0.12)\n",
            "Requirement already satisfied: spacy-loggers<2.0.0,>=1.0.0 in /usr/local/lib/python3.10/dist-packages (from spacy) (1.0.5)\n",
            "Requirement already satisfied: murmurhash<1.1.0,>=0.28.0 in /usr/local/lib/python3.10/dist-packages (from spacy) (1.0.10)\n",
            "Requirement already satisfied: cymem<2.1.0,>=2.0.2 in /usr/local/lib/python3.10/dist-packages (from spacy) (2.0.8)\n",
            "Requirement already satisfied: preshed<3.1.0,>=3.0.2 in /usr/local/lib/python3.10/dist-packages (from spacy) (3.0.9)\n",
            "Requirement already satisfied: thinc<8.3.0,>=8.2.2 in /usr/local/lib/python3.10/dist-packages (from spacy) (8.2.5)\n",
            "Requirement already satisfied: wasabi<1.2.0,>=0.9.1 in /usr/local/lib/python3.10/dist-packages (from spacy) (1.1.3)\n",
            "Requirement already satisfied: srsly<3.0.0,>=2.4.3 in /usr/local/lib/python3.10/dist-packages (from spacy) (2.4.8)\n",
            "Requirement already satisfied: catalogue<2.1.0,>=2.0.6 in /usr/local/lib/python3.10/dist-packages (from spacy) (2.0.10)\n",
            "Requirement already satisfied: weasel<0.5.0,>=0.1.0 in /usr/local/lib/python3.10/dist-packages (from spacy) (0.4.1)\n",
            "Requirement already satisfied: typer<1.0.0,>=0.3.0 in /usr/local/lib/python3.10/dist-packages (from spacy) (0.12.5)\n",
            "Requirement already satisfied: tqdm<5.0.0,>=4.38.0 in /usr/local/lib/python3.10/dist-packages (from spacy) (4.66.5)\n",
            "Requirement already satisfied: requests<3.0.0,>=2.13.0 in /usr/local/lib/python3.10/dist-packages (from spacy) (2.32.3)\n",
            "Requirement already satisfied: pydantic!=1.8,!=1.8.1,<3.0.0,>=1.7.4 in /usr/local/lib/python3.10/dist-packages (from spacy) (2.9.1)\n",
            "Requirement already satisfied: jinja2 in /usr/local/lib/python3.10/dist-packages (from spacy) (3.1.4)\n",
            "Requirement already satisfied: setuptools in /usr/local/lib/python3.10/dist-packages (from spacy) (71.0.4)\n",
            "Requirement already satisfied: packaging>=20.0 in /usr/local/lib/python3.10/dist-packages (from spacy) (24.1)\n",
            "Requirement already satisfied: langcodes<4.0.0,>=3.2.0 in /usr/local/lib/python3.10/dist-packages (from spacy) (3.4.0)\n",
            "Requirement already satisfied: numpy>=1.19.0 in /usr/local/lib/python3.10/dist-packages (from spacy) (1.26.4)\n",
            "Requirement already satisfied: language-data>=1.2 in /usr/local/lib/python3.10/dist-packages (from langcodes<4.0.0,>=3.2.0->spacy) (1.2.0)\n",
            "Requirement already satisfied: annotated-types>=0.6.0 in /usr/local/lib/python3.10/dist-packages (from pydantic!=1.8,!=1.8.1,<3.0.0,>=1.7.4->spacy) (0.7.0)\n",
            "Requirement already satisfied: pydantic-core==2.23.3 in /usr/local/lib/python3.10/dist-packages (from pydantic!=1.8,!=1.8.1,<3.0.0,>=1.7.4->spacy) (2.23.3)\n",
            "Requirement already satisfied: typing-extensions>=4.6.1 in /usr/local/lib/python3.10/dist-packages (from pydantic!=1.8,!=1.8.1,<3.0.0,>=1.7.4->spacy) (4.12.2)\n",
            "Requirement already satisfied: charset-normalizer<4,>=2 in /usr/local/lib/python3.10/dist-packages (from requests<3.0.0,>=2.13.0->spacy) (3.3.2)\n",
            "Requirement already satisfied: idna<4,>=2.5 in /usr/local/lib/python3.10/dist-packages (from requests<3.0.0,>=2.13.0->spacy) (3.8)\n",
            "Requirement already satisfied: urllib3<3,>=1.21.1 in /usr/local/lib/python3.10/dist-packages (from requests<3.0.0,>=2.13.0->spacy) (2.0.7)\n",
            "Requirement already satisfied: certifi>=2017.4.17 in /usr/local/lib/python3.10/dist-packages (from requests<3.0.0,>=2.13.0->spacy) (2024.8.30)\n",
            "Requirement already satisfied: blis<0.8.0,>=0.7.8 in /usr/local/lib/python3.10/dist-packages (from thinc<8.3.0,>=8.2.2->spacy) (0.7.11)\n",
            "Requirement already satisfied: confection<1.0.0,>=0.0.1 in /usr/local/lib/python3.10/dist-packages (from thinc<8.3.0,>=8.2.2->spacy) (0.1.5)\n",
            "Requirement already satisfied: click>=8.0.0 in /usr/local/lib/python3.10/dist-packages (from typer<1.0.0,>=0.3.0->spacy) (8.1.7)\n",
            "Requirement already satisfied: shellingham>=1.3.0 in /usr/local/lib/python3.10/dist-packages (from typer<1.0.0,>=0.3.0->spacy) (1.5.4)\n",
            "Requirement already satisfied: rich>=10.11.0 in /usr/local/lib/python3.10/dist-packages (from typer<1.0.0,>=0.3.0->spacy) (13.8.1)\n",
            "Requirement already satisfied: cloudpathlib<1.0.0,>=0.7.0 in /usr/local/lib/python3.10/dist-packages (from weasel<0.5.0,>=0.1.0->spacy) (0.19.0)\n",
            "Requirement already satisfied: smart-open<8.0.0,>=5.2.1 in /usr/local/lib/python3.10/dist-packages (from weasel<0.5.0,>=0.1.0->spacy) (7.0.4)\n",
            "Requirement already satisfied: MarkupSafe>=2.0 in /usr/local/lib/python3.10/dist-packages (from jinja2->spacy) (2.1.5)\n",
            "Requirement already satisfied: marisa-trie>=0.7.7 in /usr/local/lib/python3.10/dist-packages (from language-data>=1.2->langcodes<4.0.0,>=3.2.0->spacy) (1.2.0)\n",
            "Requirement already satisfied: markdown-it-py>=2.2.0 in /usr/local/lib/python3.10/dist-packages (from rich>=10.11.0->typer<1.0.0,>=0.3.0->spacy) (3.0.0)\n",
            "Requirement already satisfied: pygments<3.0.0,>=2.13.0 in /usr/local/lib/python3.10/dist-packages (from rich>=10.11.0->typer<1.0.0,>=0.3.0->spacy) (2.16.1)\n",
            "Requirement already satisfied: wrapt in /usr/local/lib/python3.10/dist-packages (from smart-open<8.0.0,>=5.2.1->weasel<0.5.0,>=0.1.0->spacy) (1.16.0)\n",
            "Requirement already satisfied: mdurl~=0.1 in /usr/local/lib/python3.10/dist-packages (from markdown-it-py>=2.2.0->rich>=10.11.0->typer<1.0.0,>=0.3.0->spacy) (0.1.2)\n"
          ]
        }
      ],
      "source": [
        "!pip install -U spacy"
      ]
    },
    {
      "cell_type": "code",
      "execution_count": 25,
      "metadata": {
        "id": "IDrpg37W2PwK"
      },
      "outputs": [],
      "source": [
        "import spacy"
      ]
    },
    {
      "cell_type": "code",
      "execution_count": 26,
      "metadata": {
        "id": "U-bLxFNb2PwK",
        "colab": {
          "base_uri": "https://localhost:8080/"
        },
        "outputId": "c1b1ce9c-bac4-49e0-818c-6db6ba9f329f"
      },
      "outputs": [
        {
          "output_type": "stream",
          "name": "stdout",
          "text": [
            "\u001b[38;5;3m⚠ As of spaCy v3.0, shortcuts like 'en' are deprecated. Please use the\n",
            "full pipeline package name 'en_core_web_sm' instead.\u001b[0m\n",
            "Collecting en-core-web-sm==3.7.1\n",
            "  Downloading https://github.com/explosion/spacy-models/releases/download/en_core_web_sm-3.7.1/en_core_web_sm-3.7.1-py3-none-any.whl (12.8 MB)\n",
            "\u001b[2K     \u001b[90m━━━━━━━━━━━━━━━━━━━━━━━━━━━━━━━━━━━━━━━━\u001b[0m \u001b[32m12.8/12.8 MB\u001b[0m \u001b[31m89.9 MB/s\u001b[0m eta \u001b[36m0:00:00\u001b[0m\n",
            "\u001b[?25hRequirement already satisfied: spacy<3.8.0,>=3.7.2 in /usr/local/lib/python3.10/dist-packages (from en-core-web-sm==3.7.1) (3.7.6)\n",
            "Requirement already satisfied: spacy-legacy<3.1.0,>=3.0.11 in /usr/local/lib/python3.10/dist-packages (from spacy<3.8.0,>=3.7.2->en-core-web-sm==3.7.1) (3.0.12)\n",
            "Requirement already satisfied: spacy-loggers<2.0.0,>=1.0.0 in /usr/local/lib/python3.10/dist-packages (from spacy<3.8.0,>=3.7.2->en-core-web-sm==3.7.1) (1.0.5)\n",
            "Requirement already satisfied: murmurhash<1.1.0,>=0.28.0 in /usr/local/lib/python3.10/dist-packages (from spacy<3.8.0,>=3.7.2->en-core-web-sm==3.7.1) (1.0.10)\n",
            "Requirement already satisfied: cymem<2.1.0,>=2.0.2 in /usr/local/lib/python3.10/dist-packages (from spacy<3.8.0,>=3.7.2->en-core-web-sm==3.7.1) (2.0.8)\n",
            "Requirement already satisfied: preshed<3.1.0,>=3.0.2 in /usr/local/lib/python3.10/dist-packages (from spacy<3.8.0,>=3.7.2->en-core-web-sm==3.7.1) (3.0.9)\n",
            "Requirement already satisfied: thinc<8.3.0,>=8.2.2 in /usr/local/lib/python3.10/dist-packages (from spacy<3.8.0,>=3.7.2->en-core-web-sm==3.7.1) (8.2.5)\n",
            "Requirement already satisfied: wasabi<1.2.0,>=0.9.1 in /usr/local/lib/python3.10/dist-packages (from spacy<3.8.0,>=3.7.2->en-core-web-sm==3.7.1) (1.1.3)\n",
            "Requirement already satisfied: srsly<3.0.0,>=2.4.3 in /usr/local/lib/python3.10/dist-packages (from spacy<3.8.0,>=3.7.2->en-core-web-sm==3.7.1) (2.4.8)\n",
            "Requirement already satisfied: catalogue<2.1.0,>=2.0.6 in /usr/local/lib/python3.10/dist-packages (from spacy<3.8.0,>=3.7.2->en-core-web-sm==3.7.1) (2.0.10)\n",
            "Requirement already satisfied: weasel<0.5.0,>=0.1.0 in /usr/local/lib/python3.10/dist-packages (from spacy<3.8.0,>=3.7.2->en-core-web-sm==3.7.1) (0.4.1)\n",
            "Requirement already satisfied: typer<1.0.0,>=0.3.0 in /usr/local/lib/python3.10/dist-packages (from spacy<3.8.0,>=3.7.2->en-core-web-sm==3.7.1) (0.12.5)\n",
            "Requirement already satisfied: tqdm<5.0.0,>=4.38.0 in /usr/local/lib/python3.10/dist-packages (from spacy<3.8.0,>=3.7.2->en-core-web-sm==3.7.1) (4.66.5)\n",
            "Requirement already satisfied: requests<3.0.0,>=2.13.0 in /usr/local/lib/python3.10/dist-packages (from spacy<3.8.0,>=3.7.2->en-core-web-sm==3.7.1) (2.32.3)\n",
            "Requirement already satisfied: pydantic!=1.8,!=1.8.1,<3.0.0,>=1.7.4 in /usr/local/lib/python3.10/dist-packages (from spacy<3.8.0,>=3.7.2->en-core-web-sm==3.7.1) (2.9.1)\n",
            "Requirement already satisfied: jinja2 in /usr/local/lib/python3.10/dist-packages (from spacy<3.8.0,>=3.7.2->en-core-web-sm==3.7.1) (3.1.4)\n",
            "Requirement already satisfied: setuptools in /usr/local/lib/python3.10/dist-packages (from spacy<3.8.0,>=3.7.2->en-core-web-sm==3.7.1) (71.0.4)\n",
            "Requirement already satisfied: packaging>=20.0 in /usr/local/lib/python3.10/dist-packages (from spacy<3.8.0,>=3.7.2->en-core-web-sm==3.7.1) (24.1)\n",
            "Requirement already satisfied: langcodes<4.0.0,>=3.2.0 in /usr/local/lib/python3.10/dist-packages (from spacy<3.8.0,>=3.7.2->en-core-web-sm==3.7.1) (3.4.0)\n",
            "Requirement already satisfied: numpy>=1.19.0 in /usr/local/lib/python3.10/dist-packages (from spacy<3.8.0,>=3.7.2->en-core-web-sm==3.7.1) (1.26.4)\n",
            "Requirement already satisfied: language-data>=1.2 in /usr/local/lib/python3.10/dist-packages (from langcodes<4.0.0,>=3.2.0->spacy<3.8.0,>=3.7.2->en-core-web-sm==3.7.1) (1.2.0)\n",
            "Requirement already satisfied: annotated-types>=0.6.0 in /usr/local/lib/python3.10/dist-packages (from pydantic!=1.8,!=1.8.1,<3.0.0,>=1.7.4->spacy<3.8.0,>=3.7.2->en-core-web-sm==3.7.1) (0.7.0)\n",
            "Requirement already satisfied: pydantic-core==2.23.3 in /usr/local/lib/python3.10/dist-packages (from pydantic!=1.8,!=1.8.1,<3.0.0,>=1.7.4->spacy<3.8.0,>=3.7.2->en-core-web-sm==3.7.1) (2.23.3)\n",
            "Requirement already satisfied: typing-extensions>=4.6.1 in /usr/local/lib/python3.10/dist-packages (from pydantic!=1.8,!=1.8.1,<3.0.0,>=1.7.4->spacy<3.8.0,>=3.7.2->en-core-web-sm==3.7.1) (4.12.2)\n",
            "Requirement already satisfied: charset-normalizer<4,>=2 in /usr/local/lib/python3.10/dist-packages (from requests<3.0.0,>=2.13.0->spacy<3.8.0,>=3.7.2->en-core-web-sm==3.7.1) (3.3.2)\n",
            "Requirement already satisfied: idna<4,>=2.5 in /usr/local/lib/python3.10/dist-packages (from requests<3.0.0,>=2.13.0->spacy<3.8.0,>=3.7.2->en-core-web-sm==3.7.1) (3.8)\n",
            "Requirement already satisfied: urllib3<3,>=1.21.1 in /usr/local/lib/python3.10/dist-packages (from requests<3.0.0,>=2.13.0->spacy<3.8.0,>=3.7.2->en-core-web-sm==3.7.1) (2.0.7)\n",
            "Requirement already satisfied: certifi>=2017.4.17 in /usr/local/lib/python3.10/dist-packages (from requests<3.0.0,>=2.13.0->spacy<3.8.0,>=3.7.2->en-core-web-sm==3.7.1) (2024.8.30)\n",
            "Requirement already satisfied: blis<0.8.0,>=0.7.8 in /usr/local/lib/python3.10/dist-packages (from thinc<8.3.0,>=8.2.2->spacy<3.8.0,>=3.7.2->en-core-web-sm==3.7.1) (0.7.11)\n",
            "Requirement already satisfied: confection<1.0.0,>=0.0.1 in /usr/local/lib/python3.10/dist-packages (from thinc<8.3.0,>=8.2.2->spacy<3.8.0,>=3.7.2->en-core-web-sm==3.7.1) (0.1.5)\n",
            "Requirement already satisfied: click>=8.0.0 in /usr/local/lib/python3.10/dist-packages (from typer<1.0.0,>=0.3.0->spacy<3.8.0,>=3.7.2->en-core-web-sm==3.7.1) (8.1.7)\n",
            "Requirement already satisfied: shellingham>=1.3.0 in /usr/local/lib/python3.10/dist-packages (from typer<1.0.0,>=0.3.0->spacy<3.8.0,>=3.7.2->en-core-web-sm==3.7.1) (1.5.4)\n",
            "Requirement already satisfied: rich>=10.11.0 in /usr/local/lib/python3.10/dist-packages (from typer<1.0.0,>=0.3.0->spacy<3.8.0,>=3.7.2->en-core-web-sm==3.7.1) (13.8.1)\n",
            "Requirement already satisfied: cloudpathlib<1.0.0,>=0.7.0 in /usr/local/lib/python3.10/dist-packages (from weasel<0.5.0,>=0.1.0->spacy<3.8.0,>=3.7.2->en-core-web-sm==3.7.1) (0.19.0)\n",
            "Requirement already satisfied: smart-open<8.0.0,>=5.2.1 in /usr/local/lib/python3.10/dist-packages (from weasel<0.5.0,>=0.1.0->spacy<3.8.0,>=3.7.2->en-core-web-sm==3.7.1) (7.0.4)\n",
            "Requirement already satisfied: MarkupSafe>=2.0 in /usr/local/lib/python3.10/dist-packages (from jinja2->spacy<3.8.0,>=3.7.2->en-core-web-sm==3.7.1) (2.1.5)\n",
            "Requirement already satisfied: marisa-trie>=0.7.7 in /usr/local/lib/python3.10/dist-packages (from language-data>=1.2->langcodes<4.0.0,>=3.2.0->spacy<3.8.0,>=3.7.2->en-core-web-sm==3.7.1) (1.2.0)\n",
            "Requirement already satisfied: markdown-it-py>=2.2.0 in /usr/local/lib/python3.10/dist-packages (from rich>=10.11.0->typer<1.0.0,>=0.3.0->spacy<3.8.0,>=3.7.2->en-core-web-sm==3.7.1) (3.0.0)\n",
            "Requirement already satisfied: pygments<3.0.0,>=2.13.0 in /usr/local/lib/python3.10/dist-packages (from rich>=10.11.0->typer<1.0.0,>=0.3.0->spacy<3.8.0,>=3.7.2->en-core-web-sm==3.7.1) (2.16.1)\n",
            "Requirement already satisfied: wrapt in /usr/local/lib/python3.10/dist-packages (from smart-open<8.0.0,>=5.2.1->weasel<0.5.0,>=0.1.0->spacy<3.8.0,>=3.7.2->en-core-web-sm==3.7.1) (1.16.0)\n",
            "Requirement already satisfied: mdurl~=0.1 in /usr/local/lib/python3.10/dist-packages (from markdown-it-py>=2.2.0->rich>=10.11.0->typer<1.0.0,>=0.3.0->spacy<3.8.0,>=3.7.2->en-core-web-sm==3.7.1) (0.1.2)\n",
            "\u001b[38;5;2m✔ Download and installation successful\u001b[0m\n",
            "You can now load the package via spacy.load('en_core_web_sm')\n",
            "\u001b[38;5;3m⚠ Restart to reload dependencies\u001b[0m\n",
            "If you are in a Jupyter or Colab notebook, you may need to restart Python in\n",
            "order to load all the package's dependencies. You can do this by selecting the\n",
            "'Restart kernel' or 'Restart runtime' option.\n"
          ]
        }
      ],
      "source": [
        "# first time run this\n",
        "!python3 -m spacy download en"
      ]
    },
    {
      "cell_type": "code",
      "execution_count": 28,
      "metadata": {
        "id": "jrU7x5M12PwK"
      },
      "outputs": [],
      "source": [
        "tok = spacy.load('en_core_web_sm')"
      ]
    },
    {
      "cell_type": "code",
      "source": [],
      "metadata": {
        "id": "ipgFHAd33WLz"
      },
      "execution_count": null,
      "outputs": []
    },
    {
      "cell_type": "code",
      "execution_count": 29,
      "metadata": {
        "id": "kToSLNHT2PwK"
      },
      "outputs": [],
      "source": [
        "obj_lines = read_file(PATH/\"plot.tok.gt9.5000\")"
      ]
    },
    {
      "cell_type": "code",
      "execution_count": 30,
      "metadata": {
        "id": "MXpSls3v2PwK",
        "colab": {
          "base_uri": "https://localhost:8080/"
        },
        "outputId": "a750009d-d2ff-40af-fb3b-32ead079f465"
      },
      "outputs": [
        {
          "output_type": "execute_result",
          "data": {
            "text/plain": [
              "5000"
            ]
          },
          "metadata": {},
          "execution_count": 30
        }
      ],
      "source": [
        "len(obj_lines)"
      ]
    },
    {
      "cell_type": "code",
      "execution_count": 31,
      "metadata": {
        "id": "fQp9ZoBw2PwK",
        "colab": {
          "base_uri": "https://localhost:8080/",
          "height": 53
        },
        "outputId": "3451b712-fb97-42e6-d480-712647db09a7"
      },
      "outputs": [
        {
          "output_type": "execute_result",
          "data": {
            "text/plain": [
              "'the movie begins in the past where a young boy named sam attempts to save celebi from a hunter . \\n'"
            ],
            "application/vnd.google.colaboratory.intrinsic+json": {
              "type": "string"
            }
          },
          "metadata": {},
          "execution_count": 31
        }
      ],
      "source": [
        "obj_lines[0]"
      ]
    },
    {
      "cell_type": "code",
      "execution_count": 33,
      "metadata": {
        "id": "e3IaLZeY2PwL"
      },
      "outputs": [],
      "source": [
        "test = tok(obj_lines[0])"
      ]
    },
    {
      "cell_type": "code",
      "execution_count": null,
      "metadata": {
        "id": "oOW6LDoP2PwL"
      },
      "outputs": [],
      "source": [
        "np.array([x for x in test])"
      ]
    },
    {
      "cell_type": "markdown",
      "metadata": {
        "id": "sx_KVGLu2PwL"
      },
      "source": [
        "## Split dataset in train and validation"
      ]
    },
    {
      "cell_type": "code",
      "execution_count": 34,
      "metadata": {
        "id": "KT-Ndi6E2PwL"
      },
      "outputs": [],
      "source": [
        "from sklearn.model_selection import train_test_split"
      ]
    },
    {
      "cell_type": "code",
      "execution_count": 35,
      "metadata": {
        "id": "oRvfaowZ2PwL"
      },
      "outputs": [],
      "source": [
        "sub_content = read_file(PATH/\"quote.tok.gt9.5000\")\n",
        "obj_content = read_file(PATH/\"plot.tok.gt9.5000\")\n",
        "sub_content = np.array([line.strip().lower() for line in sub_content])\n",
        "obj_content = np.array([line.strip().lower() for line in obj_content])\n",
        "sub_y = np.zeros(len(sub_content))\n",
        "obj_y = np.ones(len(obj_content))\n",
        "X = np.append(sub_content, obj_content)\n",
        "y = np.append(sub_y, obj_y)"
      ]
    },
    {
      "cell_type": "code",
      "execution_count": 36,
      "metadata": {
        "id": "77OU9PJL2PwL",
        "colab": {
          "base_uri": "https://localhost:8080/"
        },
        "outputId": "a62f0045-c9fd-4cad-faf5-656dd9af5a81"
      },
      "outputs": [
        {
          "output_type": "execute_result",
          "data": {
            "text/plain": [
              "('smart and alert , thirteen conversations about one thing is a small gem .',\n",
              " 0.0)"
            ]
          },
          "metadata": {},
          "execution_count": 36
        }
      ],
      "source": [
        "X[0], y[0]"
      ]
    },
    {
      "cell_type": "code",
      "execution_count": 37,
      "metadata": {
        "id": "P7y95Tp02PwL"
      },
      "outputs": [],
      "source": [
        "X_train, X_val, y_train, y_val = train_test_split(X, y, test_size=0.2, random_state=42)"
      ]
    },
    {
      "cell_type": "code",
      "execution_count": 38,
      "metadata": {
        "id": "EGwtfu5A2PwL",
        "colab": {
          "base_uri": "https://localhost:8080/"
        },
        "outputId": "6f5c9f5d-b432-44ed-deb6-c38c61a7efc1"
      },
      "outputs": [
        {
          "output_type": "execute_result",
          "data": {
            "text/plain": [
              "(array(['will god let her fall or give her a new path ?',\n",
              "        \"the director's twitchy sketchbook style and adroit perspective shifts grow wearisome amid leaden pacing and indifferent craftsmanship ( most notably wretched sound design ) .\",\n",
              "        \"welles groupie/scholar peter bogdanovich took a long time to do it , but he's finally provided his own broadside at publishing giant william randolph hearst .\",\n",
              "        'based on the 1997 john king novel of the same name with a rather odd synopsis : \" a first novel about a seasoned chelsea football club hooligan who represents a disaffected society operating by brutal rules .',\n",
              "        'yet , beneath an upbeat appearance , she is struggling desperately with the emotional and physical scars left by the attack .'],\n",
              "       dtype='<U691'),\n",
              " array([1., 0., 0., 1., 1.]))"
            ]
          },
          "metadata": {},
          "execution_count": 38
        }
      ],
      "source": [
        "X_train[:5], y_train[:5]"
      ]
    },
    {
      "cell_type": "markdown",
      "metadata": {
        "id": "F-NDb_4l2PwM"
      },
      "source": [
        "## Word to index mapping\n",
        "In interest of time we will tokenize without spaCy. Here we will compute a vocabulary of words based on the training set and a mapping from word to an index."
      ]
    },
    {
      "cell_type": "code",
      "execution_count": 39,
      "metadata": {
        "id": "o7fNleQj2PwM"
      },
      "outputs": [],
      "source": [
        "from collections import defaultdict"
      ]
    },
    {
      "cell_type": "code",
      "execution_count": 40,
      "metadata": {
        "id": "2waXBiYs2PwN"
      },
      "outputs": [],
      "source": [
        "def get_vocab(content):\n",
        "    \"\"\"Computes Dict of counts of words.\n",
        "\n",
        "    Computes the number of times a word is on a document.\n",
        "    \"\"\"\n",
        "    vocab = defaultdict(float)\n",
        "    for line in content:\n",
        "        words = set(line.split())\n",
        "        for word in words:\n",
        "            vocab[word] += 1\n",
        "    return vocab"
      ]
    },
    {
      "cell_type": "code",
      "execution_count": 41,
      "metadata": {
        "id": "YQd_iO_r2PwN"
      },
      "outputs": [],
      "source": [
        "#Getting the vocabulary from the training set\n",
        "word_count = get_vocab(X_train)"
      ]
    },
    {
      "cell_type": "code",
      "execution_count": 42,
      "metadata": {
        "id": "IACg--hS2PwN",
        "colab": {
          "base_uri": "https://localhost:8080/"
        },
        "outputId": "0b628b57-1b57-4241-97df-ae446ece1566"
      },
      "outputs": [
        {
          "output_type": "execute_result",
          "data": {
            "text/plain": [
              "defaultdict(float,\n",
              "            {'new': 301.0,\n",
              "             'her': 664.0,\n",
              "             'fall': 27.0,\n",
              "             'path': 23.0,\n",
              "             'give': 45.0,\n",
              "             'or': 300.0,\n",
              "             '?': 145.0,\n",
              "             'god': 30.0,\n",
              "             'will': 285.0,\n",
              "             'a': 4295.0,\n",
              "             'let': 16.0,\n",
              "             '.': 7796.0,\n",
              "             ')': 545.0,\n",
              "             'pacing': 8.0,\n",
              "             'shifts': 3.0,\n",
              "             'and': 4116.0,\n",
              "             'twitchy': 1.0,\n",
              "             'grow': 14.0,\n",
              "             \"director's\": 8.0,\n",
              "             'wearisome': 1.0,\n",
              "             'wretched': 1.0,\n",
              "             'leaden': 4.0,\n",
              "             'perspective': 8.0,\n",
              "             '(': 543.0,\n",
              "             'sketchbook': 2.0,\n",
              "             'design': 4.0,\n",
              "             'sound': 16.0,\n",
              "             'craftsmanship': 2.0,\n",
              "             'adroit': 2.0,\n",
              "             'style': 32.0,\n",
              "             'amid': 8.0,\n",
              "             'the': 5247.0,\n",
              "             'indifferent': 3.0,\n",
              "             'notably': 4.0,\n",
              "             'most': 205.0,\n",
              "             'groupie/scholar': 1.0,\n",
              "             'long': 101.0,\n",
              "             'william': 16.0,\n",
              "             'own': 202.0,\n",
              "             'peter': 31.0,\n",
              "             'hearst': 2.0,\n",
              "             'do': 127.0,\n",
              "             'took': 19.0,\n",
              "             'randolph': 4.0,\n",
              "             'giant': 5.0,\n",
              "             'welles': 1.0,\n",
              "             ',': 5289.0,\n",
              "             'finally': 47.0,\n",
              "             'to': 3314.0,\n",
              "             'time': 252.0,\n",
              "             'it': 1099.0,\n",
              "             'his': 1232.0,\n",
              "             \"he's\": 99.0,\n",
              "             'publishing': 1.0,\n",
              "             'but': 1003.0,\n",
              "             'broadside': 1.0,\n",
              "             'bogdanovich': 3.0,\n",
              "             'at': 577.0,\n",
              "             'provided': 9.0,\n",
              "             'based': 52.0,\n",
              "             'odd': 16.0,\n",
              "             'represents': 7.0,\n",
              "             'disaffected': 1.0,\n",
              "             '1997': 3.0,\n",
              "             '\"': 382.0,\n",
              "             'football': 8.0,\n",
              "             'who': 697.0,\n",
              "             'brutal': 11.0,\n",
              "             'hooligan': 1.0,\n",
              "             'chelsea': 8.0,\n",
              "             ':': 201.0,\n",
              "             'name': 33.0,\n",
              "             'seasoned': 5.0,\n",
              "             'same': 82.0,\n",
              "             'society': 24.0,\n",
              "             'john': 74.0,\n",
              "             'synopsis': 1.0,\n",
              "             'by': 737.0,\n",
              "             'operating': 3.0,\n",
              "             'novel': 30.0,\n",
              "             'of': 3669.0,\n",
              "             'about': 500.0,\n",
              "             'club': 15.0,\n",
              "             'first': 164.0,\n",
              "             'on': 940.0,\n",
              "             'king': 32.0,\n",
              "             'rather': 53.0,\n",
              "             'rules': 14.0,\n",
              "             'with': 1387.0,\n",
              "             'physical': 13.0,\n",
              "             'an': 967.0,\n",
              "             'appearance': 3.0,\n",
              "             'scars': 1.0,\n",
              "             'upbeat': 3.0,\n",
              "             'left': 62.0,\n",
              "             'attack': 11.0,\n",
              "             'beneath': 11.0,\n",
              "             'emotional': 54.0,\n",
              "             'is': 2463.0,\n",
              "             'desperately': 16.0,\n",
              "             'she': 317.0,\n",
              "             'struggling': 19.0,\n",
              "             'yet': 79.0,\n",
              "             'fact': 45.0,\n",
              "             'mother': 100.0,\n",
              "             'in': 2406.0,\n",
              "             'blueprint': 1.0,\n",
              "             's': 40.0,\n",
              "             'find': 190.0,\n",
              "             'arrival': 10.0,\n",
              "             't&#252': 5.0,\n",
              "             'ski': 3.0,\n",
              "             'blend': 12.0,\n",
              "             'center': 16.0,\n",
              "             'rlich': 4.0,\n",
              "             'drink': 7.0,\n",
              "             'hard': 66.0,\n",
              "             'parties': 7.0,\n",
              "             'upon': 32.0,\n",
              "             ';': 231.0,\n",
              "             'ischgl': 3.0,\n",
              "             'be': 630.0,\n",
              "             'josch': 2.0,\n",
              "             'for': 1188.0,\n",
              "             'apr&#232': 1.0,\n",
              "             'heart': 85.0,\n",
              "             'that': 1547.0,\n",
              "             'soon': 91.0,\n",
              "             'adventure': 35.0,\n",
              "             'jonah': 5.0,\n",
              "             'leads': 45.0,\n",
              "             'into': 425.0,\n",
              "             'hilarious': 33.0,\n",
              "             'embarks': 4.0,\n",
              "             'belly': 2.0,\n",
              "             'showdown': 5.0,\n",
              "             'whale': 3.0,\n",
              "             'him': 327.0,\n",
              "             'nineveh': 1.0,\n",
              "             'melodrama': 20.0,\n",
              "             'big': 85.0,\n",
              "             'than': 346.0,\n",
              "             'well-acted': 9.0,\n",
              "             'screen': 58.0,\n",
              "             'television': 26.0,\n",
              "             'more': 421.0,\n",
              "             'little': 154.0,\n",
              "             'shot': 43.0,\n",
              "             'film': 744.0,\n",
              "             'created': 23.0,\n",
              "             'orange': 2.0,\n",
              "             'problem': 41.0,\n",
              "             'its': 535.0,\n",
              "             'cast': 81.0,\n",
              "             'flounders': 3.0,\n",
              "             'strong': 38.0,\n",
              "             'set': 103.0,\n",
              "             'worthy': 16.0,\n",
              "             'characters': 154.0,\n",
              "             'having': 58.0,\n",
              "             'giving': 19.0,\n",
              "             'comes': 111.0,\n",
              "             'vivid': 9.0,\n",
              "             'something': 94.0,\n",
              "             'county': 6.0,\n",
              "             'when': 464.0,\n",
              "             'them': 227.0,\n",
              "             'essential': 4.0,\n",
              "             'unusually': 5.0,\n",
              "             'hotte': 1.0,\n",
              "             '80s': 1.0,\n",
              "             'fight': 39.0,\n",
              "             'end': 110.0,\n",
              "             'continue': 11.0,\n",
              "             'exception': 5.0,\n",
              "             'have': 413.0,\n",
              "             'remained': 2.0,\n",
              "             'group': 51.0,\n",
              "             'went': 8.0,\n",
              "             'tim': 12.0,\n",
              "             'they': 442.0,\n",
              "             'issues': 21.0,\n",
              "             'did': 23.0,\n",
              "             'ways': 35.0,\n",
              "             'separate': 9.0,\n",
              "             'true': 91.0,\n",
              "             'as': 1042.0,\n",
              "             'ideals': 4.0,\n",
              "             'their': 503.0,\n",
              "             'clerk': 4.0,\n",
              "             'too': 178.0,\n",
              "             'often': 69.0,\n",
              "             'repetitive': 10.0,\n",
              "             'wheels': 2.0,\n",
              "             'out': 455.0,\n",
              "             'scenes': 38.0,\n",
              "             'familiar': 28.0,\n",
              "             'retail': 1.0,\n",
              "             'life': 396.0,\n",
              "             'movie': 518.0,\n",
              "             \"there's\": 98.0,\n",
              "             'material': 37.0,\n",
              "             'some': 219.0,\n",
              "             'situations': 16.0,\n",
              "             'spins': 3.0,\n",
              "             'story': 406.0,\n",
              "             'good': 203.0,\n",
              "             'wanting': 7.0,\n",
              "             'injuries': 1.0,\n",
              "             'from': 634.0,\n",
              "             'much': 211.0,\n",
              "             'social': 42.0,\n",
              "             'critique': 2.0,\n",
              "             'intellectual': 12.0,\n",
              "             \"auteur's\": 1.0,\n",
              "             'storytelling': 16.0,\n",
              "             'lector': 1.0,\n",
              "             'audience': 54.0,\n",
              "             'casting': 8.0,\n",
              "             \"solondz's\": 1.0,\n",
              "             'professional': 24.0,\n",
              "             'moves': 21.0,\n",
              "             'contemplation': 3.0,\n",
              "             'away': 85.0,\n",
              "             'k': 12.0,\n",
              "             'spy': 23.0,\n",
              "             'turn': 48.0,\n",
              "             'fend': 2.0,\n",
              "             'avoiding': 5.0,\n",
              "             'may': 148.0,\n",
              "             'phil': 5.0,\n",
              "             'must': 114.0,\n",
              "             'international': 17.0,\n",
              "             'host': 4.0,\n",
              "             'detection': 1.0,\n",
              "             \"reinalda's\": 1.0,\n",
              "             'mysterious': 49.0,\n",
              "             'pop': 18.0,\n",
              "             'well': 126.0,\n",
              "             'talk-show': 1.0,\n",
              "             'dromedary': 1.0,\n",
              "             'svengali': 1.0,\n",
              "             'enigmatic': 4.0,\n",
              "             'off': 133.0,\n",
              "             'bring': 39.0,\n",
              "             'back': 164.0,\n",
              "             'just': 267.0,\n",
              "             'past': 84.0,\n",
              "             'one': 538.0,\n",
              "             'sidekick': 3.0,\n",
              "             'haunt': 2.0,\n",
              "             'monologues': 1.0,\n",
              "             'advances': 5.0,\n",
              "             'unwelcome': 4.0,\n",
              "             'national': 15.0,\n",
              "             'girl': 120.0,\n",
              "             'krystal': 1.0,\n",
              "             'bewildered': 1.0,\n",
              "             'live-in': 1.0,\n",
              "             'along': 76.0,\n",
              "             'way': 237.0,\n",
              "             'inner': 14.0,\n",
              "             'seedy': 8.0,\n",
              "             'spectacle': 14.0,\n",
              "             'natasha': 2.0,\n",
              "             'penchant': 3.0,\n",
              "             'final': 32.0,\n",
              "             'tv': 33.0,\n",
              "             'though': 90.0,\n",
              "             'gets': 94.0,\n",
              "             'josh': 6.0,\n",
              "             'clear': 35.0,\n",
              "             'no': 231.0,\n",
              "             'interested': 18.0,\n",
              "             \"mike's\": 2.0,\n",
              "             'what': 272.0,\n",
              "             'chagrin': 1.0,\n",
              "             'all': 430.0,\n",
              "             'fixated': 3.0,\n",
              "             'he': 750.0,\n",
              "             \"it's\": 478.0,\n",
              "             'idea': 40.0,\n",
              "             'seems': 84.0,\n",
              "             'also': 151.0,\n",
              "             'has': 647.0,\n",
              "             'particular': 12.0,\n",
              "             'sex': 42.0,\n",
              "             'nadine': 5.0,\n",
              "             'see': 125.0,\n",
              "             'flew': 1.0,\n",
              "             'broadway^&#197': 1.0,\n",
              "             'look': 115.0,\n",
              "             'appear': 13.0,\n",
              "             'cockettes': 3.0,\n",
              "             \"you'll\": 39.0,\n",
              "             'yorkers': 5.0,\n",
              "             'york': 57.0,\n",
              "             'city': 87.0,\n",
              "             'happened': 11.0,\n",
              "             'visual': 32.0,\n",
              "             'teenager': 7.0,\n",
              "             'community': 31.0,\n",
              "             'tradition': 10.0,\n",
              "             'filmmaker': 34.0,\n",
              "             'parable': 5.0,\n",
              "             'hasidic': 2.0,\n",
              "             'creates': 21.0,\n",
              "             'daughter-in-law': 2.0,\n",
              "             'breath': 7.0,\n",
              "             'old': 147.0,\n",
              "             'depart': 1.0,\n",
              "             'after': 211.0,\n",
              "             'son': 87.0,\n",
              "             'dreams': 44.0,\n",
              "             'leaving': 24.0,\n",
              "             'man': 212.0,\n",
              "             'fading': 3.0,\n",
              "             'alone': 28.0,\n",
              "             'under': 53.0,\n",
              "             'kevin': 8.0,\n",
              "             'microscope': 1.0,\n",
              "             'charm': 34.0,\n",
              "             'puts': 24.0,\n",
              "             'kline': 2.0,\n",
              "             'creepy': 18.0,\n",
              "             'this': 851.0,\n",
              "             'old-fashioned': 12.0,\n",
              "             'values': 13.0,\n",
              "             'adult': 20.0,\n",
              "             'holmes</a>': 1.0,\n",
              "             'known': 36.0,\n",
              "             'worlds': 8.0,\n",
              "             'male': 10.0,\n",
              "             'best': 165.0,\n",
              "             'actor': 30.0,\n",
              "             'was': 214.0,\n",
              "             'industry': 23.0,\n",
              "             'break': 33.0,\n",
              "             'turns': 74.0,\n",
              "             'hearing': 2.0,\n",
              "             'sanjana': 3.0,\n",
              "             'starts': 47.0,\n",
              "             'screams': 3.0,\n",
              "             'nightmare': 13.0,\n",
              "             'films': 80.0,\n",
              "             'human': 71.0,\n",
              "             \"ragam'\": 1.0,\n",
              "             'like': 309.0,\n",
              "             'maniratnam': 1.0,\n",
              "             'now': 117.0,\n",
              "             \"'kannathil\": 2.0,\n",
              "             'proves': 19.0,\n",
              "             'tackling': 1.0,\n",
              "             \"muthamittal'\": 2.0,\n",
              "             \"'mouna\": 1.0,\n",
              "             \"'alaipayuthe'\": 1.0,\n",
              "             'emotions': 17.0,\n",
              "             'relationships': 25.0,\n",
              "             'again': 64.0,\n",
              "             'can': 240.0,\n",
              "             'country': 51.0,\n",
              "             'visits': 6.0,\n",
              "             'happen': 15.0,\n",
              "             'naive': 7.0,\n",
              "             'lot': 46.0,\n",
              "             'japanese': 17.0,\n",
              "             'young': 228.0,\n",
              "             'foreign': 15.0,\n",
              "             'honest': 30.0,\n",
              "             'consequences': 14.0,\n",
              "             'tragic': 23.0,\n",
              "             'fulfill': 7.0,\n",
              "             '-': 182.0,\n",
              "             'carlos': 11.0,\n",
              "             'apartment': 11.0,\n",
              "             'himself': 106.0,\n",
              "             'steals': 6.0,\n",
              "             'money': 68.0,\n",
              "             'mickey': 6.0,\n",
              "             'help': 108.0,\n",
              "             'ambitions': 4.0,\n",
              "             'increase': 2.0,\n",
              "             'siti': 3.0,\n",
              "             'show': 43.0,\n",
              "             'news': 19.0,\n",
              "             'accepts': 6.0,\n",
              "             'challenge': 11.0,\n",
              "             'rating': 5.0,\n",
              "             'cable': 3.0,\n",
              "             'popularity': 6.0,\n",
              "             'lending': 3.0,\n",
              "             'deep': 24.0,\n",
              "             \"shakespeare's\": 4.0,\n",
              "             'christian': 15.0,\n",
              "             'forfeit': 1.0,\n",
              "             'take': 132.0,\n",
              "             'revenge': 29.0,\n",
              "             'pound': 1.0,\n",
              "             'prejudice': 4.0,\n",
              "             \"flesh'\": 1.0,\n",
              "             'deal': 33.0,\n",
              "             'flesh': 3.0,\n",
              "             'seated': 1.0,\n",
              "             'maori': 1.0,\n",
              "             \"'pound\": 1.0,\n",
              "             'drama': 92.0,\n",
              "             'bonded': 1.0,\n",
              "             'religious': 12.0,\n",
              "             \"merchant's\": 1.0,\n",
              "             'propelled': 2.0,\n",
              "             'sense': 71.0,\n",
              "             'imagery': 11.0,\n",
              "             'acting': 47.0,\n",
              "             'strength': 19.0,\n",
              "             'terrible': 14.0,\n",
              "             'gives': 61.0,\n",
              "             \"film's\": 52.0,\n",
              "             'years': 154.0,\n",
              "             'world': 242.0,\n",
              "             'paramount': 4.0,\n",
              "             'disturbed': 6.0,\n",
              "             'businessman': 6.0,\n",
              "             'slowly': 21.0,\n",
              "             'benefactor': 2.0,\n",
              "             'gene': 3.0,\n",
              "             'become': 104.0,\n",
              "             'wealthy': 13.0,\n",
              "             'over': 139.0,\n",
              "             'dopey': 3.0,\n",
              "             'effects': 29.0,\n",
              "             'scruffy': 1.0,\n",
              "             'incessant': 5.0,\n",
              "             'flatulence': 2.0,\n",
              "             'obligatory': 3.0,\n",
              "             'so-five-minutes-ago': 1.0,\n",
              "             'obnoxious': 5.0,\n",
              "             'outbursts': 2.0,\n",
              "             'music': 65.0,\n",
              "             'hanna-barbera': 1.0,\n",
              "             'soundtrack': 12.0,\n",
              "             'special': 52.0,\n",
              "             'overwhelm': 2.0,\n",
              "             'carefully': 10.0,\n",
              "             'anticipated': 4.0,\n",
              "             'deft': 10.0,\n",
              "             'structuring': 2.0,\n",
              "             'crafted': 11.0,\n",
              "             'never': 147.0,\n",
              "             'could': 98.0,\n",
              "             'timely': 6.0,\n",
              "             'dramatic': 38.0,\n",
              "             'maker': 3.0,\n",
              "             'excellent': 19.0,\n",
              "             'struggle': 27.0,\n",
              "             'communist': 4.0,\n",
              "             'rock': 36.0,\n",
              "             \"roll's\": 1.0,\n",
              "             'significant': 4.0,\n",
              "             'learn': 37.0,\n",
              "             'bands': 5.0,\n",
              "             'freedom': 15.0,\n",
              "             'chance': 45.0,\n",
              "             '1998': 2.0,\n",
              "             'head': 42.0,\n",
              "             'security': 18.0,\n",
              "             'interview': 7.0,\n",
              "             'filmed': 9.0,\n",
              "             'trade': 7.0,\n",
              "             'office': 16.0,\n",
              "             'floor': 3.0,\n",
              "             'rescorla': 1.0,\n",
              "             'stanley': 2.0,\n",
              "             'rick': 4.0,\n",
              "             'witter': 1.0,\n",
              "             'morgan': 6.0,\n",
              "             'dean': 7.0,\n",
              "             '44th': 1.0,\n",
              "             'lovely': 17.0,\n",
              "             'well-made': 5.0,\n",
              "             'friendship': 30.0,\n",
              "             'depiction': 9.0,\n",
              "             'mysteries': 7.0,\n",
              "             'down': 128.0,\n",
              "             'somehow': 21.0,\n",
              "             'invades': 1.0,\n",
              "             'members': 36.0,\n",
              "             'board': 9.0,\n",
              "             'paradise': 6.0,\n",
              "             'day': 118.0,\n",
              "             'pull': 16.0,\n",
              "             'family': 182.0,\n",
              "             'together': 107.0,\n",
              "             'education': 11.0,\n",
              "             'highly': 20.0,\n",
              "             'win': 28.0,\n",
              "             'promising': 15.0,\n",
              "             'inspector': 4.0,\n",
              "             'eccentric': 7.0,\n",
              "             'shut': 4.0,\n",
              "             'vindictive': 2.0,\n",
              "             'dysfunctional': 7.0,\n",
              "             'been': 203.0,\n",
              "             'barrel': 2.0,\n",
              "             \"world'\": 2.0,\n",
              "             'bottom': 5.0,\n",
              "             \"cagney's\": 1.0,\n",
              "             'replaced': 5.0,\n",
              "             \"'top\": 1.0,\n",
              "             'glizty': 1.0,\n",
              "             'formulaic': 7.0,\n",
              "             'silly': 14.0,\n",
              "             'video': 42.0,\n",
              "             'worthwhile': 4.0,\n",
              "             'independent-community': 1.0,\n",
              "             'travel-agency': 1.0,\n",
              "             'topless': 1.0,\n",
              "             'roll': 8.0,\n",
              "             'bikes': 3.0,\n",
              "             'targeted': 3.0,\n",
              "             'guiding': 1.0,\n",
              "             'ride': 31.0,\n",
              "             'people': 135.0,\n",
              "             'lights': 8.0,\n",
              "             'looks': 31.0,\n",
              "             'glimpse': 9.0,\n",
              "             'mud': 2.0,\n",
              "             'lunatic': 4.0,\n",
              "             'fights': 6.0,\n",
              "             'usually': 10.0,\n",
              "             'while': 204.0,\n",
              "             'jail': 15.0,\n",
              "             'guard': 10.0,\n",
              "             'overweight': 2.0,\n",
              "             'full': 59.0,\n",
              "             'stunning': 19.0,\n",
              "             'images': 27.0,\n",
              "             'spreading': 4.0,\n",
              "             'rob': 12.0,\n",
              "             'each': 92.0,\n",
              "             \"duo's\": 3.0,\n",
              "             'precocious': 3.0,\n",
              "             'motive': 4.0,\n",
              "             'meaning': 15.0,\n",
              "             'establishment': 7.0,\n",
              "             'complicated': 20.0,\n",
              "             'cheer': 6.0,\n",
              "             'christmas': 17.0,\n",
              "             '8-year': 1.0,\n",
              "             'strategy': 3.0,\n",
              "             'becomes': 94.0,\n",
              "             'teaches': 9.0,\n",
              "             'encounter': 16.0,\n",
              "             'decides': 46.0,\n",
              "             'budcasso': 3.0,\n",
              "             'fake': 8.0,\n",
              "             'suicide': 18.0,\n",
              "             'refuses': 10.0,\n",
              "             'attempt': 41.0,\n",
              "             'hoping': 12.0,\n",
              "             'christin': 3.0,\n",
              "             'zidanes': 1.0,\n",
              "             'pity': 6.0,\n",
              "             'huppert': 7.0,\n",
              "             'impress': 2.0,\n",
              "             'berling': 3.0,\n",
              "             'getting': 57.0,\n",
              "             'béart': 2.0,\n",
              "             'isabelle': 4.0,\n",
              "             'skin': 13.0,\n",
              "             'skill': 11.0,\n",
              "             'shows': 40.0,\n",
              "             'uncanny': 6.0,\n",
              "             'time-worn': 1.0,\n",
              "             'enough': 152.0,\n",
              "             'unique': 26.0,\n",
              "             'does': 136.0,\n",
              "             'stand': 22.0,\n",
              "             'entry': 4.0,\n",
              "             'unpredictability': 1.0,\n",
              "             'personal': 41.0,\n",
              "             'picture': 49.0,\n",
              "             'depth': 15.0,\n",
              "             'such': 90.0,\n",
              "             'good-looking': 2.0,\n",
              "             'genre': 28.0,\n",
              "             'deserved': 3.0,\n",
              "             'between': 144.0,\n",
              "             'alive': 29.0,\n",
              "             'attention': 26.0,\n",
              "             'coming-of-age': 17.0,\n",
              "             'lauren': 2.0,\n",
              "             'ambrose': 3.0,\n",
              "             'strangers': 5.0,\n",
              "             'realistic': 12.0,\n",
              "             'two': 240.0,\n",
              "             'town': 56.0,\n",
              "             'interaction': 4.0,\n",
              "             'twist': 14.0,\n",
              "             'performances': 71.0,\n",
              "             \"paravasu's\": 1.0,\n",
              "             'arvasu': 3.0,\n",
              "             'kulkarni': 1.0,\n",
              "             'milind': 1.0,\n",
              "             'sonali': 1.0,\n",
              "             'nittilai': 1.0,\n",
              "             'brother': 45.0,\n",
              "             'soman': 1.0,\n",
              "             'love': 323.0,\n",
              "             'tribal': 5.0,\n",
              "             \"you're\": 54.0,\n",
              "             'how': 145.0,\n",
              "             'those': 107.0,\n",
              "             'you': 356.0,\n",
              "             'melts': 1.0,\n",
              "             'only': 280.0,\n",
              "             'house': 66.0,\n",
              "             'father': 116.0,\n",
              "             'melt': 2.0,\n",
              "             'iceberg': 1.0,\n",
              "             'my': 49.0,\n",
              "             'i': 139.0,\n",
              "             'watching': 62.0,\n",
              "             'art': 51.0,\n",
              "             'makes': 144.0,\n",
              "             '--': 200.0,\n",
              "             'feel': 55.0,\n",
              "             'killed': 39.0,\n",
              "             'max': 15.0,\n",
              "             'describing': 1.0,\n",
              "             'constant': 9.0,\n",
              "             'fbi': 13.0,\n",
              "             'kidnapping': 9.0,\n",
              "             '11-year-old': 2.0,\n",
              "             'including': 33.0,\n",
              "             'finding': 25.0,\n",
              "             'anti-christ': 2.0,\n",
              "             'boy': 75.0,\n",
              "             \"i've\": 9.0,\n",
              "             'through': 188.0,\n",
              "             'worn-out': 1.0,\n",
              "             'seen': 49.0,\n",
              "             'lax': 2.0,\n",
              "             'comedy': 168.0,\n",
              "             'meander': 1.0,\n",
              "             'limp': 4.0,\n",
              "             'mystery': 29.0,\n",
              "             'ends': 31.0,\n",
              "             'suspenseful': 8.0,\n",
              "             'supernatural': 1.0,\n",
              "             'fails': 30.0,\n",
              "             'neither': 21.0,\n",
              "             'whether': 32.0,\n",
              "             'wants': 62.0,\n",
              "             'know': 65.0,\n",
              "             'being': 137.0,\n",
              "             'both': 119.0,\n",
              "             'endeavors': 3.0,\n",
              "             'weepy': 2.0,\n",
              "             'up': 354.0,\n",
              "             'horror': 37.0,\n",
              "             \"doesn't\": 134.0,\n",
              "             'era': 22.0,\n",
              "             'small': 70.0,\n",
              "             'attempts': 33.0,\n",
              "             'accepted': 3.0,\n",
              "             'call': 19.0,\n",
              "             'are': 592.0,\n",
              "             'shots': 4.0,\n",
              "             'men': 80.0,\n",
              "             'minds': 10.0,\n",
              "             'save': 52.0,\n",
              "             'woman': 97.0,\n",
              "             'pocket': 3.0,\n",
              "             'intolerance': 1.0,\n",
              "             'another': 104.0,\n",
              "             'angry': 10.0,\n",
              "             'where': 177.0,\n",
              "             'finds': 108.0,\n",
              "             'scott': 10.0,\n",
              "             'fantasy': 25.0,\n",
              "             'centres': 2.0,\n",
              "             'dream': 54.0,\n",
              "             'played': 34.0,\n",
              "             'grief': 16.0,\n",
              "             'jane': 10.0,\n",
              "             'dentist': 3.0,\n",
              "             'reality': 46.0,\n",
              "             'boundaries': 4.0,\n",
              "             \"smiley's\": 1.0,\n",
              "             'novella': 3.0,\n",
              "             'age': 37.0,\n",
              "             'campbell': 3.0,\n",
              "             'strange': 39.0,\n",
              "             'blurs': 2.0,\n",
              "             'might': 94.0,\n",
              "             \"meyjes'\": 1.0,\n",
              "             'provocative': 11.0,\n",
              "             'called': 41.0,\n",
              "             'example': 14.0,\n",
              "             'haphazardness': 1.0,\n",
              "             'evil': 55.0,\n",
              "             'realize': 29.0,\n",
              "             'hypertime': 1.0,\n",
              "             'not': 473.0,\n",
              "             'everything': 60.0,\n",
              "             'ending': 24.0,\n",
              "             'works': 72.0,\n",
              "             'somewhat': 20.0,\n",
              "             'convenient': 2.0,\n",
              "             'deeds': 8.0,\n",
              "             'begins': 72.0,\n",
              "             'dough': 2.0,\n",
              "             'billion': 1.0,\n",
              "             'poet': 10.0,\n",
              "             'different': 43.0,\n",
              "             'longfellow': 1.0,\n",
              "             'pizzeria': 1.0,\n",
              "             'deceased': 8.0,\n",
              "             '$40': 1.0,\n",
              "             'kind': 73.0,\n",
              "             'small-town': 2.0,\n",
              "             'rolling': 3.0,\n",
              "             'inherits': 2.0,\n",
              "             'quickly': 40.0,\n",
              "             'owner': 10.0,\n",
              "             'uncle': 3.0,\n",
              "             'delinquent': 3.0,\n",
              "             'baby': 26.0,\n",
              "             'protect': 16.0,\n",
              "             'mitra': 4.0,\n",
              "             'sepideh': 1.0,\n",
              "             '17': 5.0,\n",
              "             'warden': 5.0,\n",
              "             'year': 94.0,\n",
              "             'respects': 2.0,\n",
              "             '1991': 2.0,\n",
              "             'lobotomy': 1.0,\n",
              "             'haunting': 18.0,\n",
              "             'include': 8.0,\n",
              "             'voices': 6.0,\n",
              "             'highlights': 4.0,\n",
              "             'century': 23.0,\n",
              "             'household': 8.0,\n",
              "             'robotic': 1.0,\n",
              "             'utensils': 1.0,\n",
              "             'instructions': 1.0,\n",
              "             'icepick': 1.0,\n",
              "             'detailed': 11.0,\n",
              "             'stills': 1.0,\n",
              "             'date': 18.0,\n",
              "             'cacophony': 1.0,\n",
              "             'twentieth': 3.0,\n",
              "             'perform': 6.0,\n",
              "             'explores': 24.0,\n",
              "             'jean-luc': 2.0,\n",
              "             'bravely': 2.0,\n",
              "             'then': 123.0,\n",
              "             'parent': 7.0,\n",
              "             'absent': 3.0,\n",
              "             'inflicted': 1.0,\n",
              "             'damage': 11.0,\n",
              "             'withholding': 1.0,\n",
              "             'psychic': 8.0,\n",
              "             'document': 8.0,\n",
              "             'times': 55.0,\n",
              "             'started': 11.0,\n",
              "             'minute': 9.0,\n",
              "             'forth': 5.0,\n",
              "             'sweet': 28.0,\n",
              "             'found': 40.0,\n",
              "             'spot': 5.0,\n",
              "             'which': 220.0,\n",
              "             'interests': 2.0,\n",
              "             'project': 32.0,\n",
              "             'muddle': 3.0,\n",
              "             'controlling': 3.0,\n",
              "             '83': 1.0,\n",
              "             'multiple': 6.0,\n",
              "             'seesawed': 1.0,\n",
              "             'wilderness': 5.0,\n",
              "             'gear': 1.0,\n",
              "             'combat': 15.0,\n",
              "             'woods': 10.0,\n",
              "             'type': 12.0,\n",
              "             'runs': 31.0,\n",
              "             'lead': 39.0,\n",
              "             'spending': 7.0,\n",
              "             'dressed': 4.0,\n",
              "             'survivalist': 2.0,\n",
              "             'promises': 11.0,\n",
              "             'sarah': 9.0,\n",
              "             'night': 70.0,\n",
              "             'piece': 31.0,\n",
              "             'complex': 29.0,\n",
              "             'ensemble': 20.0,\n",
              "             'emotionally': 19.0,\n",
              "             'jeong': 1.0,\n",
              "             'every': 102.0,\n",
              "             'point': 47.0,\n",
              "             'korean': 4.0,\n",
              "             'turning': 17.0,\n",
              "             'writer-director': 21.0,\n",
              "             'portrays': 5.0,\n",
              "             'extraordinary': 18.0,\n",
              "             'jae-eun': 1.0,\n",
              "             \"woman's\": 11.0,\n",
              "             'think': 57.0,\n",
              "             'insufferable': 2.0,\n",
              "             'put': 48.0,\n",
              "             'meant': 4.0,\n",
              "             'sleep': 5.0,\n",
              "             'existential': 6.0,\n",
              "             'make': 205.0,\n",
              "             \"it'll\": 6.0,\n",
              "             'suffering': 10.0,\n",
              "             'instead': 31.0,\n",
              "             'serenade': 1.0,\n",
              "             'choices': 5.0,\n",
              "             'we': 107.0,\n",
              "             'our': 61.0,\n",
              "             'pay': 19.0,\n",
              "             'atlantic': 4.0,\n",
              "             'quest': 24.0,\n",
              "             'demons': 7.0,\n",
              "             'price': 17.0,\n",
              "             'power': 62.0,\n",
              "             'release': 10.0,\n",
              "             'drug': 49.0,\n",
              "             'welcomes': 2.0,\n",
              "             'job': 78.0,\n",
              "             'kilo': 8.0,\n",
              "             'manny': 5.0,\n",
              "             'reluctantly': 6.0,\n",
              "             'drug-using': 1.0,\n",
              "             'overseeing': 1.0,\n",
              "             'runners': 1.0,\n",
              "             'several': 31.0,\n",
              "             'mob': 16.0,\n",
              "             'face': 44.0,\n",
              "             'bad': 104.0,\n",
              "             'ultimate': 32.0,\n",
              "             'monk': 3.0,\n",
              "             'spectacular': 13.0,\n",
              "             'kar': 2.0,\n",
              "             'russian': 18.0,\n",
              "             'enemy': 13.0,\n",
              "             'martial': 14.0,\n",
              "             'arts': 15.0,\n",
              "             'sexy': 15.0,\n",
              "             'princess': 6.0,\n",
              "             'packed': 7.0,\n",
              "             'action': 92.0,\n",
              "             'made': 113.0,\n",
              "             'discovers': 60.0,\n",
              "             'battles': 9.0,\n",
              "             'secrets': 30.0,\n",
              "             'today': 16.0,\n",
              "             'quinn': 8.0,\n",
              "             'process': 30.0,\n",
              "             'pow': 5.0,\n",
              "             'enter': 12.0,\n",
              "             'kung': 8.0,\n",
              "             'within': 26.0,\n",
              "             'spoof': 8.0,\n",
              "             'fist': 3.0,\n",
              "             'edward': 3.0,\n",
              "             'murder': 67.0,\n",
              "             'numbers': 6.0,\n",
              "             'performance': 56.0,\n",
              "             'delivers': 25.0,\n",
              "             'history': 50.0,\n",
              "             'x': 9.0,\n",
              "             'norton': 5.0,\n",
              "             'gosling': 6.0,\n",
              "             'ryan': 6.0,\n",
              "             'american': 100.0,\n",
              "             'magnetic': 3.0,\n",
              "             'touch': 14.0,\n",
              "             'symbolism': 1.0,\n",
              "             '101': 5.0,\n",
              "             'heaven': 16.0,\n",
              "             'directors': 8.0,\n",
              "             'poetic': 10.0,\n",
              "             'arthouse': 1.0,\n",
              "             'match': 11.0,\n",
              "             'sensibilities': 4.0,\n",
              "             'felt': 11.0,\n",
              "             'heartache': 2.0,\n",
              "             'addition': 11.0,\n",
              "             'someday': 2.0,\n",
              "             'rare': 28.0,\n",
              "             'everyone': 43.0,\n",
              "             'powerful': 38.0,\n",
              "             \"hoffman's\": 5.0,\n",
              "             'rewarding': 6.0,\n",
              "             'sort': 24.0,\n",
              "             'thoughtful': 13.0,\n",
              "             'offers': 45.0,\n",
              "             'clinic': 5.0,\n",
              "             'horribly': 2.0,\n",
              "             'very': 165.0,\n",
              "             'intentions': 12.0,\n",
              "             'done': 38.0,\n",
              "             'justice': 29.0,\n",
              "             \"nelson's\": 1.0,\n",
              "             'result': 32.0,\n",
              "             'itself': 63.0,\n",
              "             'depressing': 7.0,\n",
              "             'thoroughly': 15.0,\n",
              "             'revisionist': 1.0,\n",
              "             'flight': 7.0,\n",
              "             'bright': 20.0,\n",
              "             'inventive': 14.0,\n",
              "             'fancy': 5.0,\n",
              "             'winning': 14.0,\n",
              "             'mold': 2.0,\n",
              "             'great': 92.0,\n",
              "             'eye': 25.0,\n",
              "             'detectives': 4.0,\n",
              "             'private': 16.0,\n",
              "             \"40's\": 1.0,\n",
              "             'lowbrow': 2.0,\n",
              "             'accent': 3.0,\n",
              "             'superficial': 5.0,\n",
              "             'uma': 4.0,\n",
              "             'forced': 46.0,\n",
              "             'jersey': 8.0,\n",
              "             'had': 93.0,\n",
              "             'dre': 3.0,\n",
              "             'lawyer': 9.0,\n",
              "             \"dre's\": 1.0,\n",
              "             'reese': 3.0,\n",
              "             'claims': 5.0,\n",
              "             'sidney': 2.0,\n",
              "             'should': 83.0,\n",
              "             'romantically': 1.0,\n",
              "             'perfect': 52.0,\n",
              "             \"they're\": 29.0,\n",
              "             'other': 169.0,\n",
              "             'except': 21.0,\n",
              "             'marry': 10.0,\n",
              "             'vaughn': 3.0,\n",
              "             'running': 28.0,\n",
              "             'lena': 11.0,\n",
              "             'schizophrenia': 2.0,\n",
              "             'acute': 3.0,\n",
              "             'institutionalized': 2.0,\n",
              "             '20': 13.0,\n",
              "             'spider': 4.0,\n",
              "             'nicknamed': 3.0,\n",
              "             'dennis': 5.0,\n",
              "             'vikrant': 6.0,\n",
              "             'strikes': 14.0,\n",
              "             \"he'll\": 7.0,\n",
              "             'anna': 16.0,\n",
              "             'guru': 9.0,\n",
              "             'prize': 8.0,\n",
              "             'acquire': 3.0,\n",
              "             'offered': 6.0,\n",
              "             'kill': 44.0,\n",
              "             'conservative': 11.0,\n",
              "             'disturbing': 17.0,\n",
              "             'ultra': 1.0,\n",
              "             'jesus': 4.0,\n",
              "             'speaking': 10.0,\n",
              "             'local': 47.0,\n",
              "             'vision': 29.0,\n",
              "             'usual': 20.0,\n",
              "             'population': 8.0,\n",
              "             'suddenly': 18.0,\n",
              "             'divine': 10.0,\n",
              "             'changes': 19.0,\n",
              "             'tapestry': 3.0,\n",
              "             'dan': 6.0,\n",
              "             'form': 30.0,\n",
              "             'needle': 1.0,\n",
              "             'director': 107.0,\n",
              "             'camera': 28.0,\n",
              "             'thread': 2.0,\n",
              "             'metaphoric': 2.0,\n",
              "             'sweeping': 4.0,\n",
              "             'contention': 1.0,\n",
              "             'uses': 30.0,\n",
              "             'verete': 1.0,\n",
              "             'segment': 2.0,\n",
              "             'mis-explanation': 1.0,\n",
              "             'gravity': 5.0,\n",
              "             'blood': 18.0,\n",
              "             'eyes': 33.0,\n",
              "             'unexpected': 28.0,\n",
              "             'if': 292.0,\n",
              "             'blade': 10.0,\n",
              "             'keep': 63.0,\n",
              "             'gore': 5.0,\n",
              "             'your': 101.0,\n",
              "             'toro': 2.0,\n",
              "             'ii': 17.0,\n",
              "             'del': 4.0,\n",
              "             'open': 19.0,\n",
              "             'brought': 27.0,\n",
              "             ...})"
            ]
          },
          "metadata": {},
          "execution_count": 42
        }
      ],
      "source": [
        "word_count"
      ]
    },
    {
      "cell_type": "code",
      "execution_count": 43,
      "metadata": {
        "id": "gVwNRcv42PwN",
        "colab": {
          "base_uri": "https://localhost:8080/"
        },
        "outputId": "9dd400aa-47c8-428c-dc9d-f023a00f3bef"
      },
      "outputs": [
        {
          "output_type": "execute_result",
          "data": {
            "text/plain": [
              "21415"
            ]
          },
          "metadata": {},
          "execution_count": 43
        }
      ],
      "source": [
        "len(word_count.keys())"
      ]
    },
    {
      "cell_type": "code",
      "execution_count": 45,
      "metadata": {
        "id": "LMrDDutx2PwN"
      },
      "outputs": [],
      "source": [
        "# let's delete words that are very infrequent\n",
        "for word in list(word_count):\n",
        "    if word_count[word] < 5:\n",
        "        del word_count[word]"
      ]
    },
    {
      "cell_type": "code",
      "execution_count": 46,
      "metadata": {
        "id": "iEBjOrhe2PwN",
        "colab": {
          "base_uri": "https://localhost:8080/"
        },
        "outputId": "6fc60dcb-5d4e-4ca3-ca51-d499e2b8f5ac"
      },
      "outputs": [
        {
          "output_type": "execute_result",
          "data": {
            "text/plain": [
              "4065"
            ]
          },
          "metadata": {},
          "execution_count": 46
        }
      ],
      "source": [
        "len(word_count.keys())"
      ]
    },
    {
      "cell_type": "code",
      "execution_count": 47,
      "metadata": {
        "id": "1dK-yD8n2PwO"
      },
      "outputs": [],
      "source": [
        "## Finally we need an index for each word in the vocab\n",
        "vocab2index = {\"<PAD>\":0, \"UNK\":1} # init with padding and unknown\n",
        "words = [\"<PAD>\", \"UNK\"]\n",
        "for word in word_count:\n",
        "    vocab2index[word] = len(words)\n",
        "    words.append(word)"
      ]
    },
    {
      "cell_type": "code",
      "execution_count": 48,
      "metadata": {
        "id": "6QTCDuF22PwO",
        "colab": {
          "base_uri": "https://localhost:8080/"
        },
        "outputId": "3cf732e4-2c99-4879-a29a-c755a14afdda"
      },
      "outputs": [
        {
          "output_type": "execute_result",
          "data": {
            "text/plain": [
              "{'<PAD>': 0,\n",
              " 'UNK': 1,\n",
              " 'new': 2,\n",
              " 'her': 3,\n",
              " 'fall': 4,\n",
              " 'path': 5,\n",
              " 'give': 6,\n",
              " 'or': 7,\n",
              " '?': 8,\n",
              " 'god': 9,\n",
              " 'will': 10,\n",
              " 'a': 11,\n",
              " 'let': 12,\n",
              " '.': 13,\n",
              " ')': 14,\n",
              " 'pacing': 15,\n",
              " 'and': 16,\n",
              " 'grow': 17,\n",
              " \"director's\": 18,\n",
              " 'perspective': 19,\n",
              " '(': 20,\n",
              " 'sound': 21,\n",
              " 'style': 22,\n",
              " 'amid': 23,\n",
              " 'the': 24,\n",
              " 'most': 25,\n",
              " 'long': 26,\n",
              " 'william': 27,\n",
              " 'own': 28,\n",
              " 'peter': 29,\n",
              " 'do': 30,\n",
              " 'took': 31,\n",
              " 'giant': 32,\n",
              " ',': 33,\n",
              " 'finally': 34,\n",
              " 'to': 35,\n",
              " 'time': 36,\n",
              " 'it': 37,\n",
              " 'his': 38,\n",
              " \"he's\": 39,\n",
              " 'but': 40,\n",
              " 'at': 41,\n",
              " 'provided': 42,\n",
              " 'based': 43,\n",
              " 'odd': 44,\n",
              " 'represents': 45,\n",
              " '\"': 46,\n",
              " 'football': 47,\n",
              " 'who': 48,\n",
              " 'brutal': 49,\n",
              " 'chelsea': 50,\n",
              " ':': 51,\n",
              " 'name': 52,\n",
              " 'seasoned': 53,\n",
              " 'same': 54,\n",
              " 'society': 55,\n",
              " 'john': 56,\n",
              " 'by': 57,\n",
              " 'novel': 58,\n",
              " 'of': 59,\n",
              " 'about': 60,\n",
              " 'club': 61,\n",
              " 'first': 62,\n",
              " 'on': 63,\n",
              " 'king': 64,\n",
              " 'rather': 65,\n",
              " 'rules': 66,\n",
              " 'with': 67,\n",
              " 'physical': 68,\n",
              " 'an': 69,\n",
              " 'left': 70,\n",
              " 'attack': 71,\n",
              " 'beneath': 72,\n",
              " 'emotional': 73,\n",
              " 'is': 74,\n",
              " 'desperately': 75,\n",
              " 'she': 76,\n",
              " 'struggling': 77,\n",
              " 'yet': 78,\n",
              " 'fact': 79,\n",
              " 'mother': 80,\n",
              " 'in': 81,\n",
              " 's': 82,\n",
              " 'find': 83,\n",
              " 'arrival': 84,\n",
              " 't&#252': 85,\n",
              " 'blend': 86,\n",
              " 'center': 87,\n",
              " 'drink': 88,\n",
              " 'hard': 89,\n",
              " 'parties': 90,\n",
              " 'upon': 91,\n",
              " ';': 92,\n",
              " 'be': 93,\n",
              " 'for': 94,\n",
              " 'heart': 95,\n",
              " 'that': 96,\n",
              " 'soon': 97,\n",
              " 'adventure': 98,\n",
              " 'jonah': 99,\n",
              " 'leads': 100,\n",
              " 'into': 101,\n",
              " 'hilarious': 102,\n",
              " 'showdown': 103,\n",
              " 'him': 104,\n",
              " 'melodrama': 105,\n",
              " 'big': 106,\n",
              " 'than': 107,\n",
              " 'well-acted': 108,\n",
              " 'screen': 109,\n",
              " 'television': 110,\n",
              " 'more': 111,\n",
              " 'little': 112,\n",
              " 'shot': 113,\n",
              " 'film': 114,\n",
              " 'created': 115,\n",
              " 'problem': 116,\n",
              " 'its': 117,\n",
              " 'cast': 118,\n",
              " 'strong': 119,\n",
              " 'set': 120,\n",
              " 'worthy': 121,\n",
              " 'characters': 122,\n",
              " 'having': 123,\n",
              " 'giving': 124,\n",
              " 'comes': 125,\n",
              " 'vivid': 126,\n",
              " 'something': 127,\n",
              " 'county': 128,\n",
              " 'when': 129,\n",
              " 'them': 130,\n",
              " 'unusually': 131,\n",
              " 'fight': 132,\n",
              " 'end': 133,\n",
              " 'continue': 134,\n",
              " 'exception': 135,\n",
              " 'have': 136,\n",
              " 'group': 137,\n",
              " 'went': 138,\n",
              " 'tim': 139,\n",
              " 'they': 140,\n",
              " 'issues': 141,\n",
              " 'did': 142,\n",
              " 'ways': 143,\n",
              " 'separate': 144,\n",
              " 'true': 145,\n",
              " 'as': 146,\n",
              " 'their': 147,\n",
              " 'too': 148,\n",
              " 'often': 149,\n",
              " 'repetitive': 150,\n",
              " 'out': 151,\n",
              " 'scenes': 152,\n",
              " 'familiar': 153,\n",
              " 'life': 154,\n",
              " 'movie': 155,\n",
              " \"there's\": 156,\n",
              " 'material': 157,\n",
              " 'some': 158,\n",
              " 'situations': 159,\n",
              " 'story': 160,\n",
              " 'good': 161,\n",
              " 'wanting': 162,\n",
              " 'from': 163,\n",
              " 'much': 164,\n",
              " 'social': 165,\n",
              " 'intellectual': 166,\n",
              " 'storytelling': 167,\n",
              " 'audience': 168,\n",
              " 'casting': 169,\n",
              " 'professional': 170,\n",
              " 'moves': 171,\n",
              " 'away': 172,\n",
              " 'k': 173,\n",
              " 'spy': 174,\n",
              " 'turn': 175,\n",
              " 'avoiding': 176,\n",
              " 'may': 177,\n",
              " 'phil': 178,\n",
              " 'must': 179,\n",
              " 'international': 180,\n",
              " 'mysterious': 181,\n",
              " 'pop': 182,\n",
              " 'well': 183,\n",
              " 'off': 184,\n",
              " 'bring': 185,\n",
              " 'back': 186,\n",
              " 'just': 187,\n",
              " 'past': 188,\n",
              " 'one': 189,\n",
              " 'advances': 190,\n",
              " 'national': 191,\n",
              " 'girl': 192,\n",
              " 'along': 193,\n",
              " 'way': 194,\n",
              " 'inner': 195,\n",
              " 'seedy': 196,\n",
              " 'spectacle': 197,\n",
              " 'final': 198,\n",
              " 'tv': 199,\n",
              " 'though': 200,\n",
              " 'gets': 201,\n",
              " 'josh': 202,\n",
              " 'clear': 203,\n",
              " 'no': 204,\n",
              " 'interested': 205,\n",
              " 'what': 206,\n",
              " 'all': 207,\n",
              " 'he': 208,\n",
              " \"it's\": 209,\n",
              " 'idea': 210,\n",
              " 'seems': 211,\n",
              " 'also': 212,\n",
              " 'has': 213,\n",
              " 'particular': 214,\n",
              " 'sex': 215,\n",
              " 'nadine': 216,\n",
              " 'see': 217,\n",
              " 'look': 218,\n",
              " 'appear': 219,\n",
              " \"you'll\": 220,\n",
              " 'yorkers': 221,\n",
              " 'york': 222,\n",
              " 'city': 223,\n",
              " 'happened': 224,\n",
              " 'visual': 225,\n",
              " 'teenager': 226,\n",
              " 'community': 227,\n",
              " 'tradition': 228,\n",
              " 'filmmaker': 229,\n",
              " 'parable': 230,\n",
              " 'creates': 231,\n",
              " 'breath': 232,\n",
              " 'old': 233,\n",
              " 'after': 234,\n",
              " 'son': 235,\n",
              " 'dreams': 236,\n",
              " 'leaving': 237,\n",
              " 'man': 238,\n",
              " 'alone': 239,\n",
              " 'under': 240,\n",
              " 'kevin': 241,\n",
              " 'charm': 242,\n",
              " 'puts': 243,\n",
              " 'creepy': 244,\n",
              " 'this': 245,\n",
              " 'old-fashioned': 246,\n",
              " 'values': 247,\n",
              " 'adult': 248,\n",
              " 'known': 249,\n",
              " 'worlds': 250,\n",
              " 'male': 251,\n",
              " 'best': 252,\n",
              " 'actor': 253,\n",
              " 'was': 254,\n",
              " 'industry': 255,\n",
              " 'break': 256,\n",
              " 'turns': 257,\n",
              " 'starts': 258,\n",
              " 'nightmare': 259,\n",
              " 'films': 260,\n",
              " 'human': 261,\n",
              " 'like': 262,\n",
              " 'now': 263,\n",
              " 'proves': 264,\n",
              " 'emotions': 265,\n",
              " 'relationships': 266,\n",
              " 'again': 267,\n",
              " 'can': 268,\n",
              " 'country': 269,\n",
              " 'visits': 270,\n",
              " 'happen': 271,\n",
              " 'naive': 272,\n",
              " 'lot': 273,\n",
              " 'japanese': 274,\n",
              " 'young': 275,\n",
              " 'foreign': 276,\n",
              " 'honest': 277,\n",
              " 'consequences': 278,\n",
              " 'tragic': 279,\n",
              " 'fulfill': 280,\n",
              " '-': 281,\n",
              " 'carlos': 282,\n",
              " 'apartment': 283,\n",
              " 'himself': 284,\n",
              " 'steals': 285,\n",
              " 'money': 286,\n",
              " 'mickey': 287,\n",
              " 'help': 288,\n",
              " 'show': 289,\n",
              " 'news': 290,\n",
              " 'accepts': 291,\n",
              " 'challenge': 292,\n",
              " 'rating': 293,\n",
              " 'popularity': 294,\n",
              " 'deep': 295,\n",
              " 'christian': 296,\n",
              " 'take': 297,\n",
              " 'revenge': 298,\n",
              " 'deal': 299,\n",
              " 'drama': 300,\n",
              " 'religious': 301,\n",
              " 'sense': 302,\n",
              " 'imagery': 303,\n",
              " 'acting': 304,\n",
              " 'strength': 305,\n",
              " 'terrible': 306,\n",
              " 'gives': 307,\n",
              " \"film's\": 308,\n",
              " 'years': 309,\n",
              " 'world': 310,\n",
              " 'disturbed': 311,\n",
              " 'businessman': 312,\n",
              " 'slowly': 313,\n",
              " 'become': 314,\n",
              " 'wealthy': 315,\n",
              " 'over': 316,\n",
              " 'effects': 317,\n",
              " 'incessant': 318,\n",
              " 'obnoxious': 319,\n",
              " 'music': 320,\n",
              " 'soundtrack': 321,\n",
              " 'special': 322,\n",
              " 'carefully': 323,\n",
              " 'deft': 324,\n",
              " 'crafted': 325,\n",
              " 'never': 326,\n",
              " 'could': 327,\n",
              " 'timely': 328,\n",
              " 'dramatic': 329,\n",
              " 'excellent': 330,\n",
              " 'struggle': 331,\n",
              " 'rock': 332,\n",
              " 'learn': 333,\n",
              " 'bands': 334,\n",
              " 'freedom': 335,\n",
              " 'chance': 336,\n",
              " 'head': 337,\n",
              " 'security': 338,\n",
              " 'interview': 339,\n",
              " 'filmed': 340,\n",
              " 'trade': 341,\n",
              " 'office': 342,\n",
              " 'morgan': 343,\n",
              " 'dean': 344,\n",
              " 'lovely': 345,\n",
              " 'well-made': 346,\n",
              " 'friendship': 347,\n",
              " 'depiction': 348,\n",
              " 'mysteries': 349,\n",
              " 'down': 350,\n",
              " 'somehow': 351,\n",
              " 'members': 352,\n",
              " 'board': 353,\n",
              " 'paradise': 354,\n",
              " 'day': 355,\n",
              " 'pull': 356,\n",
              " 'family': 357,\n",
              " 'together': 358,\n",
              " 'education': 359,\n",
              " 'highly': 360,\n",
              " 'win': 361,\n",
              " 'promising': 362,\n",
              " 'eccentric': 363,\n",
              " 'dysfunctional': 364,\n",
              " 'been': 365,\n",
              " 'bottom': 366,\n",
              " 'replaced': 367,\n",
              " 'formulaic': 368,\n",
              " 'silly': 369,\n",
              " 'video': 370,\n",
              " 'roll': 371,\n",
              " 'ride': 372,\n",
              " 'people': 373,\n",
              " 'lights': 374,\n",
              " 'looks': 375,\n",
              " 'glimpse': 376,\n",
              " 'fights': 377,\n",
              " 'usually': 378,\n",
              " 'while': 379,\n",
              " 'jail': 380,\n",
              " 'guard': 381,\n",
              " 'full': 382,\n",
              " 'stunning': 383,\n",
              " 'images': 384,\n",
              " 'rob': 385,\n",
              " 'each': 386,\n",
              " 'meaning': 387,\n",
              " 'establishment': 388,\n",
              " 'complicated': 389,\n",
              " 'cheer': 390,\n",
              " 'christmas': 391,\n",
              " 'becomes': 392,\n",
              " 'teaches': 393,\n",
              " 'encounter': 394,\n",
              " 'decides': 395,\n",
              " 'fake': 396,\n",
              " 'suicide': 397,\n",
              " 'refuses': 398,\n",
              " 'attempt': 399,\n",
              " 'hoping': 400,\n",
              " 'pity': 401,\n",
              " 'huppert': 402,\n",
              " 'getting': 403,\n",
              " 'skin': 404,\n",
              " 'skill': 405,\n",
              " 'shows': 406,\n",
              " 'uncanny': 407,\n",
              " 'enough': 408,\n",
              " 'unique': 409,\n",
              " 'does': 410,\n",
              " 'stand': 411,\n",
              " 'personal': 412,\n",
              " 'picture': 413,\n",
              " 'depth': 414,\n",
              " 'such': 415,\n",
              " 'genre': 416,\n",
              " 'between': 417,\n",
              " 'alive': 418,\n",
              " 'attention': 419,\n",
              " 'coming-of-age': 420,\n",
              " 'strangers': 421,\n",
              " 'realistic': 422,\n",
              " 'two': 423,\n",
              " 'town': 424,\n",
              " 'twist': 425,\n",
              " 'performances': 426,\n",
              " 'brother': 427,\n",
              " 'love': 428,\n",
              " 'tribal': 429,\n",
              " \"you're\": 430,\n",
              " 'how': 431,\n",
              " 'those': 432,\n",
              " 'you': 433,\n",
              " 'only': 434,\n",
              " 'house': 435,\n",
              " 'father': 436,\n",
              " 'my': 437,\n",
              " 'i': 438,\n",
              " 'watching': 439,\n",
              " 'art': 440,\n",
              " 'makes': 441,\n",
              " '--': 442,\n",
              " 'feel': 443,\n",
              " 'killed': 444,\n",
              " 'max': 445,\n",
              " 'constant': 446,\n",
              " 'fbi': 447,\n",
              " 'kidnapping': 448,\n",
              " 'including': 449,\n",
              " 'finding': 450,\n",
              " 'boy': 451,\n",
              " \"i've\": 452,\n",
              " 'through': 453,\n",
              " 'seen': 454,\n",
              " 'comedy': 455,\n",
              " 'mystery': 456,\n",
              " 'ends': 457,\n",
              " 'suspenseful': 458,\n",
              " 'fails': 459,\n",
              " 'neither': 460,\n",
              " 'whether': 461,\n",
              " 'wants': 462,\n",
              " 'know': 463,\n",
              " 'being': 464,\n",
              " 'both': 465,\n",
              " 'up': 466,\n",
              " 'horror': 467,\n",
              " \"doesn't\": 468,\n",
              " 'era': 469,\n",
              " 'small': 470,\n",
              " 'attempts': 471,\n",
              " 'call': 472,\n",
              " 'are': 473,\n",
              " 'men': 474,\n",
              " 'minds': 475,\n",
              " 'save': 476,\n",
              " 'woman': 477,\n",
              " 'another': 478,\n",
              " 'angry': 479,\n",
              " 'where': 480,\n",
              " 'finds': 481,\n",
              " 'scott': 482,\n",
              " 'fantasy': 483,\n",
              " 'dream': 484,\n",
              " 'played': 485,\n",
              " 'grief': 486,\n",
              " 'jane': 487,\n",
              " 'reality': 488,\n",
              " 'age': 489,\n",
              " 'strange': 490,\n",
              " 'might': 491,\n",
              " 'provocative': 492,\n",
              " 'called': 493,\n",
              " 'example': 494,\n",
              " 'evil': 495,\n",
              " 'realize': 496,\n",
              " 'not': 497,\n",
              " 'everything': 498,\n",
              " 'ending': 499,\n",
              " 'works': 500,\n",
              " 'somewhat': 501,\n",
              " 'deeds': 502,\n",
              " 'begins': 503,\n",
              " 'poet': 504,\n",
              " 'different': 505,\n",
              " 'deceased': 506,\n",
              " 'kind': 507,\n",
              " 'quickly': 508,\n",
              " 'owner': 509,\n",
              " 'baby': 510,\n",
              " 'protect': 511,\n",
              " '17': 512,\n",
              " 'warden': 513,\n",
              " 'year': 514,\n",
              " 'haunting': 515,\n",
              " 'include': 516,\n",
              " 'voices': 517,\n",
              " 'century': 518,\n",
              " 'household': 519,\n",
              " 'detailed': 520,\n",
              " 'date': 521,\n",
              " 'perform': 522,\n",
              " 'explores': 523,\n",
              " 'then': 524,\n",
              " 'parent': 525,\n",
              " 'damage': 526,\n",
              " 'psychic': 527,\n",
              " 'document': 528,\n",
              " 'times': 529,\n",
              " 'started': 530,\n",
              " 'minute': 531,\n",
              " 'forth': 532,\n",
              " 'sweet': 533,\n",
              " 'found': 534,\n",
              " 'spot': 535,\n",
              " 'which': 536,\n",
              " 'project': 537,\n",
              " 'multiple': 538,\n",
              " 'wilderness': 539,\n",
              " 'combat': 540,\n",
              " 'woods': 541,\n",
              " 'type': 542,\n",
              " 'runs': 543,\n",
              " 'lead': 544,\n",
              " 'spending': 545,\n",
              " 'promises': 546,\n",
              " 'sarah': 547,\n",
              " 'night': 548,\n",
              " 'piece': 549,\n",
              " 'complex': 550,\n",
              " 'ensemble': 551,\n",
              " 'emotionally': 552,\n",
              " 'every': 553,\n",
              " 'point': 554,\n",
              " 'turning': 555,\n",
              " 'writer-director': 556,\n",
              " 'portrays': 557,\n",
              " 'extraordinary': 558,\n",
              " \"woman's\": 559,\n",
              " 'think': 560,\n",
              " 'put': 561,\n",
              " 'sleep': 562,\n",
              " 'existential': 563,\n",
              " 'make': 564,\n",
              " \"it'll\": 565,\n",
              " 'suffering': 566,\n",
              " 'instead': 567,\n",
              " 'choices': 568,\n",
              " 'we': 569,\n",
              " 'our': 570,\n",
              " 'pay': 571,\n",
              " 'quest': 572,\n",
              " 'demons': 573,\n",
              " 'price': 574,\n",
              " 'power': 575,\n",
              " 'release': 576,\n",
              " 'drug': 577,\n",
              " 'job': 578,\n",
              " 'kilo': 579,\n",
              " 'manny': 580,\n",
              " 'reluctantly': 581,\n",
              " 'several': 582,\n",
              " 'mob': 583,\n",
              " 'face': 584,\n",
              " 'bad': 585,\n",
              " 'ultimate': 586,\n",
              " 'spectacular': 587,\n",
              " 'russian': 588,\n",
              " 'enemy': 589,\n",
              " 'martial': 590,\n",
              " 'arts': 591,\n",
              " 'sexy': 592,\n",
              " 'princess': 593,\n",
              " 'packed': 594,\n",
              " 'action': 595,\n",
              " 'made': 596,\n",
              " 'discovers': 597,\n",
              " 'battles': 598,\n",
              " 'secrets': 599,\n",
              " 'today': 600,\n",
              " 'quinn': 601,\n",
              " 'process': 602,\n",
              " 'pow': 603,\n",
              " 'enter': 604,\n",
              " 'kung': 605,\n",
              " 'within': 606,\n",
              " 'spoof': 607,\n",
              " 'murder': 608,\n",
              " 'numbers': 609,\n",
              " 'performance': 610,\n",
              " 'delivers': 611,\n",
              " 'history': 612,\n",
              " 'x': 613,\n",
              " 'norton': 614,\n",
              " 'gosling': 615,\n",
              " 'ryan': 616,\n",
              " 'american': 617,\n",
              " 'touch': 618,\n",
              " '101': 619,\n",
              " 'heaven': 620,\n",
              " 'directors': 621,\n",
              " 'poetic': 622,\n",
              " 'match': 623,\n",
              " 'felt': 624,\n",
              " 'addition': 625,\n",
              " 'rare': 626,\n",
              " 'everyone': 627,\n",
              " 'powerful': 628,\n",
              " \"hoffman's\": 629,\n",
              " 'rewarding': 630,\n",
              " 'sort': 631,\n",
              " 'thoughtful': 632,\n",
              " 'offers': 633,\n",
              " 'clinic': 634,\n",
              " 'very': 635,\n",
              " 'intentions': 636,\n",
              " 'done': 637,\n",
              " 'justice': 638,\n",
              " 'result': 639,\n",
              " 'itself': 640,\n",
              " 'depressing': 641,\n",
              " 'thoroughly': 642,\n",
              " 'flight': 643,\n",
              " 'bright': 644,\n",
              " 'inventive': 645,\n",
              " 'fancy': 646,\n",
              " 'winning': 647,\n",
              " 'great': 648,\n",
              " 'eye': 649,\n",
              " 'private': 650,\n",
              " 'superficial': 651,\n",
              " 'forced': 652,\n",
              " 'jersey': 653,\n",
              " 'had': 654,\n",
              " 'lawyer': 655,\n",
              " 'claims': 656,\n",
              " 'should': 657,\n",
              " 'perfect': 658,\n",
              " \"they're\": 659,\n",
              " 'other': 660,\n",
              " 'except': 661,\n",
              " 'marry': 662,\n",
              " 'running': 663,\n",
              " 'lena': 664,\n",
              " '20': 665,\n",
              " 'dennis': 666,\n",
              " 'vikrant': 667,\n",
              " 'strikes': 668,\n",
              " \"he'll\": 669,\n",
              " 'anna': 670,\n",
              " 'guru': 671,\n",
              " 'prize': 672,\n",
              " 'offered': 673,\n",
              " 'kill': 674,\n",
              " 'conservative': 675,\n",
              " 'disturbing': 676,\n",
              " 'speaking': 677,\n",
              " 'local': 678,\n",
              " 'vision': 679,\n",
              " 'usual': 680,\n",
              " 'population': 681,\n",
              " 'suddenly': 682,\n",
              " 'divine': 683,\n",
              " 'changes': 684,\n",
              " 'dan': 685,\n",
              " 'form': 686,\n",
              " 'director': 687,\n",
              " 'camera': 688,\n",
              " 'uses': 689,\n",
              " 'gravity': 690,\n",
              " 'blood': 691,\n",
              " 'eyes': 692,\n",
              " 'unexpected': 693,\n",
              " 'if': 694,\n",
              " 'blade': 695,\n",
              " 'keep': 696,\n",
              " 'gore': 697,\n",
              " 'your': 698,\n",
              " 'ii': 699,\n",
              " 'open': 700,\n",
              " 'brought': 701,\n",
              " 'believing': 702,\n",
              " 'chain': 703,\n",
              " 'events': 704,\n",
              " 'so': 705,\n",
              " 'manipulating': 706,\n",
              " 'side': 707,\n",
              " 'understanding': 708,\n",
              " 'ex-con': 709,\n",
              " 'track': 710,\n",
              " 'capable': 711,\n",
              " 'sets': 712,\n",
              " 'michael': 713,\n",
              " 'expert': 714,\n",
              " 'inside': 715,\n",
              " 'green': 716,\n",
              " 'italy': 717,\n",
              " 'steve': 718,\n",
              " 'gang': 719,\n",
              " \"can't\": 720,\n",
              " 'handsome': 721,\n",
              " 'amazing': 722,\n",
              " 'charlie': 723,\n",
              " 'heist': 724,\n",
              " 'gold': 725,\n",
              " 'veteran': 726,\n",
              " 'genius': 727,\n",
              " 'pulling': 728,\n",
              " 'heavily': 729,\n",
              " 'computer': 730,\n",
              " 'believe': 731,\n",
              " 'single': 732,\n",
              " 'sequence': 733,\n",
              " 'really': 734,\n",
              " 'few': 735,\n",
              " 'seem': 736,\n",
              " 'there': 737,\n",
              " 'stars': 738,\n",
              " 'scores': 739,\n",
              " 'movies': 740,\n",
              " 'content': 741,\n",
              " 'merely': 742,\n",
              " 'need': 743,\n",
              " 'insurance': 744,\n",
              " 'health': 745,\n",
              " 'thrills': 746,\n",
              " 'easy': 747,\n",
              " 'character': 748,\n",
              " 'exploit': 749,\n",
              " 'title': 750,\n",
              " 'anger': 751,\n",
              " 'filmmaking': 752,\n",
              " 'liberal': 753,\n",
              " 'integrity': 754,\n",
              " 'hardly': 755,\n",
              " 'historical': 756,\n",
              " 'mr': 757,\n",
              " 'without': 758,\n",
              " 'either': 759,\n",
              " \"women's\": 760,\n",
              " 'park': 761,\n",
              " 'goal': 762,\n",
              " 'reach': 763,\n",
              " 'unflinching': 764,\n",
              " 'rarely': 765,\n",
              " 'portrait': 766,\n",
              " 'modern': 767,\n",
              " 'maudlin': 768,\n",
              " 'get': 769,\n",
              " 'escape': 770,\n",
              " 'influence': 771,\n",
              " 'distance': 772,\n",
              " 'direction': 773,\n",
              " 'douglas': 774,\n",
              " 'told': 775,\n",
              " 'words': 776,\n",
              " 'roommate': 777,\n",
              " 'girlfriend': 778,\n",
              " 'explore': 779,\n",
              " 'joe': 780,\n",
              " 'book': 781,\n",
              " 'colors': 782,\n",
              " 'before': 783,\n",
              " 'fun': 784,\n",
              " 'bold': 785,\n",
              " 'reading': 786,\n",
              " 'anne': 787,\n",
              " 'beautiful': 788,\n",
              " 'unfortunately': 789,\n",
              " 'seductive': 790,\n",
              " 'third': 791,\n",
              " 'surprisingly': 792,\n",
              " 'entertaining': 793,\n",
              " 'derivative': 794,\n",
              " 'hit': 795,\n",
              " 'buy': 796,\n",
              " 'throughout': 797,\n",
              " 'cia': 798,\n",
              " 'impressive': 799,\n",
              " 'stuff': 800,\n",
              " 'mind': 801,\n",
              " 'daring': 802,\n",
              " '11': 803,\n",
              " 'since': 804,\n",
              " 'anyone': 805,\n",
              " \"hasn't\": 806,\n",
              " 'intelligence': 807,\n",
              " 'living': 808,\n",
              " 'child': 809,\n",
              " 'americans': 810,\n",
              " 'vs': 811,\n",
              " 'despite': 812,\n",
              " 'theme': 813,\n",
              " 'predictable': 814,\n",
              " 'natural': 815,\n",
              " 'charmer': 816,\n",
              " 'real': 817,\n",
              " 'adapted': 818,\n",
              " 'raises': 819,\n",
              " 'timeless': 820,\n",
              " 'sentimental': 821,\n",
              " 'refreshingly': 822,\n",
              " 'e': 823,\n",
              " 'b': 824,\n",
              " 'beloved': 825,\n",
              " 'even': 826,\n",
              " \"children's\": 827,\n",
              " 'amusing': 828,\n",
              " 'second': 829,\n",
              " 'black': 830,\n",
              " 'behind': 831,\n",
              " 'raja': 832,\n",
              " 'doctor': 833,\n",
              " 'follows': 834,\n",
              " 'munnabhai': 835,\n",
              " 'affair': 836,\n",
              " 'digital': 837,\n",
              " \"'\": 838,\n",
              " 'sport': 839,\n",
              " 'sharp': 840,\n",
              " 'deeply': 841,\n",
              " 'edges': 842,\n",
              " \"they've\": 843,\n",
              " 'lawrence': 844,\n",
              " 'humor': 845,\n",
              " 'dangerous': 846,\n",
              " 'ill': 847,\n",
              " 'demands': 848,\n",
              " 'lost': 849,\n",
              " 'robbery': 850,\n",
              " 'picks': 851,\n",
              " 'women': 852,\n",
              " 'kills': 853,\n",
              " 'opportunity': 854,\n",
              " 'cliche': 855,\n",
              " 'showing': 856,\n",
              " 'actions': 857,\n",
              " 'hidden': 858,\n",
              " 'keeping': 859,\n",
              " 'thoughts': 860,\n",
              " 'these': 861,\n",
              " 'impact': 862,\n",
              " 'ideas': 863,\n",
              " 'concerned': 864,\n",
              " 'achieves': 865,\n",
              " 'accident': 866,\n",
              " 'noble': 867,\n",
              " 'actually': 868,\n",
              " 'wannabe': 869,\n",
              " 'fatal': 870,\n",
              " 'falls': 871,\n",
              " 'almost': 872,\n",
              " 'crowd': 873,\n",
              " 'monster': 874,\n",
              " 'pregnant': 875,\n",
              " 'bodies': 876,\n",
              " 'discovered': 877,\n",
              " 'case': 878,\n",
              " 'hospital': 879,\n",
              " 'takes': 880,\n",
              " 'calls': 881,\n",
              " 'seeking': 882,\n",
              " 'satan': 883,\n",
              " 'patient': 884,\n",
              " 'enjoy': 885,\n",
              " 'making': 886,\n",
              " 'becoming': 887,\n",
              " 'taken': 888,\n",
              " 'manipulative': 889,\n",
              " 'hands': 890,\n",
              " 'police': 891,\n",
              " 'working': 892,\n",
              " 'short': 893,\n",
              " 'killers': 894,\n",
              " 'viewing': 895,\n",
              " 'crimes': 896,\n",
              " 'commit': 897,\n",
              " 'department': 898,\n",
              " 'minority': 899,\n",
              " 'technology': 900,\n",
              " 'division': 901,\n",
              " 'future': 902,\n",
              " 'report': 903,\n",
              " 'cop': 904,\n",
              " 'legacy': 905,\n",
              " 'intriguing': 906,\n",
              " 'yes': 907,\n",
              " 'room': 908,\n",
              " 'act': 909,\n",
              " 'larger': 910,\n",
              " 'stones': 911,\n",
              " 'me': 912,\n",
              " 'yourself': 913,\n",
              " \"i'm\": 914,\n",
              " 'fan': 915,\n",
              " \"didn't\": 916,\n",
              " 'sure': 917,\n",
              " 'care': 918,\n",
              " 'southern': 919,\n",
              " 'california': 920,\n",
              " 'star': 921,\n",
              " 'costumes': 922,\n",
              " 'tragedy': 923,\n",
              " 'locations': 924,\n",
              " 'tried': 925,\n",
              " \"she's\": 926,\n",
              " 'feels': 927,\n",
              " \"father's\": 928,\n",
              " 'difference': 929,\n",
              " 'go': 930,\n",
              " \"don't\": 931,\n",
              " 'courage': 932,\n",
              " 'stupid': 933,\n",
              " 'top': 934,\n",
              " 'death': 935,\n",
              " 'coming': 936,\n",
              " 'terms': 937,\n",
              " 'generic': 938,\n",
              " 'door': 939,\n",
              " 'outside': 940,\n",
              " 'sits': 941,\n",
              " 'army': 942,\n",
              " 'growing': 943,\n",
              " 'shadow': 944,\n",
              " 'dark': 945,\n",
              " 'things': 946,\n",
              " 'prove': 947,\n",
              " 'screenwriters': 948,\n",
              " 'three': 949,\n",
              " 'actresses': 950,\n",
              " 'large': 951,\n",
              " 'plays': 952,\n",
              " 'measure': 953,\n",
              " 'thanks': 954,\n",
              " 'xxx': 955,\n",
              " 'excitement': 956,\n",
              " 'decide': 957,\n",
              " 'moments': 958,\n",
              " 'hurt': 959,\n",
              " 'say': 960,\n",
              " 'simply': 961,\n",
              " 'jenny': 962,\n",
              " 'angeles': 963,\n",
              " 'moved': 964,\n",
              " 'los': 965,\n",
              " 'named': 966,\n",
              " 'honor': 967,\n",
              " 'maid': 968,\n",
              " 'fiancee': 969,\n",
              " 'better': 970,\n",
              " 'were': 971,\n",
              " 'huge': 972,\n",
              " 'last': 973,\n",
              " 'effort': 974,\n",
              " 'witherspoon': 975,\n",
              " 'funny': 976,\n",
              " 'pretty': 977,\n",
              " 'potential': 978,\n",
              " 'windtalkers': 979,\n",
              " 'fiction': 980,\n",
              " 'would': 981,\n",
              " 'wish': 982,\n",
              " 'war': 983,\n",
              " 'still': 984,\n",
              " 'faith': 985,\n",
              " 'wry': 986,\n",
              " 'light': 987,\n",
              " 'demonstrates': 988,\n",
              " 'fame': 989,\n",
              " 'satire': 990,\n",
              " 'healthy': 991,\n",
              " 'dr': 992,\n",
              " 'create': 993,\n",
              " 'military': 994,\n",
              " 'dna': 995,\n",
              " 'banner': 996,\n",
              " 'david': 997,\n",
              " 'sorts': 998,\n",
              " 'any': 999,\n",
              " ...}"
            ]
          },
          "metadata": {},
          "execution_count": 48
        }
      ],
      "source": [
        "vocab2index"
      ]
    },
    {
      "cell_type": "markdown",
      "metadata": {
        "id": "tDH1wW3i2PwO"
      },
      "source": [
        "## Sentence encoding\n",
        "Here we encode each sentence as a sequence of indices corresponding to each word."
      ]
    },
    {
      "cell_type": "code",
      "execution_count": 49,
      "metadata": {
        "id": "9L5x0k_S2PwO"
      },
      "outputs": [],
      "source": [
        "x_train_len = np.array([len(x.split()) for x in X_train])\n",
        "x_val_len = np.array([len(x.split()) for x in X_val])"
      ]
    },
    {
      "cell_type": "code",
      "execution_count": 50,
      "metadata": {
        "id": "07GhHsJc2PwO",
        "colab": {
          "base_uri": "https://localhost:8080/"
        },
        "outputId": "67dee493-7976-427e-ff61-584999923180"
      },
      "outputs": [
        {
          "output_type": "execute_result",
          "data": {
            "text/plain": [
              "43.0"
            ]
          },
          "metadata": {},
          "execution_count": 50
        }
      ],
      "source": [
        "np.percentile(x_train_len, 95) # let set the max sequence len to N=40"
      ]
    },
    {
      "cell_type": "code",
      "execution_count": 51,
      "metadata": {
        "id": "fC6o7Etq2PwP",
        "colab": {
          "base_uri": "https://localhost:8080/",
          "height": 36
        },
        "outputId": "d978182b-da83-4d5f-fcad-16b23a6b8a29"
      },
      "outputs": [
        {
          "output_type": "execute_result",
          "data": {
            "text/plain": [
              "'will god let her fall or give her a new path ?'"
            ],
            "application/vnd.google.colaboratory.intrinsic+json": {
              "type": "string"
            }
          },
          "metadata": {},
          "execution_count": 51
        }
      ],
      "source": [
        "X_train[0]"
      ]
    },
    {
      "cell_type": "code",
      "execution_count": 52,
      "metadata": {
        "id": "TGzs2h312PwP",
        "colab": {
          "base_uri": "https://localhost:8080/"
        },
        "outputId": "137178ec-c8d3-4657-ff37-aaf5730d4b7f"
      },
      "outputs": [
        {
          "output_type": "execute_result",
          "data": {
            "text/plain": [
              "8"
            ]
          },
          "metadata": {},
          "execution_count": 52
        }
      ],
      "source": [
        "# returns the index of the word or the index of \"UNK\" otherwise\n",
        "vocab2index.get(\"?\", vocab2index[\"UNK\"])"
      ]
    },
    {
      "cell_type": "code",
      "execution_count": 53,
      "metadata": {
        "id": "T3YtzJQT2PwP",
        "colab": {
          "base_uri": "https://localhost:8080/"
        },
        "outputId": "d4efd77f-a6b7-47c6-f9c4-61cebacc16b5"
      },
      "outputs": [
        {
          "output_type": "execute_result",
          "data": {
            "text/plain": [
              "array([10,  9, 12,  3,  4,  7,  6,  3, 11,  2,  5,  8])"
            ]
          },
          "metadata": {},
          "execution_count": 53
        }
      ],
      "source": [
        "np.array([vocab2index.get(w, vocab2index[\"UNK\"]) for w in X_train[0].split()])"
      ]
    },
    {
      "cell_type": "code",
      "execution_count": 54,
      "metadata": {
        "id": "cogt-r8t2PwP"
      },
      "outputs": [],
      "source": [
        "def encode_sentence(s, N=40):\n",
        "    enc = np.zeros(N, dtype=np.int32)\n",
        "    enc1 = np.array([vocab2index.get(w, vocab2index[\"UNK\"]) for w in s.split()])\n",
        "    l = min(N, len(enc1))\n",
        "    enc[:l] = enc1[:l]\n",
        "    return enc"
      ]
    },
    {
      "cell_type": "code",
      "execution_count": 55,
      "metadata": {
        "id": "2qfaNHrK2PwP",
        "colab": {
          "base_uri": "https://localhost:8080/"
        },
        "outputId": "7daf96b4-bfd4-49e7-ff5e-2465c5096a61"
      },
      "outputs": [
        {
          "output_type": "execute_result",
          "data": {
            "text/plain": [
              "array([10,  9, 12,  3,  4,  7,  6,  3, 11,  2,  5,  8,  0,  0,  0,  0,  0,\n",
              "        0,  0,  0,  0,  0,  0,  0,  0,  0,  0,  0,  0,  0,  0,  0,  0,  0,\n",
              "        0,  0,  0,  0,  0,  0], dtype=int32)"
            ]
          },
          "metadata": {},
          "execution_count": 55
        }
      ],
      "source": [
        "encode_sentence(X_train[0])"
      ]
    },
    {
      "cell_type": "code",
      "execution_count": 56,
      "metadata": {
        "id": "wPl89Bgk2PwP"
      },
      "outputs": [],
      "source": [
        "x_train_len = np.minimum(x_train_len, 40)\n",
        "x_val_len = np.minimum(x_val_len, 40)"
      ]
    },
    {
      "cell_type": "code",
      "execution_count": 57,
      "metadata": {
        "id": "O2XemeTO2PwP",
        "colab": {
          "base_uri": "https://localhost:8080/"
        },
        "outputId": "47925ca7-f3d7-4a3b-a965-1f06f46f0d43"
      },
      "outputs": [
        {
          "output_type": "execute_result",
          "data": {
            "text/plain": [
              "(8000, 40)"
            ]
          },
          "metadata": {},
          "execution_count": 57
        }
      ],
      "source": [
        "x_train = np.vstack([encode_sentence(x) for x in X_train])\n",
        "x_train.shape"
      ]
    },
    {
      "cell_type": "code",
      "execution_count": 58,
      "metadata": {
        "id": "U28A8nMi2PwQ",
        "colab": {
          "base_uri": "https://localhost:8080/"
        },
        "outputId": "24503820-b316-4c5d-d031-d92b7372dce4"
      },
      "outputs": [
        {
          "output_type": "execute_result",
          "data": {
            "text/plain": [
              "(2000, 40)"
            ]
          },
          "metadata": {},
          "execution_count": 58
        }
      ],
      "source": [
        "x_val = np.vstack([encode_sentence(x) for x in X_val])\n",
        "x_val.shape"
      ]
    },
    {
      "cell_type": "markdown",
      "metadata": {
        "id": "Nkvf_qNW2PwQ"
      },
      "source": [
        "## Embedding layer\n",
        "Most deep learning models use a dense vectors of real numbers as representation of words (word embeddings), as opposed to a one-hot encoding representations. The module torch.nn.Embedding is used to represent word embeddings. It takes two arguments: the vocabulary size, and the dimensionality of the embeddings. The embeddings are initialized with random vectors."
      ]
    },
    {
      "cell_type": "code",
      "execution_count": 59,
      "metadata": {
        "id": "1_BdA28I2PwQ",
        "colab": {
          "base_uri": "https://localhost:8080/"
        },
        "outputId": "341cc90f-628d-469c-cea0-66f182bdc343"
      },
      "outputs": [
        {
          "output_type": "execute_result",
          "data": {
            "text/plain": [
              "Parameter containing:\n",
              "tensor([[ 0.0000,  0.0000,  0.0000,  0.0000],\n",
              "        [-0.5163, -1.0105,  2.1750, -0.3798],\n",
              "        [-0.0627, -1.0944, -1.9079,  1.2036],\n",
              "        [-0.5578,  0.8704,  1.0049,  0.9250],\n",
              "        [-0.0140, -1.3842, -0.2061,  0.1309],\n",
              "        [-0.3215,  1.1934, -1.9050, -0.7542],\n",
              "        [ 0.0360, -1.2057, -0.3352,  1.0153],\n",
              "        [ 0.0506, -0.5088,  0.2579, -1.5502],\n",
              "        [ 0.6085,  1.0207,  0.5835, -0.2245],\n",
              "        [-0.8248, -0.0253,  0.0620,  2.2008]], requires_grad=True)"
            ]
          },
          "metadata": {},
          "execution_count": 59
        }
      ],
      "source": [
        "# an Embedding module containing 10 words with embedding size 4\n",
        "# embedding will be initialized at random\n",
        "embed = nn.Embedding(10, 4, padding_idx=0)\n",
        "embed.weight"
      ]
    },
    {
      "cell_type": "markdown",
      "metadata": {
        "id": "JCaS_HNi2PwQ"
      },
      "source": [
        "Note that the `padding_idx` has embedding vector 0."
      ]
    },
    {
      "cell_type": "code",
      "execution_count": 60,
      "metadata": {
        "id": "P7bYuDK72PwQ",
        "colab": {
          "base_uri": "https://localhost:8080/"
        },
        "outputId": "5dcce73a-cff2-4411-8169-97037f0876a9"
      },
      "outputs": [
        {
          "output_type": "execute_result",
          "data": {
            "text/plain": [
              "tensor([[[-0.5163, -1.0105,  2.1750, -0.3798],\n",
              "         [-0.0140, -1.3842, -0.2061,  0.1309],\n",
              "         [-0.5163, -1.0105,  2.1750, -0.3798],\n",
              "         [-0.3215,  1.1934, -1.9050, -0.7542],\n",
              "         [-0.5163, -1.0105,  2.1750, -0.3798],\n",
              "         [ 0.0000,  0.0000,  0.0000,  0.0000]]], grad_fn=<EmbeddingBackward0>)"
            ]
          },
          "metadata": {},
          "execution_count": 60
        }
      ],
      "source": [
        "# given a list of ids we can \"look up\" the embedding corresponing to each id\n",
        "# can you see that some vectors are the same?\n",
        "a = torch.LongTensor([[1,4,1,5,1,0]])\n",
        "embed(a)"
      ]
    },
    {
      "cell_type": "markdown",
      "metadata": {
        "id": "Yo7WsDLR2PwQ"
      },
      "source": [
        "This would be the representation of a sentence with words with indices [1,4,1,5,1] and a padding at the end. Bellow we have an example in which we have two sentences. the first sentence has length 3 and the last sentence has length 2. In order to use a tensor we use padding at the end of the second sentence."
      ]
    },
    {
      "cell_type": "code",
      "execution_count": 61,
      "metadata": {
        "id": "wbK3mSf-2PwQ"
      },
      "outputs": [],
      "source": [
        "a = torch.LongTensor([[1,4,1], [1,3,0]])"
      ]
    },
    {
      "cell_type": "markdown",
      "metadata": {
        "id": "ZOLw_22g2PwQ"
      },
      "source": [
        "Our model takes an average of the word embedding of each word. Here is how we do it."
      ]
    },
    {
      "cell_type": "code",
      "execution_count": 62,
      "metadata": {
        "id": "OSKVLjh22PwQ"
      },
      "outputs": [],
      "source": [
        "s = torch.FloatTensor([3, 2]) # here is the size of the vector"
      ]
    },
    {
      "cell_type": "code",
      "execution_count": 63,
      "metadata": {
        "id": "lax0Al0B2PwQ",
        "colab": {
          "base_uri": "https://localhost:8080/"
        },
        "outputId": "7accd447-4708-4341-e70f-6bddf50a31a1"
      },
      "outputs": [
        {
          "output_type": "execute_result",
          "data": {
            "text/plain": [
              "tensor([[[-0.5163, -1.0105,  2.1750, -0.3798],\n",
              "         [-0.0140, -1.3842, -0.2061,  0.1309],\n",
              "         [-0.5163, -1.0105,  2.1750, -0.3798]],\n",
              "\n",
              "        [[-0.5163, -1.0105,  2.1750, -0.3798],\n",
              "         [-0.5578,  0.8704,  1.0049,  0.9250],\n",
              "         [ 0.0000,  0.0000,  0.0000,  0.0000]]], grad_fn=<EmbeddingBackward0>)"
            ]
          },
          "metadata": {},
          "execution_count": 63
        }
      ],
      "source": [
        "embed(a)"
      ]
    },
    {
      "cell_type": "code",
      "execution_count": 64,
      "metadata": {
        "id": "vDzBdCiq2PwR",
        "colab": {
          "base_uri": "https://localhost:8080/"
        },
        "outputId": "ba47d8bb-835a-403c-aabe-b9f004e03469"
      },
      "outputs": [
        {
          "output_type": "execute_result",
          "data": {
            "text/plain": [
              "tensor([[-1.0466, -3.4053,  4.1439, -0.6287],\n",
              "        [-1.0741, -0.1401,  3.1800,  0.5452]], grad_fn=<SumBackward1>)"
            ]
          },
          "metadata": {},
          "execution_count": 64
        }
      ],
      "source": [
        "embed(a).sum(dim=1)"
      ]
    },
    {
      "cell_type": "code",
      "execution_count": 65,
      "metadata": {
        "id": "PzPrm_Pm2PwR",
        "colab": {
          "base_uri": "https://localhost:8080/"
        },
        "outputId": "403452f0-4804-45bb-f071-84e6eb526113"
      },
      "outputs": [
        {
          "output_type": "execute_result",
          "data": {
            "text/plain": [
              "tensor([[-0.3489, -1.1351,  1.3813, -0.2096],\n",
              "        [-0.5371, -0.0701,  1.5900,  0.2726]], grad_fn=<DivBackward0>)"
            ]
          },
          "metadata": {},
          "execution_count": 65
        }
      ],
      "source": [
        "sum_embs = embed(a).sum(dim=1)\n",
        "sum_embs/ s.view(s.shape[0], 1)"
      ]
    },
    {
      "cell_type": "markdown",
      "metadata": {
        "id": "pWRYi_IF2PwR"
      },
      "source": [
        "## Continuous Bag of Words Model"
      ]
    },
    {
      "cell_type": "code",
      "execution_count": 66,
      "metadata": {
        "id": "IAPUi5XT2PwR"
      },
      "outputs": [],
      "source": [
        "class CBOW(nn.Module):\n",
        "    def __init__(self, vocab_size, emb_size=100):\n",
        "        super(CBOW, self).__init__()\n",
        "        self.word_emb = nn.Embedding(vocab_size, emb_size, padding_idx=0)\n",
        "        self.linear = nn.Linear(emb_size, 1)\n",
        "\n",
        "    def forward(self, x, s):\n",
        "        x = self.word_emb(x)\n",
        "        x = x.sum(dim=1)/ s\n",
        "        x = self.linear(x)\n",
        "        return x"
      ]
    },
    {
      "cell_type": "code",
      "execution_count": 67,
      "metadata": {
        "id": "gEpSR9ar2PwR"
      },
      "outputs": [],
      "source": [
        "model = CBOW(vocab_size=5, emb_size=3)"
      ]
    },
    {
      "cell_type": "code",
      "execution_count": 68,
      "metadata": {
        "id": "uQ84nh0y2PwR",
        "colab": {
          "base_uri": "https://localhost:8080/"
        },
        "outputId": "710b3b31-b41f-473a-a6d3-8f9b7d3d5ca4"
      },
      "outputs": [
        {
          "output_type": "execute_result",
          "data": {
            "text/plain": [
              "Parameter containing:\n",
              "tensor([[ 0.0000,  0.0000,  0.0000],\n",
              "        [-1.6398, -0.2460,  0.1200],\n",
              "        [-0.2734, -0.5105,  0.1026],\n",
              "        [-1.4194,  1.2210, -1.3923],\n",
              "        [-0.1688, -1.4079,  0.7841]], requires_grad=True)"
            ]
          },
          "metadata": {},
          "execution_count": 68
        }
      ],
      "source": [
        "model.word_emb.weight"
      ]
    },
    {
      "cell_type": "code",
      "execution_count": 69,
      "metadata": {
        "id": "H2eQsY1r2PwR",
        "colab": {
          "base_uri": "https://localhost:8080/"
        },
        "outputId": "3b833891-53bb-4307-ef94-ac4d1a8ce616"
      },
      "outputs": [
        {
          "output_type": "execute_result",
          "data": {
            "text/plain": [
              "tensor([[-1.3603],\n",
              "        [-0.4704]], grad_fn=<AddmmBackward0>)"
            ]
          },
          "metadata": {},
          "execution_count": 69
        }
      ],
      "source": [
        "s = s.view(s.shape[0], 1)\n",
        "model(a, s)"
      ]
    },
    {
      "cell_type": "markdown",
      "metadata": {
        "id": "71w2oaHr2PwR"
      },
      "source": [
        "# Training the CBOW model"
      ]
    },
    {
      "cell_type": "code",
      "execution_count": 70,
      "metadata": {
        "id": "EM_bjATD2PwR",
        "colab": {
          "base_uri": "https://localhost:8080/"
        },
        "outputId": "203d24f8-e75b-45ba-9e81-c30eadf55e48"
      },
      "outputs": [
        {
          "output_type": "stream",
          "name": "stdout",
          "text": [
            "4067\n"
          ]
        }
      ],
      "source": [
        "V = len(words)\n",
        "model = CBOW(vocab_size=V, emb_size=50)\n",
        "print(V)"
      ]
    },
    {
      "cell_type": "code",
      "execution_count": 71,
      "metadata": {
        "id": "Ladk5m572PwS"
      },
      "outputs": [],
      "source": [
        "def val_metrics(model):\n",
        "    model.eval()\n",
        "    x = torch.LongTensor(x_val) #.cuda()\n",
        "    y = torch.Tensor(y_val).unsqueeze(1) #).cuda()\n",
        "    s = torch.Tensor(x_val_len).view(x_val_len.shape[0], 1)\n",
        "    y_hat = model(x, s)\n",
        "    loss = F.binary_cross_entropy_with_logits(y_hat, y)\n",
        "    y_pred = y_hat > 0\n",
        "    correct = (y_pred.float() == y).float().sum()\n",
        "    accuracy = correct/y_pred.shape[0]\n",
        "    return loss.item(), accuracy.item()"
      ]
    },
    {
      "cell_type": "code",
      "execution_count": 72,
      "metadata": {
        "id": "wQIC1XbW2PwS",
        "colab": {
          "base_uri": "https://localhost:8080/"
        },
        "outputId": "4cdf1195-58c4-4287-e56f-f7fbce88cdf3"
      },
      "outputs": [
        {
          "output_type": "execute_result",
          "data": {
            "text/plain": [
              "(0.7114680409431458, 0.4909999966621399)"
            ]
          },
          "metadata": {},
          "execution_count": 72
        }
      ],
      "source": [
        "# accuracy of a random model should be around 0.5\n",
        "val_metrics(model)"
      ]
    },
    {
      "cell_type": "code",
      "execution_count": 73,
      "metadata": {
        "id": "q14zJgsh2PwS"
      },
      "outputs": [],
      "source": [
        "def train_epocs(model, epochs=10, lr=0.01):\n",
        "    optimizer = torch.optim.Adam(model.parameters(), lr=lr)\n",
        "    for i in range(epochs):\n",
        "        model.train()\n",
        "        x = torch.LongTensor(x_train)  #.cuda()\n",
        "        y = torch.Tensor(y_train).unsqueeze(1)\n",
        "        s = torch.Tensor(x_train_len).view(x_train_len.shape[0], 1)\n",
        "        y_hat = model(x, s)\n",
        "        loss = F.binary_cross_entropy_with_logits(y_hat, y)\n",
        "        optimizer.zero_grad()\n",
        "        loss.backward()\n",
        "        optimizer.step()\n",
        "        val_loss, val_accuracy = val_metrics(model)\n",
        "        print(\"train_loss %.3f val_loss %.3f val_accuracy %.3f\" % (loss.item(), val_loss, val_accuracy))"
      ]
    },
    {
      "cell_type": "code",
      "execution_count": 74,
      "metadata": {
        "id": "P2eQ4pQD2PwS",
        "colab": {
          "base_uri": "https://localhost:8080/"
        },
        "outputId": "e81b6415-0174-4596-d0d4-f3db0e779d49"
      },
      "outputs": [
        {
          "output_type": "stream",
          "name": "stdout",
          "text": [
            "train_loss 0.709 val_loss 0.687 val_accuracy 0.520\n",
            "train_loss 0.685 val_loss 0.598 val_accuracy 0.732\n",
            "train_loss 0.592 val_loss 0.519 val_accuracy 0.826\n",
            "train_loss 0.504 val_loss 0.433 val_accuracy 0.851\n",
            "train_loss 0.406 val_loss 0.346 val_accuracy 0.890\n",
            "train_loss 0.309 val_loss 0.296 val_accuracy 0.890\n",
            "train_loss 0.248 val_loss 0.264 val_accuracy 0.893\n",
            "train_loss 0.201 val_loss 0.250 val_accuracy 0.902\n",
            "train_loss 0.168 val_loss 0.255 val_accuracy 0.900\n",
            "train_loss 0.150 val_loss 0.260 val_accuracy 0.905\n"
          ]
        }
      ],
      "source": [
        "train_epocs(model, epochs=10, lr=0.1)"
      ]
    },
    {
      "cell_type": "code",
      "execution_count": 75,
      "metadata": {
        "id": "M5fOrEfc2PwS",
        "colab": {
          "base_uri": "https://localhost:8080/"
        },
        "outputId": "455c3f2a-47df-46a3-e9f4-d9aead3c31a6"
      },
      "outputs": [
        {
          "output_type": "stream",
          "name": "stdout",
          "text": [
            "train_loss 0.132 val_loss 0.255 val_accuracy 0.910\n",
            "train_loss 0.127 val_loss 0.253 val_accuracy 0.909\n",
            "train_loss 0.123 val_loss 0.253 val_accuracy 0.911\n",
            "train_loss 0.120 val_loss 0.253 val_accuracy 0.910\n",
            "train_loss 0.117 val_loss 0.252 val_accuracy 0.910\n",
            "train_loss 0.114 val_loss 0.252 val_accuracy 0.910\n",
            "train_loss 0.111 val_loss 0.253 val_accuracy 0.911\n",
            "train_loss 0.108 val_loss 0.253 val_accuracy 0.908\n",
            "train_loss 0.105 val_loss 0.254 val_accuracy 0.907\n",
            "train_loss 0.102 val_loss 0.255 val_accuracy 0.908\n"
          ]
        }
      ],
      "source": [
        "train_epocs(model, epochs=10, lr=0.01)"
      ]
    },
    {
      "cell_type": "markdown",
      "metadata": {
        "id": "uCSVl57n2PwS"
      },
      "source": [
        "# Data loaders for SGD"
      ]
    },
    {
      "cell_type": "markdown",
      "metadata": {
        "id": "8poq_kmx2PwS"
      },
      "source": [
        "Nearly all of deep learning is powered by one very important algorithm: **stochastic gradient descent (SGD)**. SGD can be seeing as an approximation of **gradient descent** (GD). In GD you have to run through *all* the samples in your training set to do a single itaration. In SGD you use *only one* or *a subset*  of training samples to do the update for a parameter in a particular iteration. The subset use in every iteration is called a **batch** or **minibatch**."
      ]
    },
    {
      "cell_type": "code",
      "execution_count": 76,
      "metadata": {
        "id": "Jgwp2DYi2PwS"
      },
      "outputs": [],
      "source": [
        "from torch.utils.data import Dataset, DataLoader"
      ]
    },
    {
      "cell_type": "markdown",
      "metadata": {
        "id": "hsW9K68Z2PwS"
      },
      "source": [
        "Next we are going to create a data loader. The data loader provides the following features:\n",
        "* Batching the data\n",
        "* Shuffling the data\n",
        "* Load the data in parallel using multiprocessing workers."
      ]
    },
    {
      "cell_type": "code",
      "execution_count": 77,
      "metadata": {
        "id": "DSV7jERd2PwS"
      },
      "outputs": [],
      "source": [
        "def encode_sentence2(s, N=40):\n",
        "    enc = np.zeros(N, dtype=np.int32)\n",
        "    enc1 = np.array([vocab2index.get(w, vocab2index[\"UNK\"]) for w in s.split()])\n",
        "    l = min(N, len(enc1))\n",
        "    enc[:l] = enc1[:l]\n",
        "    return enc, l"
      ]
    },
    {
      "cell_type": "code",
      "execution_count": 78,
      "metadata": {
        "id": "2J_gUMwT2PwS",
        "colab": {
          "base_uri": "https://localhost:8080/"
        },
        "outputId": "720ae5bf-ff31-4dc3-9477-c2c9b66898fe"
      },
      "outputs": [
        {
          "output_type": "execute_result",
          "data": {
            "text/plain": [
              "(array([10,  9, 12,  3,  4,  7,  6,  3, 11,  2,  5,  8,  0,  0,  0,  0,  0,\n",
              "         0,  0,  0,  0,  0,  0,  0,  0,  0,  0,  0,  0,  0,  0,  0,  0,  0,\n",
              "         0,  0,  0,  0,  0,  0], dtype=int32),\n",
              " 12)"
            ]
          },
          "metadata": {},
          "execution_count": 78
        }
      ],
      "source": [
        "encode_sentence2(X_train[0])"
      ]
    },
    {
      "cell_type": "code",
      "execution_count": 79,
      "metadata": {
        "id": "1AZOmxUn2PwT"
      },
      "outputs": [],
      "source": [
        "class SubjectivityDataset(Dataset):\n",
        "    def __init__(self, X, y):\n",
        "        self.x = X\n",
        "        self.y = y\n",
        "\n",
        "    def __len__(self):\n",
        "        return len(self.y)\n",
        "\n",
        "    def __getitem__(self, idx):\n",
        "        x = self.x[idx]\n",
        "        x, s = encode_sentence2(x)\n",
        "        return x, self.y[idx], s\n",
        "\n",
        "sub_dataset_train = SubjectivityDataset(X_train, y_train)"
      ]
    },
    {
      "cell_type": "code",
      "execution_count": 80,
      "metadata": {
        "id": "XU01cNat2PwT"
      },
      "outputs": [],
      "source": [
        "train_loader = DataLoader(sub_dataset_train, batch_size=5, shuffle=True)\n",
        "x, y, s = next(iter(train_loader))"
      ]
    },
    {
      "cell_type": "code",
      "execution_count": 81,
      "metadata": {
        "id": "Ebs8w7p_2PwT",
        "colab": {
          "base_uri": "https://localhost:8080/"
        },
        "outputId": "ff542c3e-6a50-470f-be3c-aef0bac1b225"
      },
      "outputs": [
        {
          "output_type": "execute_result",
          "data": {
            "text/plain": [
              "(tensor([[   1, 2137,    1, 1870,   59,  428,   33,    1,   33,   16,    1,   13,\n",
              "             0,    0,    0,    0,    0,    0,    0,    0,    0,    0,    0,    0,\n",
              "             0,    0,    0,    0,    0,    0,    0,    0,    0,    0,    0,    0,\n",
              "             0,    0,    0,    0],\n",
              "         [   1,    1, 2149,    1,   33,  705,  164,  705,   96,  208,    1,    3,\n",
              "            57,    1,  758, 3948,   63,  191,  110,   13,    0,    0,    0,    0,\n",
              "             0,    0,    0,    0,    0,    0,    0,    0,    0,    0,    0,    0,\n",
              "             0,    0,    0,    0],\n",
              "         [  37,  177,  497,   93,  612, 1037,   40,  524,  267,   33,  206,  694,\n",
              "            37,   74,    8, 1037,   40,   37,  441,   94,  189,   59,   24,   25,\n",
              "          3033, 2550,   16, 2814,    1,   41,   24,  740,  452,  654,   81,   11,\n",
              "           379,   13,    0,    0],\n",
              "         [  24,  308, 1755,   16,   15,  473,  184,  872,  163,   24,    1,   13,\n",
              "             0,    0,    0,    0,    0,    0,    0,    0,    0,    0,    0,    0,\n",
              "             0,    0,    0,    0,    0,    0,    0,    0,    0,    0,    0,    0,\n",
              "             0,    0,    0,    0],\n",
              "         [  11,    1,  408,   40,    1, 2549,    1,   59,    1, 3298, 1027,   13,\n",
              "             0,    0,    0,    0,    0,    0,    0,    0,    0,    0,    0,    0,\n",
              "             0,    0,    0,    0,    0,    0,    0,    0,    0,    0,    0,    0,\n",
              "             0,    0,    0,    0]], dtype=torch.int32),\n",
              " tensor([0., 1., 0., 0., 0.], dtype=torch.float64),\n",
              " tensor([12, 20, 38, 12, 12]))"
            ]
          },
          "metadata": {},
          "execution_count": 81
        }
      ],
      "source": [
        "x, y, s"
      ]
    },
    {
      "cell_type": "code",
      "execution_count": 82,
      "metadata": {
        "id": "imWwX-5m2PwT"
      },
      "outputs": [],
      "source": [
        "model = CBOW(vocab_size=V, emb_size=50)"
      ]
    },
    {
      "cell_type": "code",
      "execution_count": 83,
      "metadata": {
        "id": "ZfwuYYew2PwT"
      },
      "outputs": [],
      "source": [
        "train_loader = DataLoader(sub_dataset_train, batch_size=500, shuffle=True)"
      ]
    },
    {
      "cell_type": "code",
      "execution_count": 84,
      "metadata": {
        "id": "v8HF33G-2PwT"
      },
      "outputs": [],
      "source": [
        "def train_epocs(model, epochs=10, lr=0.01):\n",
        "    optimizer = torch.optim.Adam(model.parameters(), lr=lr)\n",
        "    for i in range(epochs):\n",
        "        total_loss = 0\n",
        "        total = 0\n",
        "        model.train()\n",
        "        for x, y, s in train_loader:\n",
        "            x = x.type(torch.LongTensor)  #.cuda()\n",
        "            y = y.type(torch.FloatTensor).unsqueeze(1)\n",
        "            s = s.type(torch.Tensor).view(s.shape[0], 1)\n",
        "            y_hat = model(x, s)\n",
        "            loss = F.binary_cross_entropy_with_logits(y_hat, y)\n",
        "            optimizer.zero_grad()\n",
        "            loss.backward()\n",
        "            optimizer.step()\n",
        "            total_loss += x.size(0)*loss.item()\n",
        "            total += x.size(0)\n",
        "        train_loss = total_loss/total\n",
        "        val_loss, val_accuracy = val_metrics(model)\n",
        "\n",
        "        print(\"train_loss %.3f val_loss %.3f val_accuracy %.3f\" % (train_loss, val_loss, val_accuracy))"
      ]
    },
    {
      "cell_type": "code",
      "execution_count": 85,
      "metadata": {
        "id": "ZX6ichy42PwT",
        "colab": {
          "base_uri": "https://localhost:8080/"
        },
        "outputId": "facee2b2-1e25-4380-e2cb-516321e7d776"
      },
      "outputs": [
        {
          "output_type": "stream",
          "name": "stdout",
          "text": [
            "train_loss 0.656 val_loss 0.597 val_accuracy 0.780\n",
            "train_loss 0.510 val_loss 0.431 val_accuracy 0.858\n",
            "train_loss 0.341 val_loss 0.313 val_accuracy 0.885\n",
            "train_loss 0.242 val_loss 0.263 val_accuracy 0.899\n",
            "train_loss 0.189 val_loss 0.242 val_accuracy 0.905\n",
            "train_loss 0.155 val_loss 0.234 val_accuracy 0.906\n",
            "train_loss 0.131 val_loss 0.234 val_accuracy 0.905\n",
            "train_loss 0.112 val_loss 0.234 val_accuracy 0.909\n",
            "train_loss 0.097 val_loss 0.241 val_accuracy 0.907\n",
            "train_loss 0.086 val_loss 0.246 val_accuracy 0.906\n"
          ]
        }
      ],
      "source": [
        "train_epocs(model, epochs=10)"
      ]
    },
    {
      "cell_type": "code",
      "execution_count": null,
      "metadata": {
        "id": "SZUk24F82PwT"
      },
      "outputs": [],
      "source": []
    }
  ],
  "metadata": {
    "kernelspec": {
      "display_name": "Python 3",
      "name": "python3"
    },
    "language_info": {
      "codemirror_mode": {
        "name": "ipython",
        "version": 3
      },
      "file_extension": ".py",
      "mimetype": "text/x-python",
      "name": "python",
      "nbconvert_exporter": "python",
      "pygments_lexer": "ipython3",
      "version": "3.7.4"
    },
    "nav_menu": {},
    "toc": {
      "nav_menu": {
        "height": "116px",
        "width": "251px"
      },
      "number_sections": true,
      "sideBar": true,
      "skip_h1_title": false,
      "toc_cell": true,
      "toc_position": {},
      "toc_section_display": "block",
      "toc_window_display": false
    },
    "colab": {
      "provenance": [],
      "include_colab_link": true
    }
  },
  "nbformat": 4,
  "nbformat_minor": 0
}