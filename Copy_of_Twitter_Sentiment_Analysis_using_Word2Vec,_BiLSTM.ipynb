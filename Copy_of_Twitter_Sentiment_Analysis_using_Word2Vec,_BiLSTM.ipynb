{
  "metadata": {
    "kernelspec": {
      "display_name": "Python 3",
      "name": "python3"
    },
    "language_info": {
      "pygments_lexer": "ipython3",
      "nbconvert_exporter": "python",
      "version": "3.6.4",
      "file_extension": ".py",
      "codemirror_mode": {
        "name": "ipython",
        "version": 3
      },
      "name": "python",
      "mimetype": "text/x-python"
    },
    "colab": {
      "provenance": [],
      "gpuType": "T4",
      "include_colab_link": true
    },
    "accelerator": "GPU"
  },
  "nbformat_minor": 0,
  "nbformat": 4,
  "cells": [
    {
      "cell_type": "markdown",
      "metadata": {
        "id": "view-in-github",
        "colab_type": "text"
      },
      "source": [
        "<a href=\"https://colab.research.google.com/github/edzimmermann/NLP/blob/main/Copy_of_Twitter_Sentiment_Analysis_using_Word2Vec%2C_BiLSTM.ipynb\" target=\"_parent\"><img src=\"https://colab.research.google.com/assets/colab-badge.svg\" alt=\"Open In Colab\"/></a>"
      ]
    },
    {
      "source": [
        "# IMPORTANT: RUN THIS CELL IN ORDER TO IMPORT YOUR KAGGLE DATA SOURCES,\n",
        "# THEN FEEL FREE TO DELETE THIS CELL.\n",
        "# NOTE: THIS NOTEBOOK ENVIRONMENT DIFFERS FROM KAGGLE'S PYTHON\n",
        "# ENVIRONMENT SO THERE MAY BE MISSING LIBRARIES USED BY YOUR\n",
        "# NOTEBOOK.\n",
        "import kagglehub\n",
        "kazanova_sentiment140_path = kagglehub.dataset_download('kazanova/sentiment140')\n",
        "ishivinal_contractions_path = kagglehub.dataset_download('ishivinal/contractions')\n",
        "stoicstatic_twitter_sentiment_analysis_using_word2vec_bilstm_path = kagglehub.notebook_output_download('stoicstatic/twitter-sentiment-analysis-using-word2vec-bilstm')\n",
        "\n",
        "print('Data source import complete.')\n"
      ],
      "metadata": {
        "id": "Hap2WlTh47v4",
        "outputId": "980b8ac5-ff57-4f85-a373-60b9a8f69440",
        "colab": {
          "base_uri": "https://localhost:8080/"
        }
      },
      "cell_type": "code",
      "outputs": [
        {
          "output_type": "stream",
          "name": "stdout",
          "text": [
            "Downloading from https://www.kaggle.com/api/v1/datasets/download/kazanova/sentiment140?dataset_version_number=2...\n"
          ]
        },
        {
          "output_type": "stream",
          "name": "stderr",
          "text": [
            "100%|██████████| 80.9M/80.9M [00:01<00:00, 69.7MB/s]"
          ]
        },
        {
          "output_type": "stream",
          "name": "stdout",
          "text": [
            "Extracting files...\n"
          ]
        },
        {
          "output_type": "stream",
          "name": "stderr",
          "text": [
            "\n"
          ]
        },
        {
          "output_type": "stream",
          "name": "stdout",
          "text": [
            "Downloading from https://www.kaggle.com/api/v1/datasets/download/ishivinal/contractions?dataset_version_number=1...\n"
          ]
        },
        {
          "output_type": "stream",
          "name": "stderr",
          "text": [
            "100%|██████████| 1.05k/1.05k [00:00<00:00, 2.78MB/s]"
          ]
        },
        {
          "output_type": "stream",
          "name": "stdout",
          "text": [
            "Extracting files...\n"
          ]
        },
        {
          "output_type": "stream",
          "name": "stderr",
          "text": [
            "\n"
          ]
        },
        {
          "output_type": "stream",
          "name": "stdout",
          "text": [
            "Downloading from https://www.kaggle.com/api/v1/kernels/output/download/stoicstatic/twitter-sentiment-analysis-using-word2vec-bilstm?version_number=8...\n",
            "Extracting files...\n",
            "Data source import complete.\n"
          ]
        }
      ],
      "execution_count": 1
    },
    {
      "cell_type": "markdown",
      "source": [
        "## Introduction to Natural Language Processing\n",
        "\n",
        "**Natural Language Processing (NLP):** The discipline of computer science, artificial intelligence and linguistics that is concerned with the creation of computational models that process and understand natural language. These include: making the computer understand the semantic grouping of words (e.g. cat and dog are semantically more similar than cat and spoon), text to speech, language translation and many more\n",
        "\n",
        "**Sentiment Analysis:** It is the interpretation and classification of emotions (positive, negative and neutral) within text data using text analysis techniques. Sentiment analysis allows organizations to identify public sentiment towards certain words or topics.\n",
        "\n",
        "In this notebook, we'll develop a **Sequence model** that can perform **Sentiment Analysis** to categorize a tweet as **Positive or Negative.**\n",
        "\n",
        "\n",
        "## Table of Contents\n",
        "1. [Importing dependencies](#1)\n",
        "2. [Importing dataset](#2)\n",
        "3. [Preprocessing the Text](#3)\n",
        "4. [Analysing the data](#4)\n",
        "5. [Splitting the data](#5)\n",
        "6. [Creating Word Embeddings](#6)\n",
        "7. [Tokenizing and Padding datasets](#7)\n",
        "8. [Creating Embedding matrix](#8)\n",
        "9. [Creating the Model](#9)\n",
        "10. [Training the Model](#10)\n",
        "11. [Evaluating Model](#11)\n",
        "12. [Saving the Model](#12)\n",
        "\n",
        "\n",
        "## <a id=\"1\">Importing Dependencies</a>"
      ],
      "metadata": {
        "id": "SwtNACqF47v6"
      }
    },
    {
      "cell_type": "code",
      "source": [
        "# Utilities\n",
        "import re\n",
        "import pickle\n",
        "import numpy as np\n",
        "import pandas as pd\n",
        "\n",
        "# Plot libraries\n",
        "import seaborn as sns\n",
        "from wordcloud import WordCloud\n",
        "import matplotlib.pyplot as plt"
      ],
      "metadata": {
        "execution": {
          "iopub.status.busy": "2021-06-29T13:05:54.059335Z",
          "iopub.execute_input": "2021-06-29T13:05:54.059685Z",
          "iopub.status.idle": "2021-06-29T13:05:55.023209Z",
          "shell.execute_reply.started": "2021-06-29T13:05:54.059656Z",
          "shell.execute_reply": "2021-06-29T13:05:55.022189Z"
        },
        "trusted": true,
        "id": "tRMtTTHo47v7"
      },
      "execution_count": 2,
      "outputs": []
    },
    {
      "cell_type": "markdown",
      "source": [
        "## <a id=\"2\">Importing Dataset</a>\n",
        "The dataset being used is the **sentiment140 dataset**. It contains 1,600,000 tweets extracted using the **Twitter API**. The tweets have been annotated **(0 = Negative, 4 = Positive)** and they can be used to detect sentiment.\n",
        "\n",
        "**[The training data isn't perfectly categorised as it has been created by tagging the text according to the emoji present. So, any model built using this dataset may have lower than expected accuracy, since the dataset isn't perfectly categorised.]**\n",
        "\n",
        "**It contains the following 6 fields:**\n",
        "1. **sentiment**: the polarity of the tweet *(0 = negative, 4 = positive)*\n",
        "2. **ids**: The id of the tweet *(2087)*\n",
        "3. **date**: the date of the tweet *(Sat May 16 23:58:44 UTC 2009)*\n",
        "4. **flag**: The query (lyx). If there is no query, then this value is NO_QUERY.\n",
        "5. **user**: the user that tweeted *(robotickilldozr)*\n",
        "6. **text**: the text of the tweet *(Lyx is cool)*"
      ],
      "metadata": {
        "id": "YnDGpy4q47v7"
      }
    },
    {
      "cell_type": "code",
      "source": [
        "# Importing the dataset\n",
        "DATASET_COLUMNS  = [\"sentiment\", \"ids\", \"date\", \"flag\", \"user\", \"text\"]\n",
        "DATASET_ENCODING = \"ISO-8859-1\"\n",
        "dataset = pd.read_csv(kazanova_sentiment140_path + '/training.1600000.processed.noemoticon.csv',\n",
        "                      encoding=DATASET_ENCODING , names=DATASET_COLUMNS)\n",
        "dataset.head()"
      ],
      "metadata": {
        "execution": {
          "iopub.status.busy": "2021-06-29T13:05:55.170224Z",
          "iopub.execute_input": "2021-06-29T13:05:55.170579Z",
          "iopub.status.idle": "2021-06-29T13:06:02.302306Z",
          "shell.execute_reply.started": "2021-06-29T13:05:55.170549Z",
          "shell.execute_reply": "2021-06-29T13:06:02.301474Z"
        },
        "trusted": true,
        "id": "yduFJB3S47v8",
        "outputId": "698d80d9-3886-4522-8def-c25aa4186a14",
        "colab": {
          "base_uri": "https://localhost:8080/",
          "height": 221
        }
      },
      "execution_count": 3,
      "outputs": [
        {
          "output_type": "execute_result",
          "data": {
            "text/plain": [
              "   sentiment         ids                          date      flag  \\\n",
              "0          0  1467810369  Mon Apr 06 22:19:45 PDT 2009  NO_QUERY   \n",
              "1          0  1467810672  Mon Apr 06 22:19:49 PDT 2009  NO_QUERY   \n",
              "2          0  1467810917  Mon Apr 06 22:19:53 PDT 2009  NO_QUERY   \n",
              "3          0  1467811184  Mon Apr 06 22:19:57 PDT 2009  NO_QUERY   \n",
              "4          0  1467811193  Mon Apr 06 22:19:57 PDT 2009  NO_QUERY   \n",
              "\n",
              "              user                                               text  \n",
              "0  _TheSpecialOne_  @switchfoot http://twitpic.com/2y1zl - Awww, t...  \n",
              "1    scotthamilton  is upset that he can't update his Facebook by ...  \n",
              "2         mattycus  @Kenichan I dived many times for the ball. Man...  \n",
              "3          ElleCTF    my whole body feels itchy and like its on fire   \n",
              "4           Karoli  @nationwideclass no, it's not behaving at all....  "
            ],
            "text/html": [
              "\n",
              "  <div id=\"df-d52088ab-8fd3-4fe4-9f65-86c46981e20d\" class=\"colab-df-container\">\n",
              "    <div>\n",
              "<style scoped>\n",
              "    .dataframe tbody tr th:only-of-type {\n",
              "        vertical-align: middle;\n",
              "    }\n",
              "\n",
              "    .dataframe tbody tr th {\n",
              "        vertical-align: top;\n",
              "    }\n",
              "\n",
              "    .dataframe thead th {\n",
              "        text-align: right;\n",
              "    }\n",
              "</style>\n",
              "<table border=\"1\" class=\"dataframe\">\n",
              "  <thead>\n",
              "    <tr style=\"text-align: right;\">\n",
              "      <th></th>\n",
              "      <th>sentiment</th>\n",
              "      <th>ids</th>\n",
              "      <th>date</th>\n",
              "      <th>flag</th>\n",
              "      <th>user</th>\n",
              "      <th>text</th>\n",
              "    </tr>\n",
              "  </thead>\n",
              "  <tbody>\n",
              "    <tr>\n",
              "      <th>0</th>\n",
              "      <td>0</td>\n",
              "      <td>1467810369</td>\n",
              "      <td>Mon Apr 06 22:19:45 PDT 2009</td>\n",
              "      <td>NO_QUERY</td>\n",
              "      <td>_TheSpecialOne_</td>\n",
              "      <td>@switchfoot http://twitpic.com/2y1zl - Awww, t...</td>\n",
              "    </tr>\n",
              "    <tr>\n",
              "      <th>1</th>\n",
              "      <td>0</td>\n",
              "      <td>1467810672</td>\n",
              "      <td>Mon Apr 06 22:19:49 PDT 2009</td>\n",
              "      <td>NO_QUERY</td>\n",
              "      <td>scotthamilton</td>\n",
              "      <td>is upset that he can't update his Facebook by ...</td>\n",
              "    </tr>\n",
              "    <tr>\n",
              "      <th>2</th>\n",
              "      <td>0</td>\n",
              "      <td>1467810917</td>\n",
              "      <td>Mon Apr 06 22:19:53 PDT 2009</td>\n",
              "      <td>NO_QUERY</td>\n",
              "      <td>mattycus</td>\n",
              "      <td>@Kenichan I dived many times for the ball. Man...</td>\n",
              "    </tr>\n",
              "    <tr>\n",
              "      <th>3</th>\n",
              "      <td>0</td>\n",
              "      <td>1467811184</td>\n",
              "      <td>Mon Apr 06 22:19:57 PDT 2009</td>\n",
              "      <td>NO_QUERY</td>\n",
              "      <td>ElleCTF</td>\n",
              "      <td>my whole body feels itchy and like its on fire</td>\n",
              "    </tr>\n",
              "    <tr>\n",
              "      <th>4</th>\n",
              "      <td>0</td>\n",
              "      <td>1467811193</td>\n",
              "      <td>Mon Apr 06 22:19:57 PDT 2009</td>\n",
              "      <td>NO_QUERY</td>\n",
              "      <td>Karoli</td>\n",
              "      <td>@nationwideclass no, it's not behaving at all....</td>\n",
              "    </tr>\n",
              "  </tbody>\n",
              "</table>\n",
              "</div>\n",
              "    <div class=\"colab-df-buttons\">\n",
              "\n",
              "  <div class=\"colab-df-container\">\n",
              "    <button class=\"colab-df-convert\" onclick=\"convertToInteractive('df-d52088ab-8fd3-4fe4-9f65-86c46981e20d')\"\n",
              "            title=\"Convert this dataframe to an interactive table.\"\n",
              "            style=\"display:none;\">\n",
              "\n",
              "  <svg xmlns=\"http://www.w3.org/2000/svg\" height=\"24px\" viewBox=\"0 -960 960 960\">\n",
              "    <path d=\"M120-120v-720h720v720H120Zm60-500h600v-160H180v160Zm220 220h160v-160H400v160Zm0 220h160v-160H400v160ZM180-400h160v-160H180v160Zm440 0h160v-160H620v160ZM180-180h160v-160H180v160Zm440 0h160v-160H620v160Z\"/>\n",
              "  </svg>\n",
              "    </button>\n",
              "\n",
              "  <style>\n",
              "    .colab-df-container {\n",
              "      display:flex;\n",
              "      gap: 12px;\n",
              "    }\n",
              "\n",
              "    .colab-df-convert {\n",
              "      background-color: #E8F0FE;\n",
              "      border: none;\n",
              "      border-radius: 50%;\n",
              "      cursor: pointer;\n",
              "      display: none;\n",
              "      fill: #1967D2;\n",
              "      height: 32px;\n",
              "      padding: 0 0 0 0;\n",
              "      width: 32px;\n",
              "    }\n",
              "\n",
              "    .colab-df-convert:hover {\n",
              "      background-color: #E2EBFA;\n",
              "      box-shadow: 0px 1px 2px rgba(60, 64, 67, 0.3), 0px 1px 3px 1px rgba(60, 64, 67, 0.15);\n",
              "      fill: #174EA6;\n",
              "    }\n",
              "\n",
              "    .colab-df-buttons div {\n",
              "      margin-bottom: 4px;\n",
              "    }\n",
              "\n",
              "    [theme=dark] .colab-df-convert {\n",
              "      background-color: #3B4455;\n",
              "      fill: #D2E3FC;\n",
              "    }\n",
              "\n",
              "    [theme=dark] .colab-df-convert:hover {\n",
              "      background-color: #434B5C;\n",
              "      box-shadow: 0px 1px 3px 1px rgba(0, 0, 0, 0.15);\n",
              "      filter: drop-shadow(0px 1px 2px rgba(0, 0, 0, 0.3));\n",
              "      fill: #FFFFFF;\n",
              "    }\n",
              "  </style>\n",
              "\n",
              "    <script>\n",
              "      const buttonEl =\n",
              "        document.querySelector('#df-d52088ab-8fd3-4fe4-9f65-86c46981e20d button.colab-df-convert');\n",
              "      buttonEl.style.display =\n",
              "        google.colab.kernel.accessAllowed ? 'block' : 'none';\n",
              "\n",
              "      async function convertToInteractive(key) {\n",
              "        const element = document.querySelector('#df-d52088ab-8fd3-4fe4-9f65-86c46981e20d');\n",
              "        const dataTable =\n",
              "          await google.colab.kernel.invokeFunction('convertToInteractive',\n",
              "                                                    [key], {});\n",
              "        if (!dataTable) return;\n",
              "\n",
              "        const docLinkHtml = 'Like what you see? Visit the ' +\n",
              "          '<a target=\"_blank\" href=https://colab.research.google.com/notebooks/data_table.ipynb>data table notebook</a>'\n",
              "          + ' to learn more about interactive tables.';\n",
              "        element.innerHTML = '';\n",
              "        dataTable['output_type'] = 'display_data';\n",
              "        await google.colab.output.renderOutput(dataTable, element);\n",
              "        const docLink = document.createElement('div');\n",
              "        docLink.innerHTML = docLinkHtml;\n",
              "        element.appendChild(docLink);\n",
              "      }\n",
              "    </script>\n",
              "  </div>\n",
              "\n",
              "\n",
              "    <div id=\"df-4f39a110-ba4e-43ca-b1c8-07928c1df557\">\n",
              "      <button class=\"colab-df-quickchart\" onclick=\"quickchart('df-4f39a110-ba4e-43ca-b1c8-07928c1df557')\"\n",
              "                title=\"Suggest charts\"\n",
              "                style=\"display:none;\">\n",
              "\n",
              "<svg xmlns=\"http://www.w3.org/2000/svg\" height=\"24px\"viewBox=\"0 0 24 24\"\n",
              "     width=\"24px\">\n",
              "    <g>\n",
              "        <path d=\"M19 3H5c-1.1 0-2 .9-2 2v14c0 1.1.9 2 2 2h14c1.1 0 2-.9 2-2V5c0-1.1-.9-2-2-2zM9 17H7v-7h2v7zm4 0h-2V7h2v10zm4 0h-2v-4h2v4z\"/>\n",
              "    </g>\n",
              "</svg>\n",
              "      </button>\n",
              "\n",
              "<style>\n",
              "  .colab-df-quickchart {\n",
              "      --bg-color: #E8F0FE;\n",
              "      --fill-color: #1967D2;\n",
              "      --hover-bg-color: #E2EBFA;\n",
              "      --hover-fill-color: #174EA6;\n",
              "      --disabled-fill-color: #AAA;\n",
              "      --disabled-bg-color: #DDD;\n",
              "  }\n",
              "\n",
              "  [theme=dark] .colab-df-quickchart {\n",
              "      --bg-color: #3B4455;\n",
              "      --fill-color: #D2E3FC;\n",
              "      --hover-bg-color: #434B5C;\n",
              "      --hover-fill-color: #FFFFFF;\n",
              "      --disabled-bg-color: #3B4455;\n",
              "      --disabled-fill-color: #666;\n",
              "  }\n",
              "\n",
              "  .colab-df-quickchart {\n",
              "    background-color: var(--bg-color);\n",
              "    border: none;\n",
              "    border-radius: 50%;\n",
              "    cursor: pointer;\n",
              "    display: none;\n",
              "    fill: var(--fill-color);\n",
              "    height: 32px;\n",
              "    padding: 0;\n",
              "    width: 32px;\n",
              "  }\n",
              "\n",
              "  .colab-df-quickchart:hover {\n",
              "    background-color: var(--hover-bg-color);\n",
              "    box-shadow: 0 1px 2px rgba(60, 64, 67, 0.3), 0 1px 3px 1px rgba(60, 64, 67, 0.15);\n",
              "    fill: var(--button-hover-fill-color);\n",
              "  }\n",
              "\n",
              "  .colab-df-quickchart-complete:disabled,\n",
              "  .colab-df-quickchart-complete:disabled:hover {\n",
              "    background-color: var(--disabled-bg-color);\n",
              "    fill: var(--disabled-fill-color);\n",
              "    box-shadow: none;\n",
              "  }\n",
              "\n",
              "  .colab-df-spinner {\n",
              "    border: 2px solid var(--fill-color);\n",
              "    border-color: transparent;\n",
              "    border-bottom-color: var(--fill-color);\n",
              "    animation:\n",
              "      spin 1s steps(1) infinite;\n",
              "  }\n",
              "\n",
              "  @keyframes spin {\n",
              "    0% {\n",
              "      border-color: transparent;\n",
              "      border-bottom-color: var(--fill-color);\n",
              "      border-left-color: var(--fill-color);\n",
              "    }\n",
              "    20% {\n",
              "      border-color: transparent;\n",
              "      border-left-color: var(--fill-color);\n",
              "      border-top-color: var(--fill-color);\n",
              "    }\n",
              "    30% {\n",
              "      border-color: transparent;\n",
              "      border-left-color: var(--fill-color);\n",
              "      border-top-color: var(--fill-color);\n",
              "      border-right-color: var(--fill-color);\n",
              "    }\n",
              "    40% {\n",
              "      border-color: transparent;\n",
              "      border-right-color: var(--fill-color);\n",
              "      border-top-color: var(--fill-color);\n",
              "    }\n",
              "    60% {\n",
              "      border-color: transparent;\n",
              "      border-right-color: var(--fill-color);\n",
              "    }\n",
              "    80% {\n",
              "      border-color: transparent;\n",
              "      border-right-color: var(--fill-color);\n",
              "      border-bottom-color: var(--fill-color);\n",
              "    }\n",
              "    90% {\n",
              "      border-color: transparent;\n",
              "      border-bottom-color: var(--fill-color);\n",
              "    }\n",
              "  }\n",
              "</style>\n",
              "\n",
              "      <script>\n",
              "        async function quickchart(key) {\n",
              "          const quickchartButtonEl =\n",
              "            document.querySelector('#' + key + ' button');\n",
              "          quickchartButtonEl.disabled = true;  // To prevent multiple clicks.\n",
              "          quickchartButtonEl.classList.add('colab-df-spinner');\n",
              "          try {\n",
              "            const charts = await google.colab.kernel.invokeFunction(\n",
              "                'suggestCharts', [key], {});\n",
              "          } catch (error) {\n",
              "            console.error('Error during call to suggestCharts:', error);\n",
              "          }\n",
              "          quickchartButtonEl.classList.remove('colab-df-spinner');\n",
              "          quickchartButtonEl.classList.add('colab-df-quickchart-complete');\n",
              "        }\n",
              "        (() => {\n",
              "          let quickchartButtonEl =\n",
              "            document.querySelector('#df-4f39a110-ba4e-43ca-b1c8-07928c1df557 button');\n",
              "          quickchartButtonEl.style.display =\n",
              "            google.colab.kernel.accessAllowed ? 'block' : 'none';\n",
              "        })();\n",
              "      </script>\n",
              "    </div>\n",
              "\n",
              "    </div>\n",
              "  </div>\n"
            ],
            "application/vnd.google.colaboratory.intrinsic+json": {
              "type": "dataframe",
              "variable_name": "dataset"
            }
          },
          "metadata": {},
          "execution_count": 3
        }
      ]
    },
    {
      "cell_type": "code",
      "source": [
        "print (\"PATH: \" + kazanova_sentiment140_path)\n",
        "print (ishivinal_contractions_path)\n",
        "!ls -al /root/.cache/kagglehub/datasets/ishivinal/contractions/versions/1\n"
      ],
      "metadata": {
        "id": "6CIbv0gD6OKA",
        "outputId": "b8d8fcf0-310d-4d26-fb0e-a0cdac6080d4",
        "colab": {
          "base_uri": "https://localhost:8080/"
        }
      },
      "execution_count": 10,
      "outputs": [
        {
          "output_type": "stream",
          "name": "stdout",
          "text": [
            "PATH: /root/.cache/kagglehub/datasets/kazanova/sentiment140/versions/2\n",
            "/root/.cache/kagglehub/datasets/ishivinal/contractions/versions/1\n",
            "total 12\n",
            "drwxr-xr-x 2 root root 4096 Jun 22 09:18 .\n",
            "drwxr-xr-x 3 root root 4096 Jun 22 09:18 ..\n",
            "-rw-r--r-- 1 root root 2630 Jun 22 09:18 contractions.csv\n"
          ]
        }
      ]
    },
    {
      "cell_type": "markdown",
      "source": [
        "We require only the **sentiment** and **text** fields, so we discard the rest.\n",
        "\n",
        "Furthermore, we're remaping the **sentiment** field so that it has new values to reflect the sentiment. **(0 = Negative, 1 = Positive)**"
      ],
      "metadata": {
        "id": "yT78sZM_47v8"
      }
    },
    {
      "cell_type": "code",
      "source": [
        "# Removing the unnecessary columns.\n",
        "dataset = dataset[['sentiment','text']]\n",
        "\n",
        "# Replacing the values.\n",
        "dataset['sentiment'] = dataset['sentiment'].replace(4,1)"
      ],
      "metadata": {
        "execution": {
          "iopub.status.busy": "2021-06-29T13:06:02.304169Z",
          "iopub.execute_input": "2021-06-29T13:06:02.304515Z",
          "iopub.status.idle": "2021-06-29T13:06:02.360223Z",
          "shell.execute_reply.started": "2021-06-29T13:06:02.30448Z",
          "shell.execute_reply": "2021-06-29T13:06:02.359209Z"
        },
        "trusted": true,
        "id": "nPOBWev847v8",
        "colab": {
          "base_uri": "https://localhost:8080/"
        },
        "outputId": "b1de1dfe-9d1e-4b63-8fdd-ab80a557baf4"
      },
      "execution_count": 6,
      "outputs": [
        {
          "output_type": "stream",
          "name": "stderr",
          "text": [
            "/tmp/ipython-input-6-359099265.py:5: SettingWithCopyWarning: \n",
            "A value is trying to be set on a copy of a slice from a DataFrame.\n",
            "Try using .loc[row_indexer,col_indexer] = value instead\n",
            "\n",
            "See the caveats in the documentation: https://pandas.pydata.org/pandas-docs/stable/user_guide/indexing.html#returning-a-view-versus-a-copy\n",
            "  dataset['sentiment'] = dataset['sentiment'].replace(4,1)\n"
          ]
        }
      ]
    },
    {
      "cell_type": "markdown",
      "source": [
        "We're **plotting the distribution** for the dataset to see whether we have equal number of positive and negatives tweets or not."
      ],
      "metadata": {
        "id": "k0TGQZmU47v8"
      }
    },
    {
      "cell_type": "code",
      "source": [
        "ax = dataset.groupby('sentiment').count().plot(kind='bar', title='Distribution of data',\n",
        "                                               legend=False)\n",
        "ax = ax.set_xticklabels(['Negative','Positive'], rotation=0)"
      ],
      "metadata": {
        "execution": {
          "iopub.status.busy": "2021-06-29T13:06:02.36133Z",
          "iopub.execute_input": "2021-06-29T13:06:02.361611Z",
          "iopub.status.idle": "2021-06-29T13:06:02.805942Z",
          "shell.execute_reply.started": "2021-06-29T13:06:02.361584Z",
          "shell.execute_reply": "2021-06-29T13:06:02.804774Z"
        },
        "trusted": true,
        "id": "k-4L8DMP47v8",
        "colab": {
          "base_uri": "https://localhost:8080/",
          "height": 493
        },
        "outputId": "576c0e96-e4a3-4d89-97f2-7d730bb7247d"
      },
      "execution_count": 7,
      "outputs": [
        {
          "output_type": "display_data",
          "data": {
            "text/plain": [
              "<Figure size 640x480 with 1 Axes>"
            ],
            "image/png": "[encoded data removed]"
          },
          "metadata": {}
        }
      ]
    },
    {
      "cell_type": "markdown",
      "source": [
        "As we can see from the graphs, we have equal number of Positive/Negative tweets. Both equaling to 800,000 tweets. This means our dataset is **not skewed** which makes working on the dataset easier for us."
      ],
      "metadata": {
        "id": "YxQRxMl047v8"
      }
    },
    {
      "cell_type": "markdown",
      "source": [
        "## <a id=\"3\">Preprocessing the Text</a>\n",
        "**Text Preprocessing** is traditionally an important step for **Natural Language Processing (NLP)** tasks. It transforms text into a more digestible form so that deep learning algorithms can perform better.\n",
        "\n",
        "Tweets usually contains a lot of information apart from the text, like mentions, hashtags, urls, emojis or symbols. Since normally, NLP models cannot parse those data, we need to clean up the tweet and replace tokens that actually contains meaningful information for the model.\n",
        "\n",
        "**The Preprocessing steps taken are:**\n",
        "1. **Lower Casing:** Each text is converted to lowercase.\n",
        "2. **Replacing URLs:** Links starting with **'http' or 'https' or 'www'** are replaced by **'<url\\>'**.\n",
        "3. **Replacing Usernames:** Replace @Usernames with word **'<user\\>'**. [eg: '@Kaggle' to '<user\\>'].\n",
        "4. **Replacing Consecutive letters:** 3 or more consecutive letters are replaced by 2 letters. [eg: 'Heyyyy' to 'Heyy']\n",
        "5. **Replacing Emojis:** Replace emojis by using a regex expression. [eg: ':)' to '<smile\\>']\n",
        "6. **Replacing Contractions:** Replacing contractions with their meanings. [eg: \"can't\" to 'can not']\n",
        "7. **Removing Non-Alphabets:** Replacing characters except Digits, Alphabets and pre-defined Symbols with a space.\n",
        "\n",
        "As much as the preprocessing steps are important, the actual sequence is also important while cleaning up the text. For example, removing the punctuations before replacing the urls means the regex expression cannot find the urls. Same with mentions or hashtags. So make sure, the actual sequence of cleaning makes sense."
      ],
      "metadata": {
        "id": "aN9MrSAr47v8"
      }
    },
    {
      "cell_type": "code",
      "source": [
        "# Reading contractions.csv and storing it as a dict.\n",
        "contractions = pd.read_csv(ishivinal_contractions_path + '/contractions.csv', index_col='Contraction')\n",
        "contractions.index = contractions.index.str.lower()\n",
        "contractions.Meaning = contractions.Meaning.str.lower()\n",
        "contractions_dict = contractions.to_dict()['Meaning']\n",
        "\n",
        "# Defining regex patterns.\n",
        "urlPattern        = r\"((http://)[^ ]*|(https://)[^ ]*|(www\\.)[^ ]*)\"\n",
        "userPattern       = '@[^\\s]+'\n",
        "hashtagPattern    = '#[^\\s]+'\n",
        "alphaPattern      = \"[^a-z0-9<>]\"\n",
        "sequencePattern   = r\"(.)\\1\\1+\"\n",
        "seqReplacePattern = r\"\\1\\1\"\n",
        "\n",
        "# Defining regex for emojis\n",
        "smileemoji        = r\"[8:=;]['`\\-]?[)d]+\"\n",
        "sademoji          = r\"[8:=;]['`\\-]?\\(+\"\n",
        "neutralemoji      = r\"[8:=;]['`\\-]?[\\/|l*]\"\n",
        "lolemoji          = r\"[8:=;]['`\\-]?p+\"\n",
        "\n",
        "def preprocess_apply(tweet):\n",
        "\n",
        "    tweet = tweet.lower()\n",
        "\n",
        "    # Replace all URls with '<url>'\n",
        "    tweet = re.sub(urlPattern,'<url>',tweet)\n",
        "    # Replace @USERNAME to '<user>'.\n",
        "    tweet = re.sub(userPattern,'<user>', tweet)\n",
        "\n",
        "    # Replace 3 or more consecutive letters by 2 letter.\n",
        "    tweet = re.sub(sequencePattern, seqReplacePattern, tweet)\n",
        "\n",
        "    # Replace all emojis.\n",
        "    tweet = re.sub(r'<3', '<heart>', tweet)\n",
        "    tweet = re.sub(smileemoji, '<smile>', tweet)\n",
        "    tweet = re.sub(sademoji, '<sadface>', tweet)\n",
        "    tweet = re.sub(neutralemoji, '<neutralface>', tweet)\n",
        "    tweet = re.sub(lolemoji, '<lolface>', tweet)\n",
        "\n",
        "    for contraction, replacement in contractions_dict.items():\n",
        "        tweet = tweet.replace(contraction, replacement)\n",
        "\n",
        "    # Remove non-alphanumeric and symbols\n",
        "    tweet = re.sub(alphaPattern, ' ', tweet)\n",
        "\n",
        "    # Adding space on either side of '/' to seperate words (After replacing URLS).\n",
        "    tweet = re.sub(r'/', ' / ', tweet)\n",
        "    return tweet"
      ],
      "metadata": {
        "execution": {
          "iopub.status.busy": "2021-06-29T13:06:02.807173Z",
          "iopub.execute_input": "2021-06-29T13:06:02.807474Z",
          "iopub.status.idle": "2021-06-29T13:06:02.830966Z",
          "shell.execute_reply.started": "2021-06-29T13:06:02.807447Z",
          "shell.execute_reply": "2021-06-29T13:06:02.829921Z"
        },
        "trusted": true,
        "id": "aslFTkZU47v9"
      },
      "execution_count": 12,
      "outputs": []
    },
    {
      "cell_type": "markdown",
      "source": [
        "Cleaning up the tweet text and storing it in **\"processed_text\"** field in the dataframe."
      ],
      "metadata": {
        "id": "lK2Y77Uw47v9"
      }
    },
    {
      "cell_type": "code",
      "source": [
        "%%time\n",
        "dataset['processed_text'] = dataset.text.apply(preprocess_apply)"
      ],
      "metadata": {
        "execution": {
          "iopub.status.busy": "2021-06-29T13:06:05.496876Z",
          "iopub.execute_input": "2021-06-29T13:06:05.497503Z",
          "iopub.status.idle": "2021-06-29T13:08:24.755228Z",
          "shell.execute_reply.started": "2021-06-29T13:06:05.497465Z",
          "shell.execute_reply": "2021-06-29T13:08:24.7544Z"
        },
        "trusted": true,
        "id": "FLDOVQsj47v9",
        "colab": {
          "base_uri": "https://localhost:8080/"
        },
        "outputId": "4b7fb001-fda5-464e-cc52-eae10ee84b33"
      },
      "execution_count": 13,
      "outputs": [
        {
          "output_type": "stream",
          "name": "stdout",
          "text": [
            "CPU times: user 1min 4s, sys: 265 ms, total: 1min 4s\n",
            "Wall time: 1min 5s\n"
          ]
        }
      ]
    },
    {
      "cell_type": "markdown",
      "source": [
        "Let's have a look and see what the processed text looks like."
      ],
      "metadata": {
        "id": "i3sf9s9Y47v9"
      }
    },
    {
      "cell_type": "code",
      "source": [
        "count=0\n",
        "for row in dataset.itertuples():\n",
        "    print(\"Text:\", row[2])\n",
        "    print(\"Processed:\", row[3])\n",
        "    count+=1\n",
        "    if count>10:\n",
        "        break"
      ],
      "metadata": {
        "execution": {
          "iopub.status.busy": "2021-06-28T16:33:02.758463Z",
          "iopub.execute_input": "2021-06-28T16:33:02.758779Z",
          "iopub.status.idle": "2021-06-28T16:33:02.767372Z",
          "shell.execute_reply.started": "2021-06-28T16:33:02.758748Z",
          "shell.execute_reply": "2021-06-28T16:33:02.766275Z"
        },
        "trusted": true,
        "id": "wBtRzfqY47v9"
      },
      "execution_count": null,
      "outputs": []
    },
    {
      "cell_type": "markdown",
      "source": [
        "## <a id=\"4\">Analysing the Data</a>\n",
        "Now we're going to analyse the preprocessed data to get an understanding of it. We'll plot **Word Clouds** for **Positive and Negative** tweets from our dataset and see which words occur the most."
      ],
      "metadata": {
        "id": "q8ZNf6Cp47v-"
      }
    },
    {
      "cell_type": "code",
      "source": [
        "processedtext = list(dataset['processed_text'])\n",
        "data_pos = processedtext[800000:]\n",
        "data_neg = processedtext[:800000]"
      ],
      "metadata": {
        "execution": {
          "iopub.status.busy": "2021-06-28T16:33:02.768936Z",
          "iopub.execute_input": "2021-06-28T16:33:02.769309Z",
          "iopub.status.idle": "2021-06-28T16:33:03.015418Z",
          "shell.execute_reply.started": "2021-06-28T16:33:02.769274Z",
          "shell.execute_reply": "2021-06-28T16:33:03.014257Z"
        },
        "trusted": true,
        "id": "JhlnpHgb47v-"
      },
      "execution_count": null,
      "outputs": []
    },
    {
      "cell_type": "markdown",
      "source": [
        "### Word-Cloud for Positive tweets."
      ],
      "metadata": {
        "id": "RM4eIwUr47v-"
      }
    },
    {
      "cell_type": "code",
      "source": [
        "wc = WordCloud(max_words = 1000 , width = 1600 , height = 800,\n",
        "              collocations=False).generate(\" \".join(data_pos))\n",
        "plt.figure(figsize = (20,20))\n",
        "plt.imshow(wc)"
      ],
      "metadata": {
        "execution": {
          "iopub.status.busy": "2021-06-28T16:33:03.016742Z",
          "iopub.execute_input": "2021-06-28T16:33:03.017106Z",
          "iopub.status.idle": "2021-06-28T16:33:29.375415Z",
          "shell.execute_reply.started": "2021-06-28T16:33:03.017075Z",
          "shell.execute_reply": "2021-06-28T16:33:29.374327Z"
        },
        "trusted": true,
        "id": "2VY-HdEJ47v-"
      },
      "execution_count": null,
      "outputs": []
    },
    {
      "cell_type": "markdown",
      "source": [
        "### Word-Cloud for Negative tweets."
      ],
      "metadata": {
        "id": "p35kF4r447v-"
      }
    },
    {
      "cell_type": "code",
      "source": [
        "wc = WordCloud(max_words = 1000 , width = 1600 , height = 800,\n",
        "               collocations=False).generate(\" \".join(data_neg))\n",
        "plt.figure(figsize = (20,20))\n",
        "plt.imshow(wc)"
      ],
      "metadata": {
        "execution": {
          "iopub.status.busy": "2021-06-28T16:33:29.376949Z",
          "iopub.execute_input": "2021-06-28T16:33:29.377486Z",
          "iopub.status.idle": "2021-06-28T16:33:55.807451Z",
          "shell.execute_reply.started": "2021-06-28T16:33:29.377447Z",
          "shell.execute_reply": "2021-06-28T16:33:55.806387Z"
        },
        "trusted": true,
        "id": "jM9GM3F_47v-"
      },
      "execution_count": null,
      "outputs": []
    },
    {
      "cell_type": "markdown",
      "source": [
        "## <a id=\"5\">Splitting the Data</a>\n",
        "\n",
        "Machine Learning models are trained and tested on different sets of data. This is done so to reduce the chance of the model overfitting to the training data, i.e it fits well on the training dataset but a has poor fit with new ones.\n",
        "\n",
        "**sklearn.model_selection.train_test_split** shuffles the dataset and splits it into train and test dataset.\n",
        "\n",
        "The Pre-processed Data is divided into 2 sets of data:\n",
        "1. **Training Data:** The dataset upon which the model would be trained on. Contains 95% data.\n",
        "2. **Test Data:** The dataset upon which the model would be tested against. Contains 5% data."
      ],
      "metadata": {
        "id": "M-SGU0a_47v-"
      }
    },
    {
      "cell_type": "code",
      "source": [
        "from sklearn.model_selection import train_test_split"
      ],
      "metadata": {
        "execution": {
          "iopub.status.busy": "2021-06-29T13:08:24.757502Z",
          "iopub.execute_input": "2021-06-29T13:08:24.757812Z",
          "iopub.status.idle": "2021-06-29T13:08:24.993555Z",
          "shell.execute_reply.started": "2021-06-29T13:08:24.757782Z",
          "shell.execute_reply": "2021-06-29T13:08:24.992661Z"
        },
        "trusted": true,
        "id": "lmUUsUwj47v-"
      },
      "execution_count": null,
      "outputs": []
    },
    {
      "cell_type": "code",
      "source": [
        "X_data, y_data = np.array(dataset['processed_text']), np.array(dataset['sentiment'])\n",
        "\n",
        "X_train, X_test, y_train, y_test = train_test_split(X_data, y_data,\n",
        "                                                    test_size = 0.05, random_state = 0)\n",
        "print('Data Split done.')"
      ],
      "metadata": {
        "execution": {
          "iopub.status.busy": "2021-06-29T13:08:24.995288Z",
          "iopub.execute_input": "2021-06-29T13:08:24.995713Z",
          "iopub.status.idle": "2021-06-29T13:08:25.524539Z",
          "shell.execute_reply.started": "2021-06-29T13:08:24.995669Z",
          "shell.execute_reply": "2021-06-29T13:08:25.523335Z"
        },
        "trusted": true,
        "id": "_4eh7DeA47v_"
      },
      "execution_count": null,
      "outputs": []
    },
    {
      "cell_type": "markdown",
      "source": [
        "## <a id=\"6\">Creating Word Embeddings using Word2Vec model</a>\n",
        "\n",
        "**Word embedding** is one of the most popular representation of document vocabulary. It is capable of capturing context of a word in a document, semantic and syntactic similarity, relation with other words, etc. Loosely speaking, word embeddings are **vector representations** of a particular word.\n",
        "\n",
        "**Word2Vec** was developed by Google and is one of the most popular technique to learn word embeddings using shallow neural network.\n",
        "Word2Vec can create word embeddings using two methods (both involving Neural Networks): **Skip Gram** and **Common Bag Of Words (CBOW)**.\n",
        "\n",
        "To learn more about Word2Vec and Word embeddings check out this [article](https://towardsdatascience.com/introduction-to-word-embedding-and-word2vec-652d0c2060fa)."
      ],
      "metadata": {
        "id": "21ysuNPD47v_"
      }
    },
    {
      "cell_type": "code",
      "source": [
        "from gensim.models import Word2Vec\n",
        "\n",
        "Embedding_dimensions = 100\n",
        "\n",
        "# Creating Word2Vec training dataset.\n",
        "Word2vec_train_data = list(map(lambda x: x.split(), X_train))"
      ],
      "metadata": {
        "execution": {
          "iopub.status.busy": "2021-06-29T13:08:25.527434Z",
          "iopub.execute_input": "2021-06-29T13:08:25.527737Z",
          "iopub.status.idle": "2021-06-29T13:08:32.028887Z",
          "shell.execute_reply.started": "2021-06-29T13:08:25.527709Z",
          "shell.execute_reply": "2021-06-29T13:08:32.027638Z"
        },
        "trusted": true,
        "id": "QBbe8TGq47v_"
      },
      "execution_count": null,
      "outputs": []
    },
    {
      "cell_type": "markdown",
      "source": [
        "**Word2Vec()** function creates and trains the word embeddings using the data passed.\n",
        "\n",
        "**Training Parameters**\n",
        "* **size:** The number of dimensions (N) that the Word2Vec maps the words onto. Bigger size values require more training data, but can lead to better (more accurate) models.\n",
        "* **workers:** Specifies the number of worker threads for training parallelization, to speed up training.\n",
        "* **min_count:** min_count is for pruning the internal dictionary. Words that appear only once or twice in a billion-word corpus are probably uninteresting typos and garbage. In addition, there’s not enough data to make any meaningful training on those words, so it’s best to ignore them."
      ],
      "metadata": {
        "id": "os4oJ3L047v_"
      }
    },
    {
      "cell_type": "code",
      "source": [
        "%%time\n",
        "\n",
        "# Defining the model and training it.\n",
        "word2vec_model = Word2Vec(Word2vec_train_data,\n",
        "                 vector_size=Embedding_dimensions,\n",
        "                 workers=8,\n",
        "                 min_count=5)\n",
        "\n",
        "print(\"Vocabulary Length:\", len(word2vec_model.wv.key_to_index))"
      ],
      "metadata": {
        "execution": {
          "iopub.status.busy": "2021-06-29T13:12:13.163476Z",
          "iopub.execute_input": "2021-06-29T13:12:13.163851Z",
          "iopub.status.idle": "2021-06-29T13:14:05.70096Z",
          "shell.execute_reply.started": "2021-06-29T13:12:13.163821Z",
          "shell.execute_reply": "2021-06-29T13:14:05.699622Z"
        },
        "trusted": true,
        "id": "L-Tzszwv47v_"
      },
      "execution_count": null,
      "outputs": []
    },
    {
      "cell_type": "markdown",
      "source": [
        "## <a id=\"7\">Tokenizing and Padding datasets</a>\n",
        "\n",
        "**Tokenization** is a common task in **Natural Language Processing (NLP)**. It’s a fundamental step in both traditional NLP methods like **Count Vectorizer** and Advanced Deep Learning-based architectures like **Transformers**.\n",
        "\n",
        "**Tokenization** is a way of separating a piece of text into smaller units called **tokens**. Here, tokens can be either words, characters, or subwords. Hence, tokenization can be broadly classified into 3 types – word, character, and subword (n-gram characters) tokenization.\n",
        "\n",
        "All the neural networks require to have inputs that have the same shape and size. However, when we pre-process and use the texts as inputs for our model e.g. LSTM, not all the sentences have the same length. We need to have the inputs with the same size, this is where the **padding** is necessary.\n",
        "\n",
        "**Padding** is the process by which we can add padding tokens at the start or end of a sentence to increase it's length upto the required size. If required, we can also drop some words to reduce to the specified length.\n",
        "\n",
        "\n",
        "* **Tokenizer:** Tokenizes the dataset into a list of tokens.\n",
        "* **pad_sequences:** Pads the tokenized data to a certain length.\n",
        "\n",
        "The **input_length** has been set to 60. This will be the length after the data is tokenized and padded."
      ],
      "metadata": {
        "id": "ZtAEZD5047v_"
      }
    },
    {
      "cell_type": "code",
      "source": [
        "# Defining the model input length.\n",
        "input_length = 60\n",
        "\n",
        "from tensorflow.keras.preprocessing.text import Tokenizer\n",
        "from tensorflow.keras.preprocessing.sequence import pad_sequences"
      ],
      "metadata": {
        "execution": {
          "iopub.status.busy": "2021-06-29T13:08:32.031567Z",
          "iopub.execute_input": "2021-06-29T13:08:32.032036Z",
          "iopub.status.idle": "2021-06-29T13:08:37.438459Z",
          "shell.execute_reply.started": "2021-06-29T13:08:32.031989Z",
          "shell.execute_reply": "2021-06-29T13:08:37.437471Z"
        },
        "trusted": true,
        "id": "vMIwq9r047v_"
      },
      "execution_count": null,
      "outputs": []
    },
    {
      "cell_type": "markdown",
      "source": [
        "Defining the **Tokenizer** and fitting it on the training data. Here, we are tokenzing the data by spliting it up with the **delimiter space ' '**.\n",
        "\n",
        "**Args in Tokenizer():**\n",
        "1. **filters:** Characters to filter out from the sentences to tokenize.\n",
        "2. **lower:** True/False. Whether to lowerCase the sentence or not.\n",
        "3. **oov_token:** Out of Vocabulary token to put in for words which aren't in the tokenizer vocab.\n",
        "\n",
        "Filters and lower has been turned off because we've already done those steps during the preprocessing step."
      ],
      "metadata": {
        "id": "OS7RjqOy47v_"
      }
    },
    {
      "cell_type": "code",
      "source": [
        "vocab_length = 60000\n",
        "\n",
        "tokenizer = Tokenizer(filters=\"\", lower=False, oov_token=\"<oov>\")\n",
        "tokenizer.fit_on_texts(X_data)\n",
        "tokenizer.num_words = vocab_length\n",
        "print(\"Tokenizer vocab length:\", vocab_length)"
      ],
      "metadata": {
        "execution": {
          "iopub.status.busy": "2021-06-29T13:09:37.921282Z",
          "iopub.execute_input": "2021-06-29T13:09:37.921688Z",
          "iopub.status.idle": "2021-06-29T13:10:06.558739Z",
          "shell.execute_reply.started": "2021-06-29T13:09:37.921654Z",
          "shell.execute_reply": "2021-06-29T13:10:06.5578Z"
        },
        "trusted": true,
        "id": "as22OEp047wA"
      },
      "execution_count": null,
      "outputs": []
    },
    {
      "cell_type": "markdown",
      "source": [
        "Tokenizing the **X_train and X_test** dataset and padding them to the length **'input_length'**.\n",
        "\n",
        "The tokenized list is **pre-padded**, i.e padding tokens are added to the start. After padding, the length of the data would be equal to **'input_length'**."
      ],
      "metadata": {
        "id": "Qvb7gRAR47wA"
      }
    },
    {
      "cell_type": "code",
      "source": [
        "X_train = pad_sequences(tokenizer.texts_to_sequences(X_train), maxlen=input_length)\n",
        "X_test  = pad_sequences(tokenizer.texts_to_sequences(X_test) , maxlen=input_length)\n",
        "\n",
        "print(\"X_train.shape:\", X_train.shape)\n",
        "print(\"X_test.shape :\", X_test.shape)"
      ],
      "metadata": {
        "execution": {
          "iopub.status.busy": "2021-06-29T13:10:55.462544Z",
          "iopub.execute_input": "2021-06-29T13:10:55.462945Z",
          "iopub.status.idle": "2021-06-29T13:11:33.145899Z",
          "shell.execute_reply.started": "2021-06-29T13:10:55.462909Z",
          "shell.execute_reply": "2021-06-29T13:11:33.144903Z"
        },
        "trusted": true,
        "id": "RnF40Yjp47wA"
      },
      "execution_count": null,
      "outputs": []
    },
    {
      "cell_type": "markdown",
      "source": [
        "## <a id=\"8\">Creating Embedding Matrix</a>\n",
        "\n",
        "**Embedding Matrix** is a maxtrix of all words and their corresponding embeddings. We use embedding matrix in an **Embedding layer** in our model to embedded a token into it's vector representation, that contains information regarding that token or word.\n",
        "\n",
        "We get the embedding vocabulary from the tokenizer and the corresponding vectors from the Embedding Model, which in this case is the Word2Vec model.\n",
        "\n",
        "**Shape of Embedding matrix** is usually the **Vocab Length * Embedding Dimension.**\n"
      ],
      "metadata": {
        "id": "CecGGE0T47wA"
      }
    },
    {
      "cell_type": "code",
      "source": [
        "embedding_matrix = np.zeros((vocab_length, Embedding_dimensions))\n",
        "\n",
        "for word, token in tokenizer.word_index.items():\n",
        "    if word2vec_model.wv.__contains__(word):\n",
        "        embedding_matrix[token] = word2vec_model.wv.__getitem__(word)\n",
        "\n",
        "print(\"Embedding Matrix Shape:\", embedding_matrix.shape)"
      ],
      "metadata": {
        "execution": {
          "iopub.status.busy": "2021-06-29T13:14:05.703399Z",
          "iopub.execute_input": "2021-06-29T13:14:05.703861Z",
          "iopub.status.idle": "2021-06-29T13:14:06.278028Z",
          "shell.execute_reply.started": "2021-06-29T13:14:05.703816Z",
          "shell.execute_reply": "2021-06-29T13:14:06.277222Z"
        },
        "trusted": true,
        "id": "dvhMKVww47wA"
      },
      "execution_count": null,
      "outputs": []
    },
    {
      "cell_type": "markdown",
      "source": [
        "## <a id=\"9\">Creating the Model</a>\n",
        "\n",
        "There are different approches which we can use to build our Sentiment analysis model. We're going to build a deeplearning **Sequence model.**\n",
        "\n",
        "**Sequence model** are very good at getting the context of a sentence, since it can understand the meaning rather than employ techniques like counting positive or negative words like in a **Bag-of-Words model**."
      ],
      "metadata": {
        "id": "wUbGonKR47wB"
      }
    },
    {
      "cell_type": "code",
      "source": [
        "from tensorflow.keras import Sequential\n",
        "from tensorflow.keras.layers import Bidirectional, GlobalMaxPool1D, Dense, LSTM, Conv1D, Embedding"
      ],
      "metadata": {
        "execution": {
          "iopub.status.busy": "2021-06-29T13:14:06.279116Z",
          "iopub.execute_input": "2021-06-29T13:14:06.279538Z",
          "iopub.status.idle": "2021-06-29T13:14:06.28287Z",
          "shell.execute_reply.started": "2021-06-29T13:14:06.279508Z",
          "shell.execute_reply": "2021-06-29T13:14:06.282196Z"
        },
        "trusted": true,
        "id": "E5wYqX5k47wB"
      },
      "execution_count": null,
      "outputs": []
    },
    {
      "cell_type": "markdown",
      "source": [
        "### Model Architecture\n",
        "\n",
        "1) **Embedding Layer:** Layer responsible for converting the tokens into their vector representation that is generated by Word2Vec model. We're using the predefined layer from Tensorflow in out model.\n",
        "\n",
        "**Arguments -**\n",
        "* **input_dim**: Size of the vocabulary.\n",
        "* **output_dim**: Dimension of the dense embedding.\n",
        "* **weights**: Initiazises the embedding matrix.\n",
        "* **trainable**: Specifies whether the layer is trainable or not.\n",
        "\n",
        "2) **Bidirectional:** Bidirectional wrapper for RNNs. It means the context are carried from both left to right and right to left in the wrapped RNN layer.\n",
        "\n",
        "3) **LSTM:** **Long Short Term Memory**, its a variant of **RNN** which has memory state cell to learn the context of words which are at further along the text to carry contextual meaning rather than just neighbouring words as in case of RNN.\n",
        "\n",
        "**Arguments -**\n",
        "* **units:** Positive integer, dimensionality of the output space.\n",
        "* **dropout:**  Fraction of the units to drop for the linear transformation of the inputs.\n",
        "* **return_sequence:** Whether to return the last output in the output sequence, or the full sequence.\n",
        "\n",
        "4) **Conv1D:** This layer creates a convolution kernel that is convolved with the layer input over a single dimension to produce a tensor of outputs.\n",
        "\n",
        "**Arguments -**\n",
        "* **filters:** The dimensionality of the output space (i.e. the number of output filters in the convolution).\n",
        "* **kernel_size:** Specifies the length of the 1D convolution window.\n",
        "* **activation:** Specifies the activation function to use.\n",
        "\n",
        "5) **GlobalMaxPool1D:** Downsamples the input representation by taking the maximum value over the different dimensions.\n",
        "\n",
        "\n",
        "6) **Dense:** Dense layer adds a fully connected layer in the model. The argument passed specifies the number of nodes in that layer.\n",
        "\n",
        "The last dense layer has the activation **\"Sigmoid\"**, which is used to transform the input to a number between 0 and 1. Sigmoid activations are generally used when we have 2 categories to output in."
      ],
      "metadata": {
        "id": "RD21r2af47wB"
      }
    },
    {
      "cell_type": "code",
      "source": [
        "def getModel():\n",
        "    embedding_layer = Embedding(input_dim = vocab_length,\n",
        "                                output_dim = Embedding_dimensions,\n",
        "                                weights=[embedding_matrix],\n",
        "                                input_length=input_length,\n",
        "                                trainable=False)\n",
        "\n",
        "    model = Sequential([\n",
        "        embedding_layer,\n",
        "        Bidirectional(LSTM(100, dropout=0.3, return_sequences=True)),\n",
        "        Bidirectional(LSTM(100, dropout=0.3, return_sequences=True)),\n",
        "        Conv1D(100, 5, activation='relu'),\n",
        "        GlobalMaxPool1D(),\n",
        "        Dense(16, activation='relu'),\n",
        "        Dense(1, activation='sigmoid'),\n",
        "    ],\n",
        "    name=\"Sentiment_Model\")\n",
        "    return model"
      ],
      "metadata": {
        "execution": {
          "iopub.status.busy": "2021-06-29T13:14:06.283912Z",
          "iopub.execute_input": "2021-06-29T13:14:06.284296Z",
          "iopub.status.idle": "2021-06-29T13:14:06.298688Z",
          "shell.execute_reply.started": "2021-06-29T13:14:06.284268Z",
          "shell.execute_reply": "2021-06-29T13:14:06.297726Z"
        },
        "trusted": true,
        "id": "stivxKjG47wC"
      },
      "execution_count": null,
      "outputs": []
    },
    {
      "cell_type": "markdown",
      "source": [
        "### Model Summary"
      ],
      "metadata": {
        "id": "Y7oTxLFI47wC"
      }
    },
    {
      "cell_type": "code",
      "source": [
        "training_model = getModel()\n",
        "training_model.summary()"
      ],
      "metadata": {
        "execution": {
          "iopub.status.busy": "2021-06-29T13:14:06.301514Z",
          "iopub.execute_input": "2021-06-29T13:14:06.301847Z",
          "iopub.status.idle": "2021-06-29T13:14:07.476168Z",
          "shell.execute_reply.started": "2021-06-29T13:14:06.301815Z",
          "shell.execute_reply": "2021-06-29T13:14:07.47531Z"
        },
        "trusted": true,
        "id": "8OmIkAI947wC"
      },
      "execution_count": null,
      "outputs": []
    },
    {
      "cell_type": "markdown",
      "source": [
        "## <a id=\"10\">Training the Model</a>"
      ],
      "metadata": {
        "id": "NjgzPQjo47wC"
      }
    },
    {
      "cell_type": "markdown",
      "source": [
        "### Model Callbacks\n",
        "\n",
        "**Callbacks** are objects that can perform actions at various stages of training (e.g. at the start or end of an epoch, before or after a single batch, etc).\n",
        "\n",
        "We can use callbacks to write **TensorBoard logs** after every batch of training, periodically save our model, stop training early or even to get a view on internal states and statistics during training.\n",
        "\n",
        "**ReduceLROnPlateau:** Reduces Learning Rate whenever the gain in performance metric specified stops improving.\n",
        "\n",
        "* monitor: quantity to be monitored.\n",
        "* patience: number of epochs with no improvement after which learning rate will be reduced.\n",
        "* cooldown: number of epochs to wait before resuming normal operation after lr has been reduced.\n",
        "\n",
        "**EarlyStopping:** Stop training when a monitored metric has stopped improving.\n",
        "\n",
        "* monitor: Quantity to be monitored.\n",
        "* min_delta: Minimum change in the monitored quantity to qualify as an improvement, i.e. an absolute change of less than min_delta, will count as no improvement.\n",
        "* patience: Number of epochs with no improvement after which training will be stopped.\n",
        "\n",
        "For more details on callbacks, check out the [documentation](https://www.tensorflow.org/api_docs/python/tf/keras/callbacks/Callback) on tensorflow."
      ],
      "metadata": {
        "id": "dGdAD8lb47wC"
      }
    },
    {
      "cell_type": "code",
      "source": [
        "from tensorflow.keras.callbacks import ReduceLROnPlateau, EarlyStopping\n",
        "\n",
        "callbacks = [ReduceLROnPlateau(monitor='val_loss', patience=5, cooldown=0),\n",
        "             EarlyStopping(monitor='val_accuracy', min_delta=1e-4, patience=5)]"
      ],
      "metadata": {
        "execution": {
          "iopub.status.busy": "2021-06-29T13:14:07.477574Z",
          "iopub.execute_input": "2021-06-29T13:14:07.477861Z",
          "iopub.status.idle": "2021-06-29T13:14:07.483517Z",
          "shell.execute_reply.started": "2021-06-29T13:14:07.477832Z",
          "shell.execute_reply": "2021-06-29T13:14:07.482161Z"
        },
        "trusted": true,
        "id": "aOg7VEFf47wC"
      },
      "execution_count": null,
      "outputs": []
    },
    {
      "cell_type": "markdown",
      "source": [
        "### Model Compile\n",
        "\n",
        "The Model must be compiled to define the **loss, metrics and optimizer**. Defining the proper loss and metric is essential while training the model.\n",
        "\n",
        "**Loss:** We're using **Binary Crossentropy**. It is used when we have binary output categories. Check out this article on [losses](https://machinelearningmastery.com/how-to-choose-loss-functions-when-training-deep-learning-neural-networks/).\n",
        "\n",
        "**Metric:** We've selected **Accuracy** as it is one of the common evaluation metrics in classification problems when the category data is equal. Learn more about metrics [here](https://machinelearningmastery.com/custom-metrics-deep-learning-keras-python/).\n",
        "\n",
        "**Optimizer:** We're using **Adam**, optimization algorithm for Gradient Descent. You can learn more about Adam [here](https://www.tensorflow.org/api_docs/python/tf/keras/optimizers/Adam)."
      ],
      "metadata": {
        "id": "Id5RxXYv47wC"
      }
    },
    {
      "cell_type": "code",
      "source": [
        "training_model.compile(loss='binary_crossentropy', optimizer='adam', metrics=['accuracy'])"
      ],
      "metadata": {
        "execution": {
          "iopub.status.busy": "2021-06-29T13:14:07.484678Z",
          "iopub.execute_input": "2021-06-29T13:14:07.484943Z",
          "iopub.status.idle": "2021-06-29T13:14:07.509382Z",
          "shell.execute_reply.started": "2021-06-29T13:14:07.484917Z",
          "shell.execute_reply": "2021-06-29T13:14:07.508201Z"
        },
        "trusted": true,
        "id": "3ANyilKf47wC"
      },
      "execution_count": null,
      "outputs": []
    },
    {
      "cell_type": "markdown",
      "source": [
        "We'll now train our model using the **fit** method and store the output learning parameters in **history**, which can be used to plot out the learning curve.\n",
        "\n",
        "**Arguements:**\n",
        "* **batch_size:** Number of samples per gradient update. Increasing the batch_size speeds up the training.\n",
        "* **epochs:** Number of epochs to train the model. An epoch is an iteration over the entire x and y data provided.\n",
        "* **validation_split:** Float between 0 and 1. Fraction of the training data to be used as validation data. The model will set apart this fraction of the training data, will not train on it, and will evaluate the loss and any model metrics on this data at the end of each epoch\n",
        "* **callbacks:** List of callbacks to apply during training process.\n",
        "* **verbose:** 0, 1, or 2. Verbosity mode. 0 = silent, 1 = progress bar, 2 = one line per epoch."
      ],
      "metadata": {
        "id": "qqeSC5Hv47wC"
      }
    },
    {
      "cell_type": "code",
      "source": [
        "history = training_model.fit(\n",
        "    X_train, y_train,\n",
        "    batch_size=1024,\n",
        "    epochs=12,\n",
        "    validation_split=0.1,\n",
        "    callbacks=callbacks,\n",
        "    verbose=1,\n",
        ")"
      ],
      "metadata": {
        "execution": {
          "iopub.status.busy": "2021-06-29T13:14:07.511043Z",
          "iopub.execute_input": "2021-06-29T13:14:07.511342Z",
          "iopub.status.idle": "2021-06-29T13:14:17.593986Z",
          "shell.execute_reply.started": "2021-06-29T13:14:07.511314Z",
          "shell.execute_reply": "2021-06-29T13:14:17.590773Z"
        },
        "trusted": true,
        "id": "MiR_gm8s47wC"
      },
      "execution_count": null,
      "outputs": []
    },
    {
      "cell_type": "markdown",
      "source": [
        "## <a id=\"11\">Evaluating Model</a>\n",
        "\n",
        "Since our dataset is not **skewed**, i.e. it has equal number of **Positive and Negative Predictions**. We're choosing **Accuracy** as our evaluation metric. Furthermore, we're plotting the **Confusion Matrix** to get an understanding of how our model is performing on both classification types."
      ],
      "metadata": {
        "id": "SnCyj-SH47wC"
      }
    },
    {
      "cell_type": "markdown",
      "source": [
        "### Printing out the Learning curve\n",
        "\n",
        "Learning curves show the relationship between training set size and your chosen evaluation metric (e.g. RMSE, accuracy, etc.) on your training and validation sets. They can be an extremely useful tool when diagnosing your model performance, as they can tell you whether your model is suffering from bias or variance."
      ],
      "metadata": {
        "id": "cNwEmf8o47wD"
      }
    },
    {
      "cell_type": "code",
      "source": [
        "acc,  val_acc  = history.history['accuracy'], history.history['val_accuracy']\n",
        "loss, val_loss = history.history['loss'], history.history['val_loss']\n",
        "epochs = range(len(acc))\n",
        "\n",
        "plt.plot(epochs, acc, 'b', label='Training acc')\n",
        "plt.plot(epochs, val_acc, 'r', label='Validation acc')\n",
        "plt.title('Training and validation accuracy')\n",
        "plt.legend()\n",
        "\n",
        "plt.figure()\n",
        "\n",
        "plt.plot(epochs, loss, 'b', label='Training loss')\n",
        "plt.plot(epochs, val_loss, 'r', label='Validation loss')\n",
        "plt.title('Training and validation loss')\n",
        "plt.legend()\n",
        "\n",
        "plt.show()"
      ],
      "metadata": {
        "trusted": true,
        "id": "9hLTKq1x47wD"
      },
      "execution_count": null,
      "outputs": []
    },
    {
      "cell_type": "markdown",
      "source": [
        "From the training curve we can conclude that our model doesn't have bias nor is it overfitting. The accuracy curve has flattened but is still rising, which means training for more epochs can yield better results.\n",
        "\n",
        "The Validation loss is lower than the training loss because the dropouts in LSTM aren't active while evaluating the model."
      ],
      "metadata": {
        "id": "4k7P-58h47wD"
      }
    },
    {
      "cell_type": "markdown",
      "source": [
        "### Confusion Matrix"
      ],
      "metadata": {
        "id": "1XrTd2KZ47wD"
      }
    },
    {
      "cell_type": "code",
      "source": [
        "from sklearn.metrics import confusion_matrix, classification_report\n",
        "\n",
        "def ConfusionMatrix(y_pred, y_test):\n",
        "    # Compute and plot the Confusion matrix\n",
        "    cf_matrix = confusion_matrix(y_test, y_pred)\n",
        "\n",
        "    categories  = ['Negative','Positive']\n",
        "    group_names = ['True Neg','False Pos', 'False Neg','True Pos']\n",
        "    group_percentages = ['{0:.2%}'.format(value) for value in cf_matrix.flatten() / np.sum(cf_matrix)]\n",
        "\n",
        "    labels = [f'{v1}\\n{v2}' for v1, v2 in zip(group_names,group_percentages)]\n",
        "    labels = np.asarray(labels).reshape(2,2)\n",
        "\n",
        "    sns.heatmap(cf_matrix, annot = labels, cmap = 'Blues',fmt = '',\n",
        "                xticklabels = categories, yticklabels = categories)\n",
        "\n",
        "    plt.xlabel(\"Predicted values\", fontdict = {'size':14}, labelpad = 10)\n",
        "    plt.ylabel(\"Actual values\"   , fontdict = {'size':14}, labelpad = 10)\n",
        "    plt.title (\"Confusion Matrix\", fontdict = {'size':18}, pad = 20)"
      ],
      "metadata": {
        "trusted": true,
        "id": "cN-mZbso47wD"
      },
      "execution_count": null,
      "outputs": []
    },
    {
      "cell_type": "code",
      "source": [
        "# Predicting on the Test dataset.\n",
        "y_pred = training_model.predict(X_test)\n",
        "\n",
        "# Converting prediction to reflect the sentiment predicted.\n",
        "y_pred = np.where(y_pred>=0.5, 1, 0)\n",
        "\n",
        "# Printing out the Evaluation metrics.\n",
        "ConfusionMatrix(y_pred, y_test)"
      ],
      "metadata": {
        "trusted": true,
        "id": "WjWjJC5u47wD"
      },
      "execution_count": null,
      "outputs": []
    },
    {
      "cell_type": "markdown",
      "source": [
        "From the confusion matrix, it can be concluded that the model makes more False Negative predictions than positive. This means that the model is **somewhat biased** towards predicting negative sentiment."
      ],
      "metadata": {
        "id": "0WYjJjIH47wD"
      }
    },
    {
      "cell_type": "markdown",
      "source": [
        "### Classification Report"
      ],
      "metadata": {
        "id": "CyOpES7T47wD"
      }
    },
    {
      "cell_type": "code",
      "source": [
        "# Print the evaluation metrics for the dataset.\n",
        "print(classification_report(y_test, y_pred))"
      ],
      "metadata": {
        "trusted": true,
        "id": "RjX91p8j47wD"
      },
      "execution_count": null,
      "outputs": []
    },
    {
      "cell_type": "markdown",
      "source": [
        "Using the classification report, we can see that that the model achieves nearly **85% Accuracy** after training for just **12 epochs.** This is really good and better than most other models achieve."
      ],
      "metadata": {
        "id": "17P_5n8g47wD"
      }
    },
    {
      "cell_type": "markdown",
      "source": [
        "## <a id=\"12\">Saving the Model</a>\n",
        "\n",
        "We're saving the **tokenizer, Word2Vec and Tensorflow model** for use later.\n",
        "\n",
        "**Word2Vec model** has been saved as 2 different formats:\n",
        "1. **KeyedVectors:** KeyedVectors do not support further training. On the other hand, by shedding the internal data structures necessary for training, KeyedVectors offer a smaller RAM footprint and a simpler interface.\n",
        "2. **Full Word2Vec Model:** The Full Word2Vec model contains the model state to enable further training. Saving in this format enables us to update the Vectors later."
      ],
      "metadata": {
        "id": "aAZ760Ci47wD"
      }
    },
    {
      "cell_type": "code",
      "source": [
        "# Saving Word2Vec-Model\n",
        "word2vec_model.wv.save('Word2Vec-twitter-100')\n",
        "word2vec_model.wv.save_word2vec_format('Word2Vec-twitter-100-trainable')\n",
        "\n",
        "# Saving the tokenizer\n",
        "with open('Tokenizer.pickle', 'wb') as file:\n",
        "    pickle.dump(tokenizer, file)\n",
        "\n",
        "# Saving the TF-Model.\n",
        "training_model.save('Sentiment-BiLSTM')\n",
        "training_model.save_weights(\"Model Weights/weights\")"
      ],
      "metadata": {
        "execution": {
          "iopub.status.busy": "2021-06-29T13:17:51.558411Z",
          "iopub.execute_input": "2021-06-29T13:17:51.55899Z",
          "iopub.status.idle": "2021-06-29T13:17:51.628495Z",
          "shell.execute_reply.started": "2021-06-29T13:17:51.558955Z",
          "shell.execute_reply": "2021-06-29T13:17:51.627658Z"
        },
        "trusted": true,
        "id": "Ydpf2B0r47wD"
      },
      "execution_count": null,
      "outputs": []
    }
  ]
}